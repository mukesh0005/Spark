{
 "cells": [
  {
   "cell_type": "code",
   "execution_count": 1,
   "metadata": {},
   "outputs": [],
   "source": [
    "from pyspark.sql import SparkSession\n",
    "\n",
    "spark = SparkSession.builder.appName('DataFrames').getOrCreate()\n",
    "sc =spark.sparkContext"
   ]
  },
  {
   "cell_type": "markdown",
   "metadata": {},
   "source": [
    "- In memory and temporary\n",
    "- have aggregated functions\n",
    "- schema enforcement\n",
    "- each column has a definate data type"
   ]
  },
  {
   "cell_type": "code",
   "execution_count": 2,
   "metadata": {},
   "outputs": [
    {
     "name": "stdout",
     "output_type": "stream",
     "text": [
      "+--------+--------------------+----------------+----------+--------------+--------------------+\n",
      "|Order ID|             Product|Quantity Ordered|Price Each|    Order Date|    Purchase Address|\n",
      "+--------+--------------------+----------------+----------+--------------+--------------------+\n",
      "|  176558|USB-C Charging Cable|               2|     11.95|04/19/19 08:46|917 1st St, Dalla...|\n",
      "|    NULL|                NULL|            NULL|      NULL|          NULL|                NULL|\n",
      "|  176559|Bose SoundSport H...|               1|     99.99|04/07/19 22:30|682 Chestnut St, ...|\n",
      "|  176560|        Google Phone|               1|     600.0|04/12/19 14:38|669 Spruce St, Lo...|\n",
      "|  176560|    Wired Headphones|               1|     11.99|04/12/19 14:38|669 Spruce St, Lo...|\n",
      "|  176561|    Wired Headphones|               1|     11.99|04/30/19 09:27|333 8th St, Los A...|\n",
      "|  176562|USB-C Charging Cable|               1|     11.95|04/29/19 13:03|381 Wilson St, Sa...|\n",
      "|  176563|Bose SoundSport H...|               1|     99.99|04/02/19 07:46|668 Center St, Se...|\n",
      "|  176564|USB-C Charging Cable|               1|     11.95|04/12/19 10:58|790 Ridge St, Atl...|\n",
      "|  176565|  Macbook Pro Laptop|               1|    1700.0|04/24/19 10:38|915 Willow St, Sa...|\n",
      "|  176566|    Wired Headphones|               1|     11.99|04/08/19 14:05|83 7th St, Boston...|\n",
      "|  176567|        Google Phone|               1|     600.0|04/18/19 17:18|444 7th St, Los A...|\n",
      "|  176568|Lightning Chargin...|               1|     14.95|04/15/19 12:18|438 Elm St, Seatt...|\n",
      "|  176569|27in 4K Gaming Mo...|               1|    389.99|04/16/19 19:23|657 Hill St, Dall...|\n",
      "|  176570|AA Batteries (4-p...|               1|      3.84|04/22/19 15:09|186 12th St, Dall...|\n",
      "|  176571|Lightning Chargin...|               1|     14.95|04/19/19 14:29|253 Johnson St, A...|\n",
      "|  176572|Apple Airpods Hea...|               1|     150.0|04/04/19 20:30|149 Dogwood St, N...|\n",
      "|  176573|USB-C Charging Cable|               1|     11.95|04/27/19 18:41|214 Chestnut St, ...|\n",
      "|  176574|        Google Phone|               1|     600.0|04/03/19 19:42|20 Hill St, Los A...|\n",
      "|  176574|USB-C Charging Cable|               1|     11.95|04/03/19 19:42|20 Hill St, Los A...|\n",
      "+--------+--------------------+----------------+----------+--------------+--------------------+\n",
      "only showing top 20 rows\n",
      "\n"
     ]
    }
   ],
   "source": [
    "df = spark.read.option('delimiter',\",\").csv('./data/SalesAnalysis.csv',header=True,inferSchema = True)\n",
    "df.show()"
   ]
  },
  {
   "cell_type": "code",
   "execution_count": 3,
   "metadata": {},
   "outputs": [
    {
     "name": "stdout",
     "output_type": "stream",
     "text": [
      "root\n",
      " |-- Order ID: integer (nullable = true)\n",
      " |-- Product: string (nullable = true)\n",
      " |-- Quantity Ordered: integer (nullable = true)\n",
      " |-- Price Each: double (nullable = true)\n",
      " |-- Order Date: string (nullable = true)\n",
      " |-- Purchase Address: string (nullable = true)\n",
      "\n"
     ]
    }
   ],
   "source": [
    "df.printSchema()"
   ]
  },
  {
   "cell_type": "code",
   "execution_count": 4,
   "metadata": {},
   "outputs": [],
   "source": [
    "from pyspark.sql.types import StructType,StructField,IntegerType,StringType\n",
    "in_file_schema = StructType([\n",
    "    StructField(\"Order ID\",IntegerType(),True),\n",
    "    StructField(\"Product\",StringType(),True),\n",
    "    StructField(\"Quantity Ordered\",IntegerType(),True),\n",
    "    StructField(\"Price Each\",IntegerType(),True),\n",
    "    StructField(\"Order Date\",IntegerType(),True),\n",
    "    StructField(\"Purchase Address\",StringType(),True)\n",
    "])"
   ]
  },
  {
   "cell_type": "code",
   "execution_count": 5,
   "metadata": {},
   "outputs": [
    {
     "name": "stdout",
     "output_type": "stream",
     "text": [
      "+--------+--------------------+----------------+----------+----------+--------------------+\n",
      "|Order ID|             Product|Quantity Ordered|Price Each|Order Date|    Purchase Address|\n",
      "+--------+--------------------+----------------+----------+----------+--------------------+\n",
      "|  176558|USB-C Charging Cable|               2|      NULL|      NULL|917 1st St, Dalla...|\n",
      "|    NULL|                NULL|            NULL|      NULL|      NULL|                NULL|\n",
      "|  176559|Bose SoundSport H...|               1|      NULL|      NULL|682 Chestnut St, ...|\n",
      "|  176560|        Google Phone|               1|       600|      NULL|669 Spruce St, Lo...|\n",
      "|  176560|    Wired Headphones|               1|      NULL|      NULL|669 Spruce St, Lo...|\n",
      "|  176561|    Wired Headphones|               1|      NULL|      NULL|333 8th St, Los A...|\n",
      "|  176562|USB-C Charging Cable|               1|      NULL|      NULL|381 Wilson St, Sa...|\n",
      "|  176563|Bose SoundSport H...|               1|      NULL|      NULL|668 Center St, Se...|\n",
      "|  176564|USB-C Charging Cable|               1|      NULL|      NULL|790 Ridge St, Atl...|\n",
      "|  176565|  Macbook Pro Laptop|               1|      1700|      NULL|915 Willow St, Sa...|\n",
      "|  176566|    Wired Headphones|               1|      NULL|      NULL|83 7th St, Boston...|\n",
      "|  176567|        Google Phone|               1|       600|      NULL|444 7th St, Los A...|\n",
      "|  176568|Lightning Chargin...|               1|      NULL|      NULL|438 Elm St, Seatt...|\n",
      "|  176569|27in 4K Gaming Mo...|               1|      NULL|      NULL|657 Hill St, Dall...|\n",
      "|  176570|AA Batteries (4-p...|               1|      NULL|      NULL|186 12th St, Dall...|\n",
      "|  176571|Lightning Chargin...|               1|      NULL|      NULL|253 Johnson St, A...|\n",
      "|  176572|Apple Airpods Hea...|               1|       150|      NULL|149 Dogwood St, N...|\n",
      "|  176573|USB-C Charging Cable|               1|      NULL|      NULL|214 Chestnut St, ...|\n",
      "|  176574|        Google Phone|               1|       600|      NULL|20 Hill St, Los A...|\n",
      "|  176574|USB-C Charging Cable|               1|      NULL|      NULL|20 Hill St, Los A...|\n",
      "+--------+--------------------+----------------+----------+----------+--------------------+\n",
      "only showing top 20 rows\n",
      "\n"
     ]
    }
   ],
   "source": [
    "df = spark.read.csv('./data/SalesAnalysis.csv',header=True,inferSchema = True,schema=in_file_schema)\n",
    "df.show()"
   ]
  },
  {
   "cell_type": "code",
   "execution_count": 6,
   "metadata": {},
   "outputs": [
    {
     "name": "stdout",
     "output_type": "stream",
     "text": [
      "root\n",
      " |-- Order ID: integer (nullable = true)\n",
      " |-- Product: string (nullable = true)\n",
      " |-- Quantity Ordered: integer (nullable = true)\n",
      " |-- Price Each: integer (nullable = true)\n",
      " |-- Order Date: integer (nullable = true)\n",
      " |-- Purchase Address: string (nullable = true)\n",
      "\n"
     ]
    }
   ],
   "source": [
    "df.printSchema()"
   ]
  },
  {
   "cell_type": "code",
   "execution_count": 7,
   "metadata": {},
   "outputs": [
    {
     "name": "stdout",
     "output_type": "stream",
     "text": [
      "+------------------+------+----------+\n",
      "|    account_number|amount|  datetime|\n",
      "+------------------+------+----------+\n",
      "|GSHP69974285041169| -9034|2022-09-08|\n",
      "|LVTT31407534039456| -2952|2022-04-02|\n",
      "|RJSO40371783238228|  3405|2022-05-02|\n",
      "|UOIH17449189991636| -4049|2022-10-07|\n",
      "|FBXP58394333953676| -4157|2022-06-22|\n",
      "|QGOZ77832068336993|   927|2022-08-30|\n",
      "|GYUV35083145696797|  1141|2022-09-16|\n",
      "|QTDR82759027697693| -4007|2022-05-24|\n",
      "|JUHT34822041952317| -9365|2022-05-06|\n",
      "|VTDD61848346661625|  2876|2022-02-26|\n",
      "|SMHV03707065634664|   688|2022-10-04|\n",
      "|OZKO18032288972878| -4953|2022-01-11|\n",
      "|UTNV10141922412942| -6721|2022-09-22|\n",
      "|LUWG85866520744371|  8803|2022-06-29|\n",
      "|QJBG57598735642013|   367|2022-10-04|\n",
      "|WZIW26836360947357| -1489|2022-04-21|\n",
      "|FSXA86319779917884| -1240|2022-08-25|\n",
      "|NCPS87127445310431|  1947|2022-02-02|\n",
      "|PZMT98263913720790| -2758|2022-08-02|\n",
      "|SGTO99755660979428|  3530|2022-03-17|\n",
      "+------------------+------+----------+\n",
      "only showing top 20 rows\n",
      "\n"
     ]
    }
   ],
   "source": [
    "df = spark.read.parquet('./data/transactions.parquet')\n",
    "df.show()"
   ]
  },
  {
   "cell_type": "code",
   "execution_count": 8,
   "metadata": {},
   "outputs": [
    {
     "name": "stdout",
     "output_type": "stream",
     "text": [
      "root\n",
      " |-- account_number: string (nullable = true)\n",
      " |-- amount: long (nullable = true)\n",
      " |-- datetime: date (nullable = true)\n",
      "\n"
     ]
    }
   ],
   "source": [
    "df.printSchema()"
   ]
  },
  {
   "cell_type": "code",
   "execution_count": 10,
   "metadata": {},
   "outputs": [
    {
     "name": "stdout",
     "output_type": "stream",
     "text": [
      "+--------------------+\n",
      "|                quiz|\n",
      "+--------------------+\n",
      "|{{{12, [10, 11, 1...|\n",
      "+--------------------+\n",
      "\n"
     ]
    }
   ],
   "source": [
    "df = spark.read.json('./data/example_2.json',multiLine=True)\n",
    "df.show()"
   ]
  },
  {
   "cell_type": "code",
   "execution_count": 11,
   "metadata": {},
   "outputs": [
    {
     "name": "stdout",
     "output_type": "stream",
     "text": [
      "root\n",
      " |-- quiz: struct (nullable = true)\n",
      " |    |-- maths: struct (nullable = true)\n",
      " |    |    |-- q1: struct (nullable = true)\n",
      " |    |    |    |-- answer: string (nullable = true)\n",
      " |    |    |    |-- options: array (nullable = true)\n",
      " |    |    |    |    |-- element: string (containsNull = true)\n",
      " |    |    |    |-- question: string (nullable = true)\n",
      " |    |    |-- q2: struct (nullable = true)\n",
      " |    |    |    |-- answer: string (nullable = true)\n",
      " |    |    |    |-- options: array (nullable = true)\n",
      " |    |    |    |    |-- element: string (containsNull = true)\n",
      " |    |    |    |-- question: string (nullable = true)\n",
      " |    |-- sport: struct (nullable = true)\n",
      " |    |    |-- q1: struct (nullable = true)\n",
      " |    |    |    |-- answer: string (nullable = true)\n",
      " |    |    |    |-- options: array (nullable = true)\n",
      " |    |    |    |    |-- element: string (containsNull = true)\n",
      " |    |    |    |-- question: string (nullable = true)\n",
      "\n"
     ]
    }
   ],
   "source": [
    "df.printSchema()"
   ]
  }
 ],
 "metadata": {
  "kernelspec": {
   "display_name": "DEV",
   "language": "python",
   "name": "python3"
  },
  "language_info": {
   "codemirror_mode": {
    "name": "ipython",
    "version": 3
   },
   "file_extension": ".py",
   "mimetype": "text/x-python",
   "name": "python",
   "nbconvert_exporter": "python",
   "pygments_lexer": "ipython3",
   "version": "3.11.5"
  }
 },
 "nbformat": 4,
 "nbformat_minor": 2
}

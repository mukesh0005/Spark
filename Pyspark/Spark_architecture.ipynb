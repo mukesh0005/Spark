{
 "cells": [
  {
   "cell_type": "markdown",
   "metadata": {},
   "source": [
    "## Spark Architecture"
   ]
  },
  {
   "cell_type": "markdown",
   "metadata": {},
   "source": [
    "- in memory processing\n",
    "- distributed computing enginee\n",
    "- master/slave \n",
    "- loosely coupled\n",
    "- Driver >> cluster_manager >> worker node ( executor)"
   ]
  },
  {
   "cell_type": "markdown",
   "metadata": {},
   "source": [
    "2 to 8 worker nodes ( general )\n",
    "any num of executors can be created \n",
    "- parallel processing in executors\n",
    "- all the cores and memory is equally distributed among executors\n",
    "* no of partitions = n * (no of cores)\n"
   ]
  },
  {
   "cell_type": "markdown",
   "metadata": {},
   "source": [
    "### On-heap Vs Off-heap"
   ]
  },
  {
   "cell_type": "markdown",
   "metadata": {},
   "source": [
    "- on-heap == JVM (executor) small data - higher performance \n",
    "- off-heap == OS control "
   ]
  },
  {
   "cell_type": "markdown",
   "metadata": {},
   "source": [
    "- On-heap memory = unified memory + user memory\n",
    "- Unified memory = executor memory + storage memory\n",
    "- user memory = for storing data structures created by user\n",
    "- execution memory = memory used by ds using shuffle\n",
    "- storage =  cached data\n",
    "- GC is involved"
   ]
  },
  {
   "cell_type": "markdown",
   "metadata": {},
   "source": [
    "Garbage Collection: Objects in on-heap memory are subject to garbage collection (GC). The JVM automatically reclaims memory from objects that are no longer in use, but this can introduce GC pauses, which can negatively impact performance."
   ]
  },
  {
   "cell_type": "code",
   "execution_count": null,
   "metadata": {},
   "outputs": [],
   "source": [
    "# enabling off- heap\n",
    "spark.sql.tungsten.enabled=true\n",
    "spark.sql.inMemoryColumnarStorage.offHeap=true\n",
    "spark.sql.inMemoryColumnarStorage.batchSize=10000\n"
   ]
  },
  {
   "cell_type": "code",
   "execution_count": null,
   "metadata": {},
   "outputs": [],
   "source": [
    "# control  the off heap memory allocating to executor\n",
    "spark.executor.memoryOverhead=1024\n",
    "spark.memory.offHeap.use = True\n",
    "spark.memory.offHeap.size = "
   ]
  },
  {
   "cell_type": "markdown",
   "metadata": {},
   "source": [
    "- Memory overhead can be controlled for drivers as well as executor"
   ]
  },
  {
   "cell_type": "code",
   "execution_count": null,
   "metadata": {},
   "outputs": [],
   "source": [
    "spark.executor.memory=4g\n",
    "spark.executor.memoryOverhead=1g\n",
    "spark.driver.memory=4g\n",
    "spark.driver.memoryOverhead=1g\n"
   ]
  }
 ],
 "metadata": {
  "kernelspec": {
   "display_name": "DEV",
   "language": "python",
   "name": "python3"
  },
  "language_info": {
   "name": "python",
   "version": "3.11.11"
  }
 },
 "nbformat": 4,
 "nbformat_minor": 2
}

{
 "cells": [
  {
   "cell_type": "markdown",
   "metadata": {},
   "source": [
    "## Spark Architecture"
   ]
  },
  {
   "cell_type": "markdown",
   "metadata": {},
   "source": [
    "- in memory processing\n",
    "- distributed computing enginee\n",
    "- master/slave \n",
    "- loosely coupled\n",
    "- Driver >> cluster_manager >> worker node ( executor)"
   ]
  },
  {
   "cell_type": "markdown",
   "metadata": {},
   "source": [
    "2 to 8 worker nodes ( general )\n",
    "any num of executors can be created \n",
    "- parallel processing in executors\n",
    "- all the cores and memory is equally distributed among executors\n",
    "* no of partitions = n * (no of cores)\n"
   ]
  }
 ],
 "metadata": {
  "language_info": {
   "name": "python"
  }
 },
 "nbformat": 4,
 "nbformat_minor": 2
}

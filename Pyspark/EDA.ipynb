{
 "cells": [
  {
   "cell_type": "markdown",
   "metadata": {},
   "source": [
    "## Exploratory data analysis using PYspark"
   ]
  },
  {
   "cell_type": "code",
   "execution_count": 2,
   "metadata": {},
   "outputs": [],
   "source": [
    "from pyspark.sql import SparkSession;\n",
    "from pyspark.context import SparkContext;\n",
    "spark = SparkSession \\\n",
    "    .builder \\\n",
    "    .appName(\"Exploratory Data analysis\") \\\n",
    "    .getOrCreate()\n",
    "\n",
    "sc = spark.sparkContext"
   ]
  },
  {
   "cell_type": "code",
   "execution_count": 4,
   "metadata": {},
   "outputs": [
    {
     "name": "stdout",
     "output_type": "stream",
     "text": [
      "+--------+--------------------+----------------+----------+--------------+--------------------+\n",
      "|Order ID|             Product|Quantity Ordered|Price Each|    Order Date|    Purchase Address|\n",
      "+--------+--------------------+----------------+----------+--------------+--------------------+\n",
      "|  176558|USB-C Charging Cable|               2|     11.95|04/19/19 08:46|917 1st St, Dalla...|\n",
      "|    NULL|                NULL|            NULL|      NULL|          NULL|                NULL|\n",
      "|  176559|Bose SoundSport H...|               1|     99.99|04/07/19 22:30|682 Chestnut St, ...|\n",
      "|  176560|        Google Phone|               1|       600|04/12/19 14:38|669 Spruce St, Lo...|\n",
      "|  176560|    Wired Headphones|               1|     11.99|04/12/19 14:38|669 Spruce St, Lo...|\n",
      "|  176561|    Wired Headphones|               1|     11.99|04/30/19 09:27|333 8th St, Los A...|\n",
      "|  176562|USB-C Charging Cable|               1|     11.95|04/29/19 13:03|381 Wilson St, Sa...|\n",
      "|  176563|Bose SoundSport H...|               1|     99.99|04/02/19 07:46|668 Center St, Se...|\n",
      "|  176564|USB-C Charging Cable|               1|     11.95|04/12/19 10:58|790 Ridge St, Atl...|\n",
      "|  176565|  Macbook Pro Laptop|               1|      1700|04/24/19 10:38|915 Willow St, Sa...|\n",
      "|  176566|    Wired Headphones|               1|     11.99|04/08/19 14:05|83 7th St, Boston...|\n",
      "|  176567|        Google Phone|               1|       600|04/18/19 17:18|444 7th St, Los A...|\n",
      "|  176568|Lightning Chargin...|               1|     14.95|04/15/19 12:18|438 Elm St, Seatt...|\n",
      "|  176569|27in 4K Gaming Mo...|               1|    389.99|04/16/19 19:23|657 Hill St, Dall...|\n",
      "|  176570|AA Batteries (4-p...|               1|      3.84|04/22/19 15:09|186 12th St, Dall...|\n",
      "|  176571|Lightning Chargin...|               1|     14.95|04/19/19 14:29|253 Johnson St, A...|\n",
      "|  176572|Apple Airpods Hea...|               1|       150|04/04/19 20:30|149 Dogwood St, N...|\n",
      "|  176573|USB-C Charging Cable|               1|     11.95|04/27/19 18:41|214 Chestnut St, ...|\n",
      "|  176574|        Google Phone|               1|       600|04/03/19 19:42|20 Hill St, Los A...|\n",
      "|  176574|USB-C Charging Cable|               1|     11.95|04/03/19 19:42|20 Hill St, Los A...|\n",
      "+--------+--------------------+----------------+----------+--------------+--------------------+\n",
      "only showing top 20 rows\n",
      "\n"
     ]
    }
   ],
   "source": [
    "df = spark.read.csv('./data/SalesAnalysis.csv',header = True )\n",
    "df.show()"
   ]
  },
  {
   "cell_type": "code",
   "execution_count": 5,
   "metadata": {},
   "outputs": [
    {
     "name": "stdout",
     "output_type": "stream",
     "text": [
      "root\n",
      " |-- Order ID: string (nullable = true)\n",
      " |-- Product: string (nullable = true)\n",
      " |-- Quantity Ordered: string (nullable = true)\n",
      " |-- Price Each: string (nullable = true)\n",
      " |-- Order Date: string (nullable = true)\n",
      " |-- Purchase Address: string (nullable = true)\n",
      "\n"
     ]
    }
   ],
   "source": [
    "df.printSchema()"
   ]
  },
  {
   "cell_type": "code",
   "execution_count": 6,
   "metadata": {},
   "outputs": [],
   "source": [
    "from pyspark.sql.types import StructType, StructField, StringType, IntegerType, FloatType,TimestampType\n",
    "\n",
    "schema = StructType([StructField('Order ID', IntegerType(), True), \n",
    "                      StructField('Product', StringType(), True), \n",
    "                      StructField('Quantity Ordered', IntegerType(), True), \n",
    "                      StructField('Price Each', FloatType(), True),\n",
    "                      StructField('Order Date', TimestampType(), True),\n",
    "                      StructField('Purchase Address', StringType(), True)\n",
    "                     ])"
   ]
  },
  {
   "cell_type": "code",
   "execution_count": 7,
   "metadata": {},
   "outputs": [
    {
     "name": "stdout",
     "output_type": "stream",
     "text": [
      "+--------+--------------------+----------------+----------+----------+--------------------+\n",
      "|Order ID|             Product|Quantity Ordered|Price Each|Order Date|    Purchase Address|\n",
      "+--------+--------------------+----------------+----------+----------+--------------------+\n",
      "|  176558|USB-C Charging Cable|               2|     11.95|      NULL|917 1st St, Dalla...|\n",
      "|    NULL|                NULL|            NULL|      NULL|      NULL|                NULL|\n",
      "|  176559|Bose SoundSport H...|               1|     99.99|      NULL|682 Chestnut St, ...|\n",
      "|  176560|        Google Phone|               1|     600.0|      NULL|669 Spruce St, Lo...|\n",
      "|  176560|    Wired Headphones|               1|     11.99|      NULL|669 Spruce St, Lo...|\n",
      "|  176561|    Wired Headphones|               1|     11.99|      NULL|333 8th St, Los A...|\n",
      "|  176562|USB-C Charging Cable|               1|     11.95|      NULL|381 Wilson St, Sa...|\n",
      "|  176563|Bose SoundSport H...|               1|     99.99|      NULL|668 Center St, Se...|\n",
      "|  176564|USB-C Charging Cable|               1|     11.95|      NULL|790 Ridge St, Atl...|\n",
      "|  176565|  Macbook Pro Laptop|               1|    1700.0|      NULL|915 Willow St, Sa...|\n",
      "|  176566|    Wired Headphones|               1|     11.99|      NULL|83 7th St, Boston...|\n",
      "|  176567|        Google Phone|               1|     600.0|      NULL|444 7th St, Los A...|\n",
      "|  176568|Lightning Chargin...|               1|     14.95|      NULL|438 Elm St, Seatt...|\n",
      "|  176569|27in 4K Gaming Mo...|               1|    389.99|      NULL|657 Hill St, Dall...|\n",
      "|  176570|AA Batteries (4-p...|               1|      3.84|      NULL|186 12th St, Dall...|\n",
      "|  176571|Lightning Chargin...|               1|     14.95|      NULL|253 Johnson St, A...|\n",
      "|  176572|Apple Airpods Hea...|               1|     150.0|      NULL|149 Dogwood St, N...|\n",
      "|  176573|USB-C Charging Cable|               1|     11.95|      NULL|214 Chestnut St, ...|\n",
      "|  176574|        Google Phone|               1|     600.0|      NULL|20 Hill St, Los A...|\n",
      "|  176574|USB-C Charging Cable|               1|     11.95|      NULL|20 Hill St, Los A...|\n",
      "+--------+--------------------+----------------+----------+----------+--------------------+\n",
      "only showing top 20 rows\n",
      "\n"
     ]
    }
   ],
   "source": [
    "df = spark.read.csv('./data/SalesAnalysis.csv',header = True,schema = schema )\n",
    "df.show()"
   ]
  },
  {
   "cell_type": "code",
   "execution_count": 8,
   "metadata": {},
   "outputs": [
    {
     "name": "stdout",
     "output_type": "stream",
     "text": [
      "root\n",
      " |-- Order ID: integer (nullable = true)\n",
      " |-- Product: string (nullable = true)\n",
      " |-- Quantity Ordered: integer (nullable = true)\n",
      " |-- Price Each: float (nullable = true)\n",
      " |-- Order Date: timestamp (nullable = true)\n",
      " |-- Purchase Address: string (nullable = true)\n",
      "\n"
     ]
    }
   ],
   "source": [
    "df.printSchema()"
   ]
  },
  {
   "cell_type": "code",
   "execution_count": 13,
   "metadata": {},
   "outputs": [
    {
     "name": "stdout",
     "output_type": "stream",
     "text": [
      "Number of rows: \t 186850\n"
     ]
    }
   ],
   "source": [
    "print('Number of rows: \\t', df.count())"
   ]
  },
  {
   "cell_type": "code",
   "execution_count": 14,
   "metadata": {},
   "outputs": [
    {
     "data": {
      "text/plain": [
       "[Row(Order ID=176558, Product='USB-C Charging Cable', Quantity Ordered=2, Price Each=11.949999809265137, Order Date=None, Purchase Address='917 1st St, Dallas, TX 75001'),\n",
       " Row(Order ID=None, Product=None, Quantity Ordered=None, Price Each=None, Order Date=None, Purchase Address=None),\n",
       " Row(Order ID=176559, Product='Bose SoundSport Headphones', Quantity Ordered=1, Price Each=99.98999786376953, Order Date=None, Purchase Address='682 Chestnut St, Boston, MA 02215'),\n",
       " Row(Order ID=176560, Product='Google Phone', Quantity Ordered=1, Price Each=600.0, Order Date=None, Purchase Address='669 Spruce St, Los Angeles, CA 90001'),\n",
       " Row(Order ID=176560, Product='Wired Headphones', Quantity Ordered=1, Price Each=11.989999771118164, Order Date=None, Purchase Address='669 Spruce St, Los Angeles, CA 90001')]"
      ]
     },
     "execution_count": 14,
     "metadata": {},
     "output_type": "execute_result"
    }
   ],
   "source": [
    "df.head(5)"
   ]
  },
  {
   "cell_type": "code",
   "execution_count": 15,
   "metadata": {},
   "outputs": [
    {
     "data": {
      "text/plain": [
       "[Row(Order ID=176558, Product='USB-C Charging Cable', Quantity Ordered=2, Price Each=11.949999809265137, Order Date=None, Purchase Address='917 1st St, Dallas, TX 75001'),\n",
       " Row(Order ID=None, Product=None, Quantity Ordered=None, Price Each=None, Order Date=None, Purchase Address=None),\n",
       " Row(Order ID=176559, Product='Bose SoundSport Headphones', Quantity Ordered=1, Price Each=99.98999786376953, Order Date=None, Purchase Address='682 Chestnut St, Boston, MA 02215'),\n",
       " Row(Order ID=176560, Product='Google Phone', Quantity Ordered=1, Price Each=600.0, Order Date=None, Purchase Address='669 Spruce St, Los Angeles, CA 90001')]"
      ]
     },
     "execution_count": 15,
     "metadata": {},
     "output_type": "execute_result"
    }
   ],
   "source": [
    "df.take(4)"
   ]
  },
  {
   "cell_type": "code",
   "execution_count": 16,
   "metadata": {},
   "outputs": [
    {
     "name": "stdout",
     "output_type": "stream",
     "text": [
      "+--------+\n",
      "|Order ID|\n",
      "+--------+\n",
      "|  176558|\n",
      "|    NULL|\n",
      "|  176559|\n",
      "|  176560|\n",
      "|  176560|\n",
      "|  176561|\n",
      "|  176562|\n",
      "+--------+\n",
      "only showing top 7 rows\n",
      "\n"
     ]
    }
   ],
   "source": [
    "df.select('Order ID').show(7)"
   ]
  },
  {
   "cell_type": "code",
   "execution_count": 17,
   "metadata": {},
   "outputs": [
    {
     "name": "stdout",
     "output_type": "stream",
     "text": [
      "-RECORD 0--------------------------------\n",
      " Order ID         | 176558               \n",
      " Product          | USB-C Charging Cable \n",
      " Quantity Ordered | 2                    \n",
      " Price Each       | 11.95                \n",
      " Order Date       | NULL                 \n",
      " Purchase Address | 917 1st St, Dalla... \n",
      "-RECORD 1--------------------------------\n",
      " Order ID         | NULL                 \n",
      " Product          | NULL                 \n",
      " Quantity Ordered | NULL                 \n",
      " Price Each       | NULL                 \n",
      " Order Date       | NULL                 \n",
      " Purchase Address | NULL                 \n",
      "only showing top 2 rows\n",
      "\n"
     ]
    }
   ],
   "source": [
    "df.show(n=2, vertical=True)"
   ]
  },
  {
   "cell_type": "code",
   "execution_count": 18,
   "metadata": {},
   "outputs": [
    {
     "name": "stdout",
     "output_type": "stream",
     "text": [
      "+--------+------------------+----------------+----------+----------+--------------------+\n",
      "|Order ID|           Product|Quantity Ordered|Price Each|Order Date|    Purchase Address|\n",
      "+--------+------------------+----------------+----------+----------+--------------------+\n",
      "|  284775|Macbook Pro Laptop|               1|    1700.0|      NULL|11 Spruce St, San...|\n",
      "|  176565|Macbook Pro Laptop|               1|    1700.0|      NULL|915 Willow St, Sa...|\n",
      "|  213757|Macbook Pro Laptop|               1|    1700.0|      NULL|992 14th St, Dall...|\n",
      "|  176639|Macbook Pro Laptop|               1|    1700.0|      NULL|853 Cedar St, San...|\n",
      "|  312515|Macbook Pro Laptop|               1|    1700.0|      NULL|639 Highland St, ...|\n",
      "+--------+------------------+----------------+----------+----------+--------------------+\n",
      "only showing top 5 rows\n",
      "\n"
     ]
    }
   ],
   "source": [
    "df.orderBy('Price Each',ascending=False).show(5)"
   ]
  },
  {
   "cell_type": "code",
   "execution_count": 19,
   "metadata": {},
   "outputs": [
    {
     "name": "stdout",
     "output_type": "stream",
     "text": [
      "+-------+-----------------+------------+------------------+------------------+--------------------+\n",
      "|summary|         Order ID|     Product|  Quantity Ordered|        Price Each|    Purchase Address|\n",
      "+-------+-----------------+------------+------------------+------------------+--------------------+\n",
      "|  count|           185950|      186305|            185950|            185950|              186305|\n",
      "|   mean|230417.5693788653|        NULL|1.1243828986286637| 184.3997338440329|                NULL|\n",
      "| stddev|51512.73710999645|        NULL|0.4427926240286704|332.73132902597354|                NULL|\n",
      "|    min|           141234|20in Monitor|                 1|              2.99|1 11th St, Atlant...|\n",
      "|    max|           319670|      iPhone|                 9|            1700.0|    Purchase Address|\n",
      "+-------+-----------------+------------+------------------+------------------+--------------------+\n",
      "\n"
     ]
    }
   ],
   "source": [
    "df.describe().show()"
   ]
  },
  {
   "cell_type": "code",
   "execution_count": 20,
   "metadata": {},
   "outputs": [
    {
     "name": "stdout",
     "output_type": "stream",
     "text": [
      "+-------+-----------------+------------------+\n",
      "|summary|         Order ID|  Quantity Ordered|\n",
      "+-------+-----------------+------------------+\n",
      "|  count|           185950|            185950|\n",
      "|   mean|230417.5693788653|1.1243828986286637|\n",
      "| stddev|51512.73710999645|0.4427926240286704|\n",
      "|    min|           141234|                 1|\n",
      "|    max|           319670|                 9|\n",
      "+-------+-----------------+------------------+\n",
      "\n"
     ]
    }
   ],
   "source": [
    "df.describe('Order ID','Quantity Ordered').show()"
   ]
  },
  {
   "cell_type": "code",
   "execution_count": 21,
   "metadata": {},
   "outputs": [
    {
     "name": "stdout",
     "output_type": "stream",
     "text": [
      "+-------------+\n",
      "|min(Order ID)|\n",
      "+-------------+\n",
      "|       141234|\n",
      "+-------------+\n",
      "\n"
     ]
    }
   ],
   "source": [
    "df.agg({'Order ID':'min'}).show()"
   ]
  },
  {
   "cell_type": "code",
   "execution_count": 22,
   "metadata": {},
   "outputs": [
    {
     "name": "stdout",
     "output_type": "stream",
     "text": [
      "+-------+-----------------+------------+------------------+------------------+--------------------+\n",
      "|summary|         Order ID|     Product|  Quantity Ordered|        Price Each|    Purchase Address|\n",
      "+-------+-----------------+------------+------------------+------------------+--------------------+\n",
      "|  count|           185950|      186305|            185950|            185950|              186305|\n",
      "|   mean|230417.5693788653|        NULL|1.1243828986286637| 184.3997338440329|                NULL|\n",
      "| stddev|51512.73710999645|        NULL|0.4427926240286704|332.73132902597354|                NULL|\n",
      "|    min|           141234|20in Monitor|                 1|              2.99|1 11th St, Atlant...|\n",
      "|    25%|           185824|        NULL|                 1|             11.95|                NULL|\n",
      "|    50%|           230360|        NULL|                 1|             14.95|                NULL|\n",
      "|    75%|           275025|        NULL|                 1|             150.0|                NULL|\n",
      "|    max|           319670|      iPhone|                 9|            1700.0|    Purchase Address|\n",
      "+-------+-----------------+------------+------------------+------------------+--------------------+\n",
      "\n"
     ]
    }
   ],
   "source": [
    "df.summary().show()"
   ]
  },
  {
   "cell_type": "code",
   "execution_count": 23,
   "metadata": {},
   "outputs": [
    {
     "name": "stdout",
     "output_type": "stream",
     "text": [
      "+-------+-----------------+-------+------------------+-----------------+----------------+\n",
      "|summary|         Order ID|Product|  Quantity Ordered|       Price Each|Purchase Address|\n",
      "+-------+-----------------+-------+------------------+-----------------+----------------+\n",
      "|   mean|230417.5693788653|   NULL|1.1243828986286637|184.3997338440329|            NULL|\n",
      "|    50%|           230360|   NULL|                 1|            14.95|            NULL|\n",
      "+-------+-----------------+-------+------------------+-----------------+----------------+\n",
      "\n"
     ]
    }
   ],
   "source": [
    "df.summary('mean', '50%').show()"
   ]
  },
  {
   "cell_type": "code",
   "execution_count": 25,
   "metadata": {},
   "outputs": [
    {
     "name": "stdout",
     "output_type": "stream",
     "text": [
      "+-------+-----------------+\n",
      "|summary|         Order ID|\n",
      "+-------+-----------------+\n",
      "|   mean|230417.5693788653|\n",
      "| stddev|51512.73710999645|\n",
      "+-------+-----------------+\n",
      "\n"
     ]
    }
   ],
   "source": [
    "df.select('Order ID').summary('mean','stddev').show()"
   ]
  },
  {
   "cell_type": "code",
   "execution_count": 26,
   "metadata": {},
   "outputs": [
    {
     "name": "stdout",
     "output_type": "stream",
     "text": [
      "+-----------------+-----------------+\n",
      "|  avg(Price Each)| stddev(Order ID)|\n",
      "+-----------------+-----------------+\n",
      "|184.3997338440329|51512.73710999645|\n",
      "+-----------------+-----------------+\n",
      "\n"
     ]
    }
   ],
   "source": [
    "from pyspark.sql.functions import avg, stddev\n",
    "\n",
    "df.agg(avg('Price Each'), stddev('Order ID')).show()"
   ]
  },
  {
   "cell_type": "code",
   "execution_count": 27,
   "metadata": {},
   "outputs": [
    {
     "data": {
      "text/plain": [
       "[11.949999809265137, 14.949999809265137, 150.0]"
      ]
     },
     "execution_count": 27,
     "metadata": {},
     "output_type": "execute_result"
    }
   ],
   "source": [
    "df.approxQuantile('Price Each', [0.25, 0.5, 0.75], 0.01)"
   ]
  },
  {
   "cell_type": "code",
   "execution_count": 28,
   "metadata": {},
   "outputs": [
    {
     "data": {
      "text/plain": [
       "-0.1392435069904256"
      ]
     },
     "execution_count": 28,
     "metadata": {},
     "output_type": "execute_result"
    }
   ],
   "source": [
    "df.corr('Quantity Ordered','Price Each')"
   ]
  },
  {
   "cell_type": "code",
   "execution_count": 29,
   "metadata": {},
   "outputs": [
    {
     "name": "stdout",
     "output_type": "stream",
     "text": [
      "+--------+--------------------+----------------+----------+----------+--------------------+\n",
      "|Order ID|             Product|Quantity Ordered|Price Each|Order Date|    Purchase Address|\n",
      "+--------+--------------------+----------------+----------+----------+--------------------+\n",
      "|  176563|Bose SoundSport H...|               1|     99.99|      NULL|668 Center St, Se...|\n",
      "|  176598|AAA Batteries (4-...|               2|      2.99|      NULL|294 Park St, San ...|\n",
      "|  176644|USB-C Charging Cable|               1|     11.95|      NULL|962 7th St, Los A...|\n",
      "|  176734|Apple Airpods Hea...|               1|     150.0|      NULL|611 Jackson St, N...|\n",
      "+--------+--------------------+----------------+----------+----------+--------------------+\n",
      "only showing top 4 rows\n",
      "\n"
     ]
    }
   ],
   "source": [
    "df_sample = df.sample(False, 0.01)\n",
    "df_sample.show(4)"
   ]
  },
  {
   "cell_type": "code",
   "execution_count": 30,
   "metadata": {},
   "outputs": [
    {
     "name": "stdout",
     "output_type": "stream",
     "text": [
      "186850\n",
      "1933\n"
     ]
    }
   ],
   "source": [
    "print(df.count())\n",
    "print(df_sample.count())"
   ]
  },
  {
   "cell_type": "code",
   "execution_count": 32,
   "metadata": {},
   "outputs": [
    {
     "name": "stdout",
     "output_type": "stream",
     "text": [
      "+--------------------+------------------+--------------------------+--------------------+------------------+--------------------------+--------------------+------------------+--------------------------+--------------------+-------------------+---------------------------+---------------------+-------------------+---------------------------+---------------------+-------------------+---------------------------+---------------------+-------------------+---------------------------+---------------------+--------------------+----------------------------+----------------------+--------------------+----------------------------+----------------------+-------------------+---------------------------+---------------------+-------------------+---------------------------+---------------------+--------------------+----------------------------+----------------------+--------------------+----------------------------+----------------------+-------------------+---------------------------+---------------------+-------------------+---------------------------+---------------------+-------------------+---------------------------+---------------------+--------------------+----------------------------+----------------------+--------------------+----------------------------+----------------------+\n",
      "|             Product|null_sum(Order ID)|null_sum(Quantity Ordered)|null_sum(Price Each)|2.99_sum(Order ID)|2.99_sum(Quantity Ordered)|2.99_sum(Price Each)|3.84_sum(Order ID)|3.84_sum(Quantity Ordered)|3.84_sum(Price Each)|11.95_sum(Order ID)|11.95_sum(Quantity Ordered)|11.95_sum(Price Each)|11.99_sum(Order ID)|11.99_sum(Quantity Ordered)|11.99_sum(Price Each)|14.95_sum(Order ID)|14.95_sum(Quantity Ordered)|14.95_sum(Price Each)|99.99_sum(Order ID)|99.99_sum(Quantity Ordered)|99.99_sum(Price Each)|109.99_sum(Order ID)|109.99_sum(Quantity Ordered)|109.99_sum(Price Each)|149.99_sum(Order ID)|149.99_sum(Quantity Ordered)|149.99_sum(Price Each)|150.0_sum(Order ID)|150.0_sum(Quantity Ordered)|150.0_sum(Price Each)|300.0_sum(Order ID)|300.0_sum(Quantity Ordered)|300.0_sum(Price Each)|379.99_sum(Order ID)|379.99_sum(Quantity Ordered)|379.99_sum(Price Each)|389.99_sum(Order ID)|389.99_sum(Quantity Ordered)|389.99_sum(Price Each)|400.0_sum(Order ID)|400.0_sum(Quantity Ordered)|400.0_sum(Price Each)|600.0_sum(Order ID)|600.0_sum(Quantity Ordered)|600.0_sum(Price Each)|700.0_sum(Order ID)|700.0_sum(Quantity Ordered)|700.0_sum(Price Each)|999.99_sum(Order ID)|999.99_sum(Quantity Ordered)|999.99_sum(Price Each)|1700.0_sum(Order ID)|1700.0_sum(Quantity Ordered)|1700.0_sum(Price Each)|\n",
      "+--------------------+------------------+--------------------------+--------------------+------------------+--------------------------+--------------------+------------------+--------------------------+--------------------+-------------------+---------------------------+---------------------+-------------------+---------------------------+---------------------+-------------------+---------------------------+---------------------+-------------------+---------------------------+---------------------+--------------------+----------------------------+----------------------+--------------------+----------------------------+----------------------+-------------------+---------------------------+---------------------+-------------------+---------------------------+---------------------+--------------------+----------------------------+----------------------+--------------------+----------------------------+----------------------+-------------------+---------------------------+---------------------+-------------------+---------------------------+---------------------+-------------------+---------------------------+---------------------+--------------------+----------------------------+----------------------+--------------------+----------------------------+----------------------+\n",
      "|    Wired Headphones|              NULL|                      NULL|                NULL|              NULL|                      NULL|                NULL|              NULL|                      NULL|                NULL|               NULL|                       NULL|                 NULL|         4350951550|                      20557|   226395.17567825317|               NULL|                       NULL|                 NULL|               NULL|                       NULL|                 NULL|                NULL|                        NULL|                  NULL|                NULL|                        NULL|                  NULL|               NULL|                       NULL|                 NULL|               NULL|                       NULL|                 NULL|                NULL|                        NULL|                  NULL|                NULL|                        NULL|                  NULL|               NULL|                       NULL|                 NULL|               NULL|                       NULL|                 NULL|               NULL|                       NULL|                 NULL|                NULL|                        NULL|                  NULL|                NULL|                        NULL|                  NULL|\n",
      "|  Macbook Pro Laptop|              NULL|                      NULL|                NULL|              NULL|                      NULL|                NULL|              NULL|                      NULL|                NULL|               NULL|                       NULL|                 NULL|               NULL|                       NULL|                 NULL|               NULL|                       NULL|                 NULL|               NULL|                       NULL|                 NULL|                NULL|                        NULL|                  NULL|                NULL|                        NULL|                  NULL|               NULL|                       NULL|                 NULL|               NULL|                       NULL|                 NULL|                NULL|                        NULL|                  NULL|                NULL|                        NULL|                  NULL|               NULL|                       NULL|                 NULL|               NULL|                       NULL|                 NULL|               NULL|                       NULL|                 NULL|                NULL|                        NULL|                  NULL|          1091957910|                        4728|             8030800.0|\n",
      "|Apple Airpods Hea...|              NULL|                      NULL|                NULL|              NULL|                      NULL|                NULL|              NULL|                      NULL|                NULL|               NULL|                       NULL|                 NULL|               NULL|                       NULL|                 NULL|               NULL|                       NULL|                 NULL|               NULL|                       NULL|                 NULL|                NULL|                        NULL|                  NULL|                NULL|                        NULL|                  NULL|         3579120098|                      15661|            2332350.0|               NULL|                       NULL|                 NULL|                NULL|                        NULL|                  NULL|                NULL|                        NULL|                  NULL|               NULL|                       NULL|                 NULL|               NULL|                       NULL|                 NULL|               NULL|                       NULL|                 NULL|                NULL|                        NULL|                  NULL|                NULL|                        NULL|                  NULL|\n",
      "|              iPhone|              NULL|                      NULL|                NULL|              NULL|                      NULL|                NULL|              NULL|                      NULL|                NULL|               NULL|                       NULL|                 NULL|               NULL|                       NULL|                 NULL|               NULL|                       NULL|                 NULL|               NULL|                       NULL|                 NULL|                NULL|                        NULL|                  NULL|                NULL|                        NULL|                  NULL|               NULL|                       NULL|                 NULL|               NULL|                       NULL|                 NULL|                NULL|                        NULL|                  NULL|                NULL|                        NULL|                  NULL|               NULL|                       NULL|                 NULL|               NULL|                       NULL|                 NULL|         1571389766|                       6849|            4789400.0|                NULL|                        NULL|                  NULL|                NULL|                        NULL|                  NULL|\n",
      "|                NULL|              NULL|                      NULL|                NULL|              NULL|                      NULL|                NULL|              NULL|                      NULL|                NULL|               NULL|                       NULL|                 NULL|               NULL|                       NULL|                 NULL|               NULL|                       NULL|                 NULL|               NULL|                       NULL|                 NULL|                NULL|                        NULL|                  NULL|                NULL|                        NULL|                  NULL|               NULL|                       NULL|                 NULL|               NULL|                       NULL|                 NULL|                NULL|                        NULL|                  NULL|                NULL|                        NULL|                  NULL|               NULL|                       NULL|                 NULL|               NULL|                       NULL|                 NULL|               NULL|                       NULL|                 NULL|                NULL|                        NULL|                  NULL|                NULL|                        NULL|                  NULL|\n",
      "|Lightning Chargin...|              NULL|                      NULL|                NULL|              NULL|                      NULL|                NULL|              NULL|                      NULL|                NULL|               NULL|                       NULL|                 NULL|               NULL|                       NULL|                 NULL|         4994090695|                      23217|   323787.09586906433|               NULL|                       NULL|                 NULL|                NULL|                        NULL|                  NULL|                NULL|                        NULL|                  NULL|               NULL|                       NULL|                 NULL|               NULL|                       NULL|                 NULL|                NULL|                        NULL|                  NULL|                NULL|                        NULL|                  NULL|               NULL|                       NULL|                 NULL|               NULL|                       NULL|                 NULL|               NULL|                       NULL|                 NULL|                NULL|                        NULL|                  NULL|                NULL|                        NULL|                  NULL|\n",
      "|Bose SoundSport H...|              NULL|                      NULL|                NULL|              NULL|                      NULL|                NULL|              NULL|                      NULL|                NULL|               NULL|                       NULL|                 NULL|               NULL|                       NULL|                 NULL|               NULL|                       NULL|                 NULL|         3071496156|                      13457|    1332366.721534729|                NULL|                        NULL|                  NULL|                NULL|                        NULL|                  NULL|               NULL|                       NULL|                 NULL|               NULL|                       NULL|                 NULL|                NULL|                        NULL|                  NULL|                NULL|                        NULL|                  NULL|               NULL|                       NULL|                 NULL|               NULL|                       NULL|                 NULL|               NULL|                       NULL|                 NULL|                NULL|                        NULL|                  NULL|                NULL|                        NULL|                  NULL|\n",
      "|USB-C Charging Cable|              NULL|                      NULL|                NULL|              NULL|                      NULL|                NULL|              NULL|                      NULL|                NULL|         5049538196|                      23975|    261740.8458223343|               NULL|                       NULL|                 NULL|               NULL|                       NULL|                 NULL|               NULL|                       NULL|                 NULL|                NULL|                        NULL|                  NULL|                NULL|                        NULL|                  NULL|               NULL|                       NULL|                 NULL|               NULL|                       NULL|                 NULL|                NULL|                        NULL|                  NULL|                NULL|                        NULL|                  NULL|               NULL|                       NULL|                 NULL|               NULL|                       NULL|                 NULL|               NULL|                       NULL|                 NULL|                NULL|                        NULL|                  NULL|                NULL|                        NULL|                  NULL|\n",
      "|AAA Batteries (4-...|              NULL|                      NULL|                NULL|        4764959472|                     31017|  61716.590196847916|              NULL|                      NULL|                NULL|               NULL|                       NULL|                 NULL|               NULL|                       NULL|                 NULL|               NULL|                       NULL|                 NULL|               NULL|                       NULL|                 NULL|                NULL|                        NULL|                  NULL|                NULL|                        NULL|                  NULL|               NULL|                       NULL|                 NULL|               NULL|                       NULL|                 NULL|                NULL|                        NULL|                  NULL|                NULL|                        NULL|                  NULL|               NULL|                       NULL|                 NULL|               NULL|                       NULL|                 NULL|               NULL|                       NULL|                 NULL|                NULL|                        NULL|                  NULL|                NULL|                        NULL|                  NULL|\n",
      "|        20in Monitor|              NULL|                      NULL|                NULL|              NULL|                      NULL|                NULL|              NULL|                      NULL|                NULL|               NULL|                       NULL|                 NULL|               NULL|                       NULL|                 NULL|               NULL|                       NULL|                 NULL|               NULL|                       NULL|                 NULL|           950889651|                        4129|    451068.98123931885|                NULL|                        NULL|                  NULL|               NULL|                       NULL|                 NULL|               NULL|                       NULL|                 NULL|                NULL|                        NULL|                  NULL|                NULL|                        NULL|                  NULL|               NULL|                       NULL|                 NULL|               NULL|                       NULL|                 NULL|               NULL|                       NULL|                 NULL|                NULL|                        NULL|                  NULL|                NULL|                        NULL|                  NULL|\n",
      "|    27in FHD Monitor|              NULL|                      NULL|                NULL|              NULL|                      NULL|                NULL|              NULL|                      NULL|                NULL|               NULL|                       NULL|                 NULL|               NULL|                       NULL|                 NULL|               NULL|                       NULL|                 NULL|               NULL|                       NULL|                 NULL|                NULL|                        NULL|                  NULL|          1724223743|                        7550|    1125974.9712371826|               NULL|                       NULL|                 NULL|               NULL|                       NULL|                 NULL|                NULL|                        NULL|                  NULL|                NULL|                        NULL|                  NULL|               NULL|                       NULL|                 NULL|               NULL|                       NULL|                 NULL|               NULL|                       NULL|                 NULL|                NULL|                        NULL|                  NULL|                NULL|                        NULL|                  NULL|\n",
      "|     Vareebadd Phone|              NULL|                      NULL|                NULL|              NULL|                      NULL|                NULL|              NULL|                      NULL|                NULL|               NULL|                       NULL|                 NULL|               NULL|                       NULL|                 NULL|               NULL|                       NULL|                 NULL|               NULL|                       NULL|                 NULL|                NULL|                        NULL|                  NULL|                NULL|                        NULL|                  NULL|               NULL|                       NULL|                 NULL|               NULL|                       NULL|                 NULL|                NULL|                        NULL|                  NULL|                NULL|                        NULL|                  NULL|          472532509|                       2068|             826000.0|               NULL|                       NULL|                 NULL|               NULL|                       NULL|                 NULL|                NULL|                        NULL|                  NULL|                NULL|                        NULL|                  NULL|\n",
      "|34in Ultrawide Mo...|              NULL|                      NULL|                NULL|              NULL|                      NULL|                NULL|              NULL|                      NULL|                NULL|               NULL|                       NULL|                 NULL|               NULL|                       NULL|                 NULL|               NULL|                       NULL|                 NULL|               NULL|                       NULL|                 NULL|                NULL|                        NULL|                  NULL|                NULL|                        NULL|                  NULL|               NULL|                       NULL|                 NULL|               NULL|                       NULL|                 NULL|          1418985948|                        6199|     2348718.129638672|                NULL|                        NULL|                  NULL|               NULL|                       NULL|                 NULL|               NULL|                       NULL|                 NULL|               NULL|                       NULL|                 NULL|                NULL|                        NULL|                  NULL|                NULL|                        NULL|                  NULL|\n",
      "|            LG Dryer|              NULL|                      NULL|                NULL|              NULL|                      NULL|                NULL|              NULL|                      NULL|                NULL|               NULL|                       NULL|                 NULL|               NULL|                       NULL|                 NULL|               NULL|                       NULL|                 NULL|               NULL|                       NULL|                 NULL|                NULL|                        NULL|                  NULL|                NULL|                        NULL|                  NULL|               NULL|                       NULL|                 NULL|               NULL|                       NULL|                 NULL|                NULL|                        NULL|                  NULL|                NULL|                        NULL|                  NULL|               NULL|                       NULL|                 NULL|          146556268|                        646|             387600.0|               NULL|                       NULL|                 NULL|                NULL|                        NULL|                  NULL|                NULL|                        NULL|                  NULL|\n",
      "|AA Batteries (4-p...|              NULL|                      NULL|                NULL|              NULL|                      NULL|                NULL|        4744173938|                     27635|   79015.67823386192|               NULL|                       NULL|                 NULL|               NULL|                       NULL|                 NULL|               NULL|                       NULL|                 NULL|               NULL|                       NULL|                 NULL|                NULL|                        NULL|                  NULL|                NULL|                        NULL|                  NULL|               NULL|                       NULL|                 NULL|               NULL|                       NULL|                 NULL|                NULL|                        NULL|                  NULL|                NULL|                        NULL|                  NULL|               NULL|                       NULL|                 NULL|               NULL|                       NULL|                 NULL|               NULL|                       NULL|                 NULL|                NULL|                        NULL|                  NULL|                NULL|                        NULL|                  NULL|\n",
      "|        Google Phone|              NULL|                      NULL|                NULL|              NULL|                      NULL|                NULL|              NULL|                      NULL|                NULL|               NULL|                       NULL|                 NULL|               NULL|                       NULL|                 NULL|               NULL|                       NULL|                 NULL|               NULL|                       NULL|                 NULL|                NULL|                        NULL|                  NULL|                NULL|                        NULL|                  NULL|               NULL|                       NULL|                 NULL|               NULL|                       NULL|                 NULL|                NULL|                        NULL|                  NULL|                NULL|                        NULL|                  NULL|               NULL|                       NULL|                 NULL|         1262237431|                       5532|            3315000.0|               NULL|                       NULL|                 NULL|                NULL|                        NULL|                  NULL|                NULL|                        NULL|                  NULL|\n",
      "|       Flatscreen TV|              NULL|                      NULL|                NULL|              NULL|                      NULL|                NULL|              NULL|                      NULL|                NULL|               NULL|                       NULL|                 NULL|               NULL|                       NULL|                 NULL|               NULL|                       NULL|                 NULL|               NULL|                       NULL|                 NULL|                NULL|                        NULL|                  NULL|                NULL|                        NULL|                  NULL|               NULL|                       NULL|                 NULL|         1110943207|                       4819|            1440000.0|                NULL|                        NULL|                  NULL|                NULL|                        NULL|                  NULL|               NULL|                       NULL|                 NULL|               NULL|                       NULL|                 NULL|               NULL|                       NULL|                 NULL|                NULL|                        NULL|                  NULL|                NULL|                        NULL|                  NULL|\n",
      "|  LG Washing Machine|              NULL|                      NULL|                NULL|              NULL|                      NULL|                NULL|              NULL|                      NULL|                NULL|               NULL|                       NULL|                 NULL|               NULL|                       NULL|                 NULL|               NULL|                       NULL|                 NULL|               NULL|                       NULL|                 NULL|                NULL|                        NULL|                  NULL|                NULL|                        NULL|                  NULL|               NULL|                       NULL|                 NULL|               NULL|                       NULL|                 NULL|                NULL|                        NULL|                  NULL|                NULL|                        NULL|                  NULL|               NULL|                       NULL|                 NULL|          150718688|                        666|             399600.0|               NULL|                       NULL|                 NULL|                NULL|                        NULL|                  NULL|                NULL|                        NULL|                  NULL|\n",
      "|             Product|              NULL|                      NULL|                NULL|              NULL|                      NULL|                NULL|              NULL|                      NULL|                NULL|               NULL|                       NULL|                 NULL|               NULL|                       NULL|                 NULL|               NULL|                       NULL|                 NULL|               NULL|                       NULL|                 NULL|                NULL|                        NULL|                  NULL|                NULL|                        NULL|                  NULL|               NULL|                       NULL|                 NULL|               NULL|                       NULL|                 NULL|                NULL|                        NULL|                  NULL|                NULL|                        NULL|                  NULL|               NULL|                       NULL|                 NULL|               NULL|                       NULL|                 NULL|               NULL|                       NULL|                 NULL|                NULL|                        NULL|                  NULL|                NULL|                        NULL|                  NULL|\n",
      "|27in 4K Gaming Mo...|              NULL|                      NULL|                NULL|              NULL|                      NULL|                NULL|              NULL|                      NULL|                NULL|               NULL|                       NULL|                 NULL|               NULL|                       NULL|                 NULL|               NULL|                       NULL|                 NULL|               NULL|                       NULL|                 NULL|                NULL|                        NULL|                  NULL|                NULL|                        NULL|                  NULL|               NULL|                       NULL|                 NULL|               NULL|                       NULL|                 NULL|                NULL|                        NULL|                  NULL|          1442588628|                        6244|    2429637.6391601562|               NULL|                       NULL|                 NULL|               NULL|                       NULL|                 NULL|               NULL|                       NULL|                 NULL|                NULL|                        NULL|                  NULL|                NULL|                        NULL|                  NULL|\n",
      "+--------------------+------------------+--------------------------+--------------------+------------------+--------------------------+--------------------+------------------+--------------------------+--------------------+-------------------+---------------------------+---------------------+-------------------+---------------------------+---------------------+-------------------+---------------------------+---------------------+-------------------+---------------------------+---------------------+--------------------+----------------------------+----------------------+--------------------+----------------------------+----------------------+-------------------+---------------------------+---------------------+-------------------+---------------------------+---------------------+--------------------+----------------------------+----------------------+--------------------+----------------------------+----------------------+-------------------+---------------------------+---------------------+-------------------+---------------------------+---------------------+-------------------+---------------------------+---------------------+--------------------+----------------------------+----------------------+--------------------+----------------------------+----------------------+\n",
      "only showing top 20 rows\n",
      "\n"
     ]
    }
   ],
   "source": [
    "#df.groupBy('Product').pivot('Price Each').sum().show()"
   ]
  },
  {
   "cell_type": "code",
   "execution_count": 35,
   "metadata": {},
   "outputs": [
    {
     "data": {
      "text/plain": [
       "[Row(Product='Wired Headphones'),\n",
       " Row(Product='Macbook Pro Laptop'),\n",
       " Row(Product='Apple Airpods Headphones'),\n",
       " Row(Product='iPhone'),\n",
       " Row(Product='Lightning Charging Cable'),\n",
       " Row(Product='Bose SoundSport Headphones'),\n",
       " Row(Product='USB-C Charging Cable'),\n",
       " Row(Product='AAA Batteries (4-pack)'),\n",
       " Row(Product='20in Monitor'),\n",
       " Row(Product='27in FHD Monitor'),\n",
       " Row(Product='Vareebadd Phone'),\n",
       " Row(Product='34in Ultrawide Monitor'),\n",
       " Row(Product='LG Dryer'),\n",
       " Row(Product='AA Batteries (4-pack)'),\n",
       " Row(Product='Google Phone'),\n",
       " Row(Product='Flatscreen TV'),\n",
       " Row(Product='LG Washing Machine'),\n",
       " Row(Product='Product'),\n",
       " Row(Product='27in 4K Gaming Monitor'),\n",
       " Row(Product='ThinkPad Laptop'),\n",
       " Row(Product=None)]"
      ]
     },
     "execution_count": 35,
     "metadata": {},
     "output_type": "execute_result"
    }
   ],
   "source": [
    "products = df.select('Product').distinct()\n",
    "products.collect()"
   ]
  },
  {
   "cell_type": "code",
   "execution_count": 37,
   "metadata": {},
   "outputs": [
    {
     "name": "stdout",
     "output_type": "stream",
     "text": [
      "+--------------------+\n",
      "|             Product|\n",
      "+--------------------+\n",
      "|              iPhone|\n",
      "|    Wired Headphones|\n",
      "|     Vareebadd Phone|\n",
      "|USB-C Charging Cable|\n",
      "|     ThinkPad Laptop|\n",
      "|             Product|\n",
      "|  Macbook Pro Laptop|\n",
      "|Lightning Chargin...|\n",
      "|  LG Washing Machine|\n",
      "|            LG Dryer|\n",
      "|        Google Phone|\n",
      "|       Flatscreen TV|\n",
      "|Bose SoundSport H...|\n",
      "|Apple Airpods Hea...|\n",
      "|AAA Batteries (4-...|\n",
      "|AA Batteries (4-p...|\n",
      "|34in Ultrawide Mo...|\n",
      "|    27in FHD Monitor|\n",
      "|27in 4K Gaming Mo...|\n",
      "|        20in Monitor|\n",
      "+--------------------+\n",
      "only showing top 20 rows\n",
      "\n"
     ]
    }
   ],
   "source": [
    "products.sort('Product',ascending=False).show()"
   ]
  },
  {
   "cell_type": "code",
   "execution_count": 38,
   "metadata": {},
   "outputs": [
    {
     "name": "stdout",
     "output_type": "stream",
     "text": [
      "+--------------------+-----+\n",
      "|             Product|count|\n",
      "+--------------------+-----+\n",
      "|    Wired Headphones|18882|\n",
      "|  Macbook Pro Laptop| 4724|\n",
      "|Apple Airpods Hea...|15549|\n",
      "|              iPhone| 6842|\n",
      "|                NULL|  545|\n",
      "|Lightning Chargin...|21658|\n",
      "|Bose SoundSport H...|13325|\n",
      "|USB-C Charging Cable|21903|\n",
      "|AAA Batteries (4-...|20641|\n",
      "|        20in Monitor| 4101|\n",
      "|    27in FHD Monitor| 7507|\n",
      "|     Vareebadd Phone| 2065|\n",
      "|34in Ultrawide Mo...| 6181|\n",
      "|            LG Dryer|  646|\n",
      "|AA Batteries (4-p...|20577|\n",
      "|        Google Phone| 5525|\n",
      "|       Flatscreen TV| 4800|\n",
      "|  LG Washing Machine|  666|\n",
      "|             Product|  355|\n",
      "|27in 4K Gaming Mo...| 6230|\n",
      "+--------------------+-----+\n",
      "only showing top 20 rows\n",
      "\n"
     ]
    }
   ],
   "source": [
    "df.groupBy('Product').count().show()"
   ]
  },
  {
   "cell_type": "code",
   "execution_count": 39,
   "metadata": {},
   "outputs": [
    {
     "name": "stdout",
     "output_type": "stream",
     "text": [
      "+--------------------+------------------+\n",
      "|             Product|   avg(Price Each)|\n",
      "+--------------------+------------------+\n",
      "|    Wired Headphones|11.989999771118164|\n",
      "|  Macbook Pro Laptop|            1700.0|\n",
      "|Apple Airpods Hea...|             150.0|\n",
      "|              iPhone|             700.0|\n",
      "|                NULL|              NULL|\n",
      "|Lightning Chargin...|14.949999809265137|\n",
      "|Bose SoundSport H...| 99.98999786376953|\n",
      "|USB-C Charging Cable|11.949999809265137|\n",
      "|AAA Batteries (4-...| 2.990000009536743|\n",
      "|        20in Monitor|109.98999786376953|\n",
      "|    27in FHD Monitor|149.99000549316406|\n",
      "|     Vareebadd Phone|             400.0|\n",
      "|34in Ultrawide Mo...|  379.989990234375|\n",
      "|            LG Dryer|             600.0|\n",
      "|AA Batteries (4-p...|3.8399999141693115|\n",
      "|        Google Phone|             600.0|\n",
      "|       Flatscreen TV|             300.0|\n",
      "|  LG Washing Machine|             600.0|\n",
      "|             Product|              NULL|\n",
      "|27in 4K Gaming Mo...|  389.989990234375|\n",
      "+--------------------+------------------+\n",
      "only showing top 20 rows\n",
      "\n"
     ]
    }
   ],
   "source": [
    "df.groupBy('Product').mean('Price Each').show()"
   ]
  },
  {
   "cell_type": "code",
   "execution_count": 40,
   "metadata": {},
   "outputs": [
    {
     "name": "stdout",
     "output_type": "stream",
     "text": [
      "+--------+----------------+----------------+----------+----------+--------------------+\n",
      "|Order ID|         Product|Quantity Ordered|Price Each|Order Date|    Purchase Address|\n",
      "+--------+----------------+----------------+----------+----------+--------------------+\n",
      "|  176560|Wired Headphones|               1|     11.99|      NULL|669 Spruce St, Lo...|\n",
      "|  176561|Wired Headphones|               1|     11.99|      NULL|333 8th St, Los A...|\n",
      "|  176566|Wired Headphones|               1|     11.99|      NULL|83 7th St, Boston...|\n",
      "|  176594|Wired Headphones|               1|     11.99|      NULL|63 Maple St, San ...|\n",
      "|  176595|Wired Headphones|               3|     11.99|      NULL|383 6th St, Los A...|\n",
      "|  176627|Wired Headphones|               1|     11.99|      NULL|994 13th St, Atla...|\n",
      "|  176640|Wired Headphones|               2|     11.99|      NULL|164 Lake St, San ...|\n",
      "|  176661|Wired Headphones|               1|     11.99|      NULL|522 6th St, Atlan...|\n",
      "|  176666|Wired Headphones|               1|     11.99|      NULL|382 Forest St, Se...|\n",
      "|  176686|Wired Headphones|               1|     11.99|      NULL|892 10th St, Aust...|\n",
      "|  176692|Wired Headphones|               1|     11.99|      NULL|290 Forest St, Sa...|\n",
      "|  176697|Wired Headphones|               1|     11.99|      NULL|675 Center St, Ne...|\n",
      "|  176708|Wired Headphones|               1|     11.99|      NULL|542 Ridge St, New...|\n",
      "|  176713|Wired Headphones|               1|     11.99|      NULL|498 Walnut St, Sa...|\n",
      "|  176716|Wired Headphones|               1|     11.99|      NULL|794 7th St, Los A...|\n",
      "|  176742|Wired Headphones|               1|     11.99|      NULL|115 Forest St, Lo...|\n",
      "|  176745|Wired Headphones|               1|     11.99|      NULL|461 Adams St, Los...|\n",
      "|  176760|Wired Headphones|               1|     11.99|      NULL|813 Highland St, ...|\n",
      "|  176764|Wired Headphones|               1|     11.99|      NULL|652 Center St, At...|\n",
      "|  176768|Wired Headphones|               1|     11.99|      NULL|643 Spruce St, Lo...|\n",
      "+--------+----------------+----------------+----------+----------+--------------------+\n",
      "only showing top 20 rows\n",
      "\n"
     ]
    }
   ],
   "source": [
    "df.filter(df.Product == 'Wired Headphones').show()"
   ]
  },
  {
   "cell_type": "code",
   "execution_count": 42,
   "metadata": {},
   "outputs": [
    {
     "name": "stdout",
     "output_type": "stream",
     "text": [
      "+--------+------------+----------------+----------+----------+--------------------+\n",
      "|Order ID|     Product|Quantity Ordered|Price Each|Order Date|    Purchase Address|\n",
      "+--------+------------+----------------+----------+----------+--------------------+\n",
      "|  176588|20in Monitor|               1|    109.99|      NULL|765 Cherry St, Se...|\n",
      "|  176659|20in Monitor|               1|    109.99|      NULL|804 Church St, Da...|\n",
      "|  176673|20in Monitor|               1|    109.99|      NULL|952 1st St, Bosto...|\n",
      "|  176690|20in Monitor|               1|    109.99|      NULL|873 Sunset St, Sa...|\n",
      "|  176703|20in Monitor|               1|    109.99|      NULL|748 Washington St...|\n",
      "|  176710|20in Monitor|               2|    109.99|      NULL|848 West St, Dall...|\n",
      "|  176733|20in Monitor|               1|    109.99|      NULL|575 Hickory St, S...|\n",
      "|  176786|20in Monitor|               1|    109.99|      NULL|701 North St, San...|\n",
      "|  176839|20in Monitor|               1|    109.99|      NULL|625 Willow St, Bo...|\n",
      "|  176868|20in Monitor|               1|    109.99|      NULL|213 Highland St, ...|\n",
      "|  177058|20in Monitor|               1|    109.99|      NULL|144 Adams St, Los...|\n",
      "|  177113|20in Monitor|               1|    109.99|      NULL|554 Cedar St, Aus...|\n",
      "|  177147|20in Monitor|               1|    109.99|      NULL|506 River St, San...|\n",
      "|  177247|20in Monitor|               1|    109.99|      NULL|613 7th St, Los A...|\n",
      "|  177285|20in Monitor|               1|    109.99|      NULL|947 Hickory St, S...|\n",
      "|  177300|20in Monitor|               1|    109.99|      NULL|276 Lincoln St, L...|\n",
      "|  177305|20in Monitor|               1|    109.99|      NULL|164 Pine St, Seat...|\n",
      "|  177306|20in Monitor|               1|    109.99|      NULL|171 Chestnut St, ...|\n",
      "|  177397|20in Monitor|               1|    109.99|      NULL|438 Park St, Aust...|\n",
      "|  177615|20in Monitor|               1|    109.99|      NULL|196 Lake St, Dall...|\n",
      "+--------+------------+----------------+----------+----------+--------------------+\n",
      "only showing top 20 rows\n",
      "\n"
     ]
    }
   ],
   "source": [
    "df.filter((df.Product == '20in Monitor') & (df['Price Each']>=100)).show()"
   ]
  },
  {
   "cell_type": "code",
   "execution_count": 43,
   "metadata": {},
   "outputs": [
    {
     "name": "stdout",
     "output_type": "stream",
     "text": [
      "+-------+------------------+------------+------------------+------------------+--------------------+\n",
      "|summary|          Order ID|     Product|  Quantity Ordered|        Price Each|    Purchase Address|\n",
      "+-------+------------------+------------+------------------+------------------+--------------------+\n",
      "|  count|              4101|        4101|              4101|              4101|                4101|\n",
      "|   mean|231867.75201170446|        NULL|1.0068276030236527|109.98999786376953|                NULL|\n",
      "| stddev| 51513.63115865957|        NULL| 0.082356789397344|               0.0|                NULL|\n",
      "|    min|            141289|20in Monitor|                 1|            109.99|1 Dogwood St, Dal...|\n",
      "|    max|            319648|20in Monitor|                 2|            109.99|999 Willow St, Se...|\n",
      "+-------+------------------+------------+------------------+------------------+--------------------+\n",
      "\n"
     ]
    }
   ],
   "source": [
    "df.filter(df.Product == '20in Monitor').describe().show()"
   ]
  },
  {
   "cell_type": "code",
   "execution_count": 45,
   "metadata": {},
   "outputs": [
    {
     "name": "stdout",
     "output_type": "stream",
     "text": [
      "+--------------------+\n",
      "|    Purchase Address|\n",
      "+--------------------+\n",
      "|765 Cherry St, Se...|\n",
      "|804 Church St, Da...|\n",
      "|952 1st St, Bosto...|\n",
      "|873 Sunset St, Sa...|\n",
      "|748 Washington St...|\n",
      "|848 West St, Dall...|\n",
      "|575 Hickory St, S...|\n",
      "|701 North St, San...|\n",
      "|625 Willow St, Bo...|\n",
      "|213 Highland St, ...|\n",
      "|144 Adams St, Los...|\n",
      "|554 Cedar St, Aus...|\n",
      "|506 River St, San...|\n",
      "|613 7th St, Los A...|\n",
      "|947 Hickory St, S...|\n",
      "|276 Lincoln St, L...|\n",
      "|164 Pine St, Seat...|\n",
      "|171 Chestnut St, ...|\n",
      "|438 Park St, Aust...|\n",
      "|196 Lake St, Dall...|\n",
      "+--------------------+\n",
      "only showing top 20 rows\n",
      "\n"
     ]
    }
   ],
   "source": [
    "df.filter(df.Product == '20in Monitor').select('Purchase Address').show()"
   ]
  },
  {
   "cell_type": "code",
   "execution_count": 46,
   "metadata": {},
   "outputs": [
    {
     "name": "stdout",
     "output_type": "stream",
     "text": [
      "+-------+--------+-------+----------------+----------+----------------+\n",
      "|summary|Order ID|Product|Quantity Ordered|Price Each|Purchase Address|\n",
      "+-------+--------+-------+----------------+----------+----------------+\n",
      "|  count|    4101|   4101|            4101|      4101|            4101|\n",
      "+-------+--------+-------+----------------+----------+----------------+\n",
      "\n"
     ]
    }
   ],
   "source": [
    "df.where(df.Product == '20in Monitor').summary('count').show()"
   ]
  },
  {
   "cell_type": "code",
   "execution_count": 48,
   "metadata": {},
   "outputs": [
    {
     "name": "stdout",
     "output_type": "stream",
     "text": [
      "+--------------------+-------------------------------+\n",
      "|             Product|(Quantity Ordered * Price Each)|\n",
      "+--------------------+-------------------------------+\n",
      "|USB-C Charging Cable|                           23.9|\n",
      "|                NULL|                           NULL|\n",
      "|Bose SoundSport H...|                          99.99|\n",
      "|        Google Phone|                          600.0|\n",
      "+--------------------+-------------------------------+\n",
      "only showing top 4 rows\n",
      "\n"
     ]
    }
   ],
   "source": [
    "df.select(df.Product, df['Quantity Ordered']*df['Price Each']).show(4)"
   ]
  },
  {
   "cell_type": "code",
   "execution_count": 49,
   "metadata": {},
   "outputs": [
    {
     "name": "stdout",
     "output_type": "stream",
     "text": [
      "+--------+--------------------+----------------+----------+----------+--------------------+-----------------+\n",
      "|Order ID|             Product|Quantity Ordered|Price Each|Order Date|    Purchase Address|       new_column|\n",
      "+--------+--------------------+----------------+----------+----------+--------------------+-----------------+\n",
      "|  176558|USB-C Charging Cable|               2|     11.95|      NULL|917 1st St, Dalla...|5.974999904632568|\n",
      "|    NULL|                NULL|            NULL|      NULL|      NULL|                NULL|             NULL|\n",
      "|  176559|Bose SoundSport H...|               1|     99.99|      NULL|682 Chestnut St, ...|99.98999786376953|\n",
      "|  176560|        Google Phone|               1|     600.0|      NULL|669 Spruce St, Lo...|            600.0|\n",
      "+--------+--------------------+----------------+----------+----------+--------------------+-----------------+\n",
      "only showing top 4 rows\n",
      "\n"
     ]
    }
   ],
   "source": [
    "df.withColumn('new_column', df['Price Each']/df['Quantity Ordered']).show(4)"
   ]
  },
  {
   "cell_type": "code",
   "execution_count": 53,
   "metadata": {},
   "outputs": [],
   "source": [
    "from pyspark.sql.functions import udf"
   ]
  },
  {
   "cell_type": "code",
   "execution_count": 61,
   "metadata": {},
   "outputs": [],
   "source": [
    "def cost_range(val_):\n",
    "    if val_ is None:\n",
    "        return 'Unknown'\n",
    "    if val_> 90:\n",
    "        return 'low'\n",
    "    elif 90 < val_< 200:\n",
    "        return 'medium'\n",
    "    else:\n",
    "        return 'high'"
   ]
  },
  {
   "cell_type": "code",
   "execution_count": 62,
   "metadata": {},
   "outputs": [
    {
     "name": "stdout",
     "output_type": "stream",
     "text": [
      "+--------+--------------------+----------------+----------+----------+--------------------+----------+\n",
      "|Order ID|             Product|Quantity Ordered|Price Each|Order Date|    Purchase Address|cost-range|\n",
      "+--------+--------------------+----------------+----------+----------+--------------------+----------+\n",
      "|  176558|USB-C Charging Cable|               2|     11.95|      NULL|917 1st St, Dalla...|      high|\n",
      "|    NULL|                NULL|            NULL|      NULL|      NULL|                NULL|   Unknown|\n",
      "|  176559|Bose SoundSport H...|               1|     99.99|      NULL|682 Chestnut St, ...|       low|\n",
      "|  176560|        Google Phone|               1|     600.0|      NULL|669 Spruce St, Lo...|       low|\n",
      "|  176560|    Wired Headphones|               1|     11.99|      NULL|669 Spruce St, Lo...|      high|\n",
      "+--------+--------------------+----------------+----------+----------+--------------------+----------+\n",
      "only showing top 5 rows\n",
      "\n"
     ]
    }
   ],
   "source": [
    "cost_range_udf = udf(cost_range, StringType())\n",
    "\n",
    "# Apply the UDF to create a new column 'cost-range'\n",
    "df_with_cost_range = df.withColumn('cost-range', cost_range_udf(df['Price Each']))\n",
    "\n",
    "# Show the updated DataFrame\n",
    "df_with_cost_range.show(5)"
   ]
  }
 ],
 "metadata": {
  "kernelspec": {
   "display_name": "DEV",
   "language": "python",
   "name": "python3"
  },
  "language_info": {
   "codemirror_mode": {
    "name": "ipython",
    "version": 3
   },
   "file_extension": ".py",
   "mimetype": "text/x-python",
   "name": "python",
   "nbconvert_exporter": "python",
   "pygments_lexer": "ipython3",
   "version": "3.11.5"
  }
 },
 "nbformat": 4,
 "nbformat_minor": 2
}

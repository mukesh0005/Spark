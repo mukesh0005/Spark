{
 "cells": [
  {
   "cell_type": "markdown",
   "metadata": {},
   "source": [
    "- session intialization"
   ]
  },
  {
   "cell_type": "code",
   "execution_count": 110,
   "metadata": {},
   "outputs": [],
   "source": [
    "from pyspark.sql import SparkSession;\n",
    "from pyspark.context import SparkContext\n",
    "spark = SparkSession \\\n",
    "    .builder \\\n",
    "    .appName(\"Linear_Regression\") \\\n",
    "    .getOrCreate()\n",
    "\n",
    "sc = spark.sparkContext"
   ]
  },
  {
   "cell_type": "code",
   "execution_count": 111,
   "metadata": {},
   "outputs": [
    {
     "data": {
      "text/html": [
       "\n",
       "            <div>\n",
       "                <p><b>SparkSession - in-memory</b></p>\n",
       "                \n",
       "        <div>\n",
       "            <p><b>SparkContext</b></p>\n",
       "\n",
       "            <p><a href=\"http://muki.lan:4040\">Spark UI</a></p>\n",
       "\n",
       "            <dl>\n",
       "              <dt>Version</dt>\n",
       "                <dd><code>v3.5.0</code></dd>\n",
       "              <dt>Master</dt>\n",
       "                <dd><code>local[*]</code></dd>\n",
       "              <dt>AppName</dt>\n",
       "                <dd><code>Linear_Regression</code></dd>\n",
       "            </dl>\n",
       "        </div>\n",
       "        \n",
       "            </div>\n",
       "        "
      ],
      "text/plain": [
       "<pyspark.sql.session.SparkSession at 0x209ff731390>"
      ]
     },
     "execution_count": 111,
     "metadata": {},
     "output_type": "execute_result"
    }
   ],
   "source": [
    "spark"
   ]
  },
  {
   "cell_type": "code",
   "execution_count": 157,
   "metadata": {},
   "outputs": [],
   "source": [
    "from pyspark.ml.regression import LinearRegression\n",
    "from pyspark.ml.evaluation import RegressionEvaluator\n",
    "from pyspark.ml.tuning import CrossValidator, ParamGridBuilder\n",
    "from pyspark.ml.feature import VectorAssembler\n",
    "from pyspark.ml.feature import OneHotEncoder, StringIndexer\n"
   ]
  },
  {
   "cell_type": "code",
   "execution_count": 113,
   "metadata": {},
   "outputs": [
    {
     "name": "stdout",
     "output_type": "stream",
     "text": [
      "+-----------+--------------------+----------------+-------------+--------------+--------------------+-----------------+------------------+--------------------+---------------------+-------------+---------------+----------------+--------------------+--------------------+---------------------+-------------+-------------+---------------------+------------------------+----------------------------+----------------------+\n",
      "|business_id|       business_name|business_address|business_city|business_state|business_postal_code|business_latitude|business_longitude|   business_location|business_phone_number|inspection_id|inspection_date|inspection_score|     inspection_type|        violation_id|violation_description|risk_category|Neighborhoods|SF Find Neighborhoods|Current Police Districts|Current Supervisor Districts|Analysis Neighborhoods|\n",
      "+-----------+--------------------+----------------+-------------+--------------+--------------------+-----------------+------------------+--------------------+---------------------+-------------+---------------+----------------+--------------------+--------------------+---------------------+-------------+-------------+---------------------+------------------------+----------------------------+----------------------+\n",
      "|       1000|HEUNG YUEN RESTAU...|    3279 22nd St|San Francisco|            CA|               94110|        37.755282|       -122.420493|POINT (-122.42049...|                 NULL|1000_20171002| 10/2/2017 0:00|              74|Routine - Unsched...|1000_20171002_103103| High risk food ho...|    High Risk|           53|                   53|                       3|                           2|                    20|\n",
      "|       1000|HEUNG YUEN RESTAU...|    3279 22nd St|San Francisco|            CA|               94110|        37.755282|       -122.420493|POINT (-122.42049...|                 NULL|1000_20171002| 10/2/2017 0:00|              74|Routine - Unsched...|1000_20171002_103132| Improper thawing ...|Moderate Risk|           53|                   53|                       3|                           2|                    20|\n",
      "|       1000|HEUNG YUEN RESTAU...|    3279 22nd St|San Francisco|            CA|               94110|        37.755282|       -122.420493|POINT (-122.42049...|                 NULL|1000_20171002| 10/2/2017 0:00|              74|Routine - Unsched...|1000_20171002_103142| Unclean nonfood c...|     Low Risk|           53|                   53|                       3|                           2|                    20|\n",
      "|       1000|HEUNG YUEN RESTAU...|    3279 22nd St|San Francisco|            CA|               94110|        37.755282|       -122.420493|POINT (-122.42049...|                 NULL|1000_20171002| 10/2/2017 0:00|              74|Routine - Unsched...|1000_20171002_103154| Unclean or degrad...|     Low Risk|           53|                   53|                       3|                           2|                    20|\n",
      "|       1000|HEUNG YUEN RESTAU...|    3279 22nd St|San Francisco|            CA|               94110|        37.755282|       -122.420493|POINT (-122.42049...|                 NULL|1000_20180523| 5/23/2018 0:00|              76|Routine - Unsched...|1000_20180523_103103| High risk food ho...|    High Risk|           53|                   53|                       3|                           2|                    20|\n",
      "+-----------+--------------------+----------------+-------------+--------------+--------------------+-----------------+------------------+--------------------+---------------------+-------------+---------------+----------------+--------------------+--------------------+---------------------+-------------+-------------+---------------------+------------------------+----------------------------+----------------------+\n",
      "only showing top 5 rows\n",
      "\n"
     ]
    }
   ],
   "source": [
    "df = spark.read.csv('./data/Restaurant_Scores.csv',header=True, inferSchema=True)\n",
    "df.show(5)"
   ]
  },
  {
   "cell_type": "code",
   "execution_count": 114,
   "metadata": {},
   "outputs": [
    {
     "name": "stdout",
     "output_type": "stream",
     "text": [
      "+-------+-----------------+-----------------+----------------+-------------+--------------+--------------------+--------------------+-------------------+--------------------+---------------------+-------------+---------------+-----------------+--------------------+--------------------+---------------------+-------------+-----------------+---------------------+------------------------+----------------------------+----------------------+\n",
      "|summary|      business_id|    business_name|business_address|business_city|business_state|business_postal_code|   business_latitude| business_longitude|   business_location|business_phone_number|inspection_id|inspection_date| inspection_score|     inspection_type|        violation_id|violation_description|risk_category|    Neighborhoods|SF Find Neighborhoods|Current Police Districts|Current Supervisor Districts|Analysis Neighborhoods|\n",
      "+-------+-----------------+-----------------+----------------+-------------+--------------+--------------------+--------------------+-------------------+--------------------+---------------------+-------------+---------------+-----------------+--------------------+--------------------+---------------------+-------------+-----------------+---------------------+------------------------+----------------------------+----------------------+\n",
      "|  count|             1093|             1093|            1093|         1093|          1093|                1047|                1083|               1083|                1083|                  421|         1093|           1093|             1023|                1093|                1093|                 1093|         1093|             1083|                 1083|                    1083|                        1083|                  1083|\n",
      "|   mean|5460.571820677035|             NULL|            NULL|         NULL|          NULL|   94112.82330468005|  37.770275608494806|-122.42430986241884|                NULL| 1.415557644040380...|         NULL|           NULL|84.46627565982405|                NULL|                NULL|                 NULL|         NULL| 55.0775623268698|     55.0775623268698|       4.996306555863343|           5.227146814404432|    17.619575253924285|\n",
      "| stddev|8952.679027161706|             NULL|            NULL|         NULL|          NULL|   8.375411942499598|0.019829230359838815|0.02412387636816436|                NULL|    490353.6769427727|         NULL|           NULL|8.828025695549153|                NULL|                NULL|                 NULL|         NULL|32.63163990780405|    32.63163990780405|      2.6387530708940745|          3.3077126422797005|    10.759738099038687|\n",
      "|    min|              101|901 Columbus Cafe|  022 Battery St|San Francisco|            CA|               94102|           37.711185|        -122.504572|POINT (-122.38353...|          14150521330|1000_20171002| 1/10/2018 0:00|               46|           Complaint|1000_20171002_103103| Contaminated or a...|    High Risk|                5|                    5|                       1|                           1|                     1|\n",
      "|    max|           101430|            Zazie|Private Location|San Francisco|            CA|               94134|           37.808352|        -122.383536|POINT (-122.50457...|          14158382949|1742_20170214|  9/8/2017 0:00|               98|Routine - Unsched...|1742_20170214_103150| Worker safety haz...|Moderate Risk|              115|                  115|                      10|                          11|                    41|\n",
      "+-------+-----------------+-----------------+----------------+-------------+--------------+--------------------+--------------------+-------------------+--------------------+---------------------+-------------+---------------+-----------------+--------------------+--------------------+---------------------+-------------+-----------------+---------------------+------------------------+----------------------------+----------------------+\n",
      "\n"
     ]
    }
   ],
   "source": [
    "df.describe().show()"
   ]
  },
  {
   "cell_type": "code",
   "execution_count": 115,
   "metadata": {},
   "outputs": [
    {
     "name": "stdout",
     "output_type": "stream",
     "text": [
      "+-----------+-------------+----------------+-------------+--------------+--------------------+-----------------+------------------+-----------------+---------------------+-------------+---------------+----------------+---------------+------------+---------------------+-------------+-------------+---------------------+------------------------+----------------------------+----------------------+\n",
      "|business_id|business_name|business_address|business_city|business_state|business_postal_code|business_latitude|business_longitude|business_location|business_phone_number|inspection_id|inspection_date|inspection_score|inspection_type|violation_id|violation_description|risk_category|Neighborhoods|SF Find Neighborhoods|Current Police Districts|Current Supervisor Districts|Analysis Neighborhoods|\n",
      "+-----------+-------------+----------------+-------------+--------------+--------------------+-----------------+------------------+-----------------+---------------------+-------------+---------------+----------------+---------------+------------+---------------------+-------------+-------------+---------------------+------------------------+----------------------------+----------------------+\n",
      "|        904|          904|             904|          904|           904|                 950|              914|               914|              914|                 1576|          904|            904|             974|            904|         904|                  904|          904|          914|                  914|                     914|                         914|                   914|\n",
      "+-----------+-------------+----------------+-------------+--------------+--------------------+-----------------+------------------+-----------------+---------------------+-------------+---------------+----------------+---------------+------------+---------------------+-------------+-------------+---------------------+------------------------+----------------------------+----------------------+\n",
      "\n"
     ]
    }
   ],
   "source": [
    "from pyspark.sql.functions import col, sum as spark_sum\n",
    "\n",
    "missing_counts = df.select([spark_sum(col(c).isNull().cast(\"int\")).alias(c) for c in df.columns])\n",
    "\n",
    "# Show the result\n",
    "missing_counts.show()"
   ]
  },
  {
   "cell_type": "code",
   "execution_count": 116,
   "metadata": {},
   "outputs": [],
   "source": [
    "df = df.dropna(how='any')"
   ]
  },
  {
   "cell_type": "code",
   "execution_count": 117,
   "metadata": {},
   "outputs": [
    {
     "name": "stdout",
     "output_type": "stream",
     "text": [
      "+-----------+-------------+----------------+-------------+--------------+--------------------+-----------------+------------------+-----------------+---------------------+-------------+---------------+----------------+---------------+------------+---------------------+-------------+-------------+---------------------+------------------------+----------------------------+----------------------+\n",
      "|business_id|business_name|business_address|business_city|business_state|business_postal_code|business_latitude|business_longitude|business_location|business_phone_number|inspection_id|inspection_date|inspection_score|inspection_type|violation_id|violation_description|risk_category|Neighborhoods|SF Find Neighborhoods|Current Police Districts|Current Supervisor Districts|Analysis Neighborhoods|\n",
      "+-----------+-------------+----------------+-------------+--------------+--------------------+-----------------+------------------+-----------------+---------------------+-------------+---------------+----------------+---------------+------------+---------------------+-------------+-------------+---------------------+------------------------+----------------------------+----------------------+\n",
      "|          0|            0|               0|            0|             0|                   0|                0|                 0|                0|                    0|            0|              0|               0|              0|           0|                    0|            0|            0|                    0|                       0|                           0|                     0|\n",
      "+-----------+-------------+----------------+-------------+--------------+--------------------+-----------------+------------------+-----------------+---------------------+-------------+---------------+----------------+---------------+------------+---------------------+-------------+-------------+---------------------+------------------------+----------------------------+----------------------+\n",
      "\n"
     ]
    }
   ],
   "source": [
    "missing_counts = df.select([spark_sum(col(c).isNull().cast(\"int\")).alias(c) for c in df.columns])\n",
    "\n",
    "# Show the result\n",
    "missing_counts.show()"
   ]
  },
  {
   "cell_type": "code",
   "execution_count": 118,
   "metadata": {},
   "outputs": [
    {
     "name": "stdout",
     "output_type": "stream",
     "text": [
      "+-----------+--------------------+----------------+-------------+--------------+--------------------+-----------------+------------------+--------------------+---------------------+-------------+---------------+----------------+--------------------+--------------------+---------------------+-------------+-------------+---------------------+------------------------+----------------------------+----------------------+\n",
      "|business_id|       business_name|business_address|business_city|business_state|business_postal_code|business_latitude|business_longitude|   business_location|business_phone_number|inspection_id|inspection_date|inspection_score|     inspection_type|        violation_id|violation_description|risk_category|Neighborhoods|SF Find Neighborhoods|Current Police Districts|Current Supervisor Districts|Analysis Neighborhoods|\n",
      "+-----------+--------------------+----------------+-------------+--------------+--------------------+-----------------+------------------+--------------------+---------------------+-------------+---------------+----------------+--------------------+--------------------+---------------------+-------------+-------------+---------------------+------------------------+----------------------------+----------------------+\n",
      "|       1003|RINCON PERUANO RE...|    3364 26th St|San Francisco|            CA|               94110|        37.749128|       -122.417402|POINT (-122.41740...|          14155897712|1003_20170823| 8/23/2017 0:00|              86|Routine - Unsched...|1003_20170823_103131| Moderate risk ver...|Moderate Risk|           53|                   53|                       3|                           2|                    20|\n",
      "+-----------+--------------------+----------------+-------------+--------------+--------------------+-----------------+------------------+--------------------+---------------------+-------------+---------------+----------------+--------------------+--------------------+---------------------+-------------+-------------+---------------------+------------------------+----------------------------+----------------------+\n",
      "only showing top 1 row\n",
      "\n"
     ]
    }
   ],
   "source": [
    "df.show(1)"
   ]
  },
  {
   "cell_type": "code",
   "execution_count": 119,
   "metadata": {},
   "outputs": [
    {
     "name": "stdout",
     "output_type": "stream",
     "text": [
      "root\n",
      " |-- business_id: integer (nullable = true)\n",
      " |-- business_name: string (nullable = true)\n",
      " |-- business_address: string (nullable = true)\n",
      " |-- business_city: string (nullable = true)\n",
      " |-- business_state: string (nullable = true)\n",
      " |-- business_postal_code: integer (nullable = true)\n",
      " |-- business_latitude: double (nullable = true)\n",
      " |-- business_longitude: double (nullable = true)\n",
      " |-- business_location: string (nullable = true)\n",
      " |-- business_phone_number: long (nullable = true)\n",
      " |-- inspection_id: string (nullable = true)\n",
      " |-- inspection_date: string (nullable = true)\n",
      " |-- inspection_score: integer (nullable = true)\n",
      " |-- inspection_type: string (nullable = true)\n",
      " |-- violation_id: string (nullable = true)\n",
      " |-- violation_description: string (nullable = true)\n",
      " |-- risk_category: string (nullable = true)\n",
      " |-- Neighborhoods: integer (nullable = true)\n",
      " |-- SF Find Neighborhoods: integer (nullable = true)\n",
      " |-- Current Police Districts: integer (nullable = true)\n",
      " |-- Current Supervisor Districts: integer (nullable = true)\n",
      " |-- Analysis Neighborhoods: integer (nullable = true)\n",
      "\n"
     ]
    }
   ],
   "source": [
    "df.printSchema()"
   ]
  },
  {
   "cell_type": "code",
   "execution_count": 120,
   "metadata": {},
   "outputs": [
    {
     "data": {
      "text/plain": [
       "[('business_id', 'int'),\n",
       " ('business_name', 'string'),\n",
       " ('business_address', 'string'),\n",
       " ('business_city', 'string'),\n",
       " ('business_state', 'string'),\n",
       " ('business_postal_code', 'int'),\n",
       " ('business_latitude', 'double'),\n",
       " ('business_longitude', 'double'),\n",
       " ('business_location', 'string'),\n",
       " ('business_phone_number', 'bigint'),\n",
       " ('inspection_id', 'string'),\n",
       " ('inspection_date', 'string'),\n",
       " ('inspection_score', 'int'),\n",
       " ('inspection_type', 'string'),\n",
       " ('violation_id', 'string'),\n",
       " ('violation_description', 'string'),\n",
       " ('risk_category', 'string'),\n",
       " ('Neighborhoods', 'int'),\n",
       " ('SF Find Neighborhoods', 'int'),\n",
       " ('Current Police Districts', 'int'),\n",
       " ('Current Supervisor Districts', 'int'),\n",
       " ('Analysis Neighborhoods', 'int')]"
      ]
     },
     "execution_count": 120,
     "metadata": {},
     "output_type": "execute_result"
    }
   ],
   "source": [
    "df.dtypes"
   ]
  },
  {
   "cell_type": "code",
   "execution_count": 121,
   "metadata": {},
   "outputs": [],
   "source": [
    "from pyspark.sql.types import StringType\n",
    "\n",
    "def is_categorical(column):\n",
    "    return isinstance(df.schema[column].dataType, StringType)\n",
    "\n",
    "# Select only categorical columns\n",
    "categorical_columns = [column for column in df.columns if is_categorical(column)]"
   ]
  },
  {
   "cell_type": "code",
   "execution_count": 122,
   "metadata": {},
   "outputs": [
    {
     "data": {
      "text/plain": [
       "['business_name',\n",
       " 'business_address',\n",
       " 'business_city',\n",
       " 'business_state',\n",
       " 'business_location',\n",
       " 'inspection_id',\n",
       " 'inspection_date',\n",
       " 'inspection_type',\n",
       " 'violation_id',\n",
       " 'violation_description',\n",
       " 'risk_category']"
      ]
     },
     "execution_count": 122,
     "metadata": {},
     "output_type": "execute_result"
    }
   ],
   "source": [
    "#categorical_columns = categorical_columns[:-1]\n",
    "categorical_columns"
   ]
  },
  {
   "cell_type": "markdown",
   "metadata": {},
   "source": [
    "- Before building the model, we need to assemble the input features into a single feature vector using the VectorAssembler class. Then, we will split the dataset into a training set (80%) and a testing set (20%)."
   ]
  },
  {
   "cell_type": "markdown",
   "metadata": {},
   "source": [
    "- Indexing"
   ]
  },
  {
   "cell_type": "code",
   "execution_count": 123,
   "metadata": {},
   "outputs": [
    {
     "name": "stdout",
     "output_type": "stream",
     "text": [
      "+-----------+--------------------+-----------------+------------------+---------------------+----------------+-------------+---------------------+------------------------+----------------------------+----------------------+---------------------+------------------------+---------------------+----------------------+-------------------------+---------------------+-----------------------+-----------------------+--------------------+-----------------------------+---------------------+\n",
      "|business_id|business_postal_code|business_latitude|business_longitude|business_phone_number|inspection_score|Neighborhoods|SF Find Neighborhoods|Current Police Districts|Current Supervisor Districts|Analysis Neighborhoods|business_name_indexed|business_address_indexed|business_city_indexed|business_state_indexed|business_location_indexed|inspection_id_indexed|inspection_date_indexed|inspection_type_indexed|violation_id_indexed|violation_description_indexed|risk_category_indexed|\n",
      "+-----------+--------------------+-----------------+------------------+---------------------+----------------+-------------+---------------------+------------------------+----------------------------+----------------------+---------------------+------------------------+---------------------+----------------------+-------------------------+---------------------+-----------------------+-----------------------+--------------------+-----------------------------+---------------------+\n",
      "|       1003|               94110|        37.749128|       -122.417402|          14155897712|              86|           53|                   53|                       3|                           2|                    20|                 16.0|                    15.0|                  0.0|                   0.0|                     15.0|                  4.0|                   15.0|                    0.0|                 3.0|                          3.0|                  1.0|\n",
      "|       1003|               94110|        37.749128|       -122.417402|          14155897712|              86|           53|                   53|                       3|                           2|                    20|                 16.0|                    15.0|                  0.0|                   0.0|                     15.0|                  4.0|                   15.0|                    0.0|                 4.0|                          8.0|                  0.0|\n",
      "|       1003|               94110|        37.749128|       -122.417402|          14155897712|              86|           53|                   53|                       3|                           2|                    20|                 16.0|                    15.0|                  0.0|                   0.0|                     15.0|                  4.0|                   15.0|                    0.0|                 5.0|                          1.0|                  0.0|\n",
      "|       1003|               94110|        37.749128|       -122.417402|          14155897712|              86|           53|                   53|                       3|                           2|                    20|                 16.0|                    15.0|                  0.0|                   0.0|                     15.0|                  4.0|                   15.0|                    0.0|                 6.0|                         17.0|                  0.0|\n",
      "|       1003|               94110|        37.749128|       -122.417402|          14155897712|              86|           53|                   53|                       3|                           2|                    20|                 16.0|                    15.0|                  0.0|                   0.0|                     15.0|                  4.0|                   15.0|                    0.0|                 7.0|                         26.0|                  0.0|\n",
      "|       1003|               94110|        37.749128|       -122.417402|          14155897712|              92|           53|                   53|                       3|                           2|                    20|                 16.0|                    15.0|                  0.0|                   0.0|                     15.0|                 59.0|                   78.0|                    0.0|                 8.0|                         27.0|                  1.0|\n",
      "|       1003|               94110|        37.749128|       -122.417402|          14155897712|              92|           53|                   53|                       3|                           2|                    20|                 16.0|                    15.0|                  0.0|                   0.0|                     15.0|                 59.0|                   78.0|                    0.0|                 9.0|                         10.0|                  0.0|\n",
      "|       1003|               94110|        37.749128|       -122.417402|          14155897712|              92|           53|                   53|                       3|                           2|                    20|                 16.0|                    15.0|                  0.0|                   0.0|                     15.0|                118.0|                   77.0|                    0.0|                10.0|                          2.0|                  1.0|\n",
      "|      10030|               94103|        37.766864|       -122.419014|          14155246280|              93|           53|                   53|                       3|                           2|                    20|                 46.0|                    44.0|                  0.0|                   0.0|                     43.0|                115.0|                  147.0|                    0.0|                 0.0|                          4.0|                  2.0|\n",
      "|      10030|               94103|        37.766864|       -122.419014|          14155246280|              96|           53|                   53|                       3|                           2|                    20|                 46.0|                    44.0|                  0.0|                   0.0|                     43.0|                116.0|                  118.0|                    0.0|                 1.0|                          5.0|                  1.0|\n",
      "|      10030|               94103|        37.766864|       -122.419014|          14155246280|              98|           53|                   53|                       3|                           2|                    20|                 46.0|                    44.0|                  0.0|                   0.0|                     43.0|                117.0|                  144.0|                    0.0|                 2.0|                          1.0|                  0.0|\n",
      "|       1005|               94110|        37.748855|       -122.418134|          14155286927|              78|           53|                   53|                       3|                           2|                    20|                  2.0|                     2.0|                  0.0|                   0.0|                      1.0|                  0.0|                    8.0|                    0.0|                11.0|                          5.0|                  1.0|\n",
      "|       1005|               94110|        37.748855|       -122.418134|          14155286927|              78|           53|                   53|                       3|                           2|                    20|                  2.0|                     2.0|                  0.0|                   0.0|                      1.0|                  0.0|                    8.0|                    0.0|                12.0|                          6.0|                  1.0|\n",
      "|       1005|               94110|        37.748855|       -122.418134|          14155286927|              78|           53|                   53|                       3|                           2|                    20|                  2.0|                     2.0|                  0.0|                   0.0|                      1.0|                  0.0|                    8.0|                    0.0|                13.0|                          1.0|                  0.0|\n",
      "|       1005|               94110|        37.748855|       -122.418134|          14155286927|              78|           53|                   53|                       3|                           2|                    20|                  2.0|                     2.0|                  0.0|                   0.0|                      1.0|                  0.0|                    8.0|                    0.0|                14.0|                         21.0|                  0.0|\n",
      "|       1005|               94110|        37.748855|       -122.418134|          14155286927|              78|           53|                   53|                       3|                           2|                    20|                  2.0|                     2.0|                  0.0|                   0.0|                      1.0|                  0.0|                    8.0|                    0.0|                15.0|                         20.0|                  0.0|\n",
      "|       1005|               94110|        37.748855|       -122.418134|          14155286927|              78|           53|                   53|                       3|                           2|                    20|                  2.0|                     2.0|                  0.0|                   0.0|                      1.0|                  0.0|                    8.0|                    0.0|                16.0|                         10.0|                  0.0|\n",
      "|       1005|               94110|        37.748855|       -122.418134|          14155286927|              84|           53|                   53|                       3|                           2|                    20|                  2.0|                     2.0|                  0.0|                   0.0|                      1.0|                 60.0|                   59.0|                    0.0|                17.0|                          2.0|                  1.0|\n",
      "|       1005|               94110|        37.748855|       -122.418134|          14155286927|              84|           53|                   53|                       3|                           2|                    20|                  2.0|                     2.0|                  0.0|                   0.0|                      1.0|                 60.0|                   59.0|                    0.0|                18.0|                          0.0|                  0.0|\n",
      "|       1005|               94110|        37.748855|       -122.418134|          14155286927|              86|           53|                   53|                       3|                           2|                    20|                  2.0|                     2.0|                  0.0|                   0.0|                      1.0|                 23.0|                   57.0|                    0.0|                19.0|                         14.0|                  1.0|\n",
      "+-----------+--------------------+-----------------+------------------+---------------------+----------------+-------------+---------------------+------------------------+----------------------------+----------------------+---------------------+------------------------+---------------------+----------------------+-------------------------+---------------------+-----------------------+-----------------------+--------------------+-----------------------------+---------------------+\n",
      "only showing top 20 rows\n",
      "\n"
     ]
    }
   ],
   "source": [
    "indexed_df = df\n",
    "for col in categorical_columns:\n",
    "    indexer = StringIndexer(inputCol=col, outputCol=col+'_indexed')\n",
    "    indexed_df = indexer.fit(indexed_df).transform(indexed_df)\n",
    "    indexed_df = indexed_df.drop(col)\n",
    "indexed_df.show()"
   ]
  },
  {
   "cell_type": "code",
   "execution_count": 124,
   "metadata": {},
   "outputs": [
    {
     "data": {
      "text/plain": [
       "[('business_id', 'int'),\n",
       " ('business_postal_code', 'int'),\n",
       " ('business_latitude', 'double'),\n",
       " ('business_longitude', 'double'),\n",
       " ('business_phone_number', 'bigint'),\n",
       " ('inspection_score', 'int'),\n",
       " ('Neighborhoods', 'int'),\n",
       " ('SF Find Neighborhoods', 'int'),\n",
       " ('Current Police Districts', 'int'),\n",
       " ('Current Supervisor Districts', 'int'),\n",
       " ('Analysis Neighborhoods', 'int'),\n",
       " ('business_name_indexed', 'double'),\n",
       " ('business_address_indexed', 'double'),\n",
       " ('business_city_indexed', 'double'),\n",
       " ('business_state_indexed', 'double'),\n",
       " ('business_location_indexed', 'double'),\n",
       " ('inspection_id_indexed', 'double'),\n",
       " ('inspection_date_indexed', 'double'),\n",
       " ('inspection_type_indexed', 'double'),\n",
       " ('violation_id_indexed', 'double'),\n",
       " ('violation_description_indexed', 'double'),\n",
       " ('risk_category_indexed', 'double')]"
      ]
     },
     "execution_count": 124,
     "metadata": {},
     "output_type": "execute_result"
    }
   ],
   "source": [
    "df = indexed_df\n",
    "df.dtypes"
   ]
  },
  {
   "cell_type": "markdown",
   "metadata": {},
   "source": [
    "- risk_category is still a string but it need to be a numeric for regression"
   ]
  },
  {
   "cell_type": "code",
   "execution_count": 126,
   "metadata": {},
   "outputs": [],
   "source": [
    "X = df.drop('risk_category_indexed')\n",
    "Y = df.select('risk_category_indexed')"
   ]
  },
  {
   "cell_type": "code",
   "execution_count": 127,
   "metadata": {},
   "outputs": [
    {
     "name": "stdout",
     "output_type": "stream",
     "text": [
      "+---------------------+\n",
      "|risk_category_indexed|\n",
      "+---------------------+\n",
      "|                  1.0|\n",
      "|                  0.0|\n",
      "|                  0.0|\n",
      "|                  0.0|\n",
      "|                  0.0|\n",
      "+---------------------+\n",
      "only showing top 5 rows\n",
      "\n"
     ]
    }
   ],
   "source": [
    "Y.show(5)"
   ]
  },
  {
   "cell_type": "code",
   "execution_count": 128,
   "metadata": {},
   "outputs": [
    {
     "name": "stdout",
     "output_type": "stream",
     "text": [
      "+-----------+--------------------+-----------------+------------------+---------------------+----------------+-------------+---------------------+------------------------+----------------------------+----------------------+---------------------+------------------------+---------------------+----------------------+-------------------------+---------------------+-----------------------+-----------------------+--------------------+-----------------------------+\n",
      "|business_id|business_postal_code|business_latitude|business_longitude|business_phone_number|inspection_score|Neighborhoods|SF Find Neighborhoods|Current Police Districts|Current Supervisor Districts|Analysis Neighborhoods|business_name_indexed|business_address_indexed|business_city_indexed|business_state_indexed|business_location_indexed|inspection_id_indexed|inspection_date_indexed|inspection_type_indexed|violation_id_indexed|violation_description_indexed|\n",
      "+-----------+--------------------+-----------------+------------------+---------------------+----------------+-------------+---------------------+------------------------+----------------------------+----------------------+---------------------+------------------------+---------------------+----------------------+-------------------------+---------------------+-----------------------+-----------------------+--------------------+-----------------------------+\n",
      "|       1003|               94110|        37.749128|       -122.417402|          14155897712|              86|           53|                   53|                       3|                           2|                    20|                 16.0|                    15.0|                  0.0|                   0.0|                     15.0|                  4.0|                   15.0|                    0.0|                 3.0|                          3.0|\n",
      "|       1003|               94110|        37.749128|       -122.417402|          14155897712|              86|           53|                   53|                       3|                           2|                    20|                 16.0|                    15.0|                  0.0|                   0.0|                     15.0|                  4.0|                   15.0|                    0.0|                 4.0|                          8.0|\n",
      "|       1003|               94110|        37.749128|       -122.417402|          14155897712|              86|           53|                   53|                       3|                           2|                    20|                 16.0|                    15.0|                  0.0|                   0.0|                     15.0|                  4.0|                   15.0|                    0.0|                 5.0|                          1.0|\n",
      "|       1003|               94110|        37.749128|       -122.417402|          14155897712|              86|           53|                   53|                       3|                           2|                    20|                 16.0|                    15.0|                  0.0|                   0.0|                     15.0|                  4.0|                   15.0|                    0.0|                 6.0|                         17.0|\n",
      "|       1003|               94110|        37.749128|       -122.417402|          14155897712|              86|           53|                   53|                       3|                           2|                    20|                 16.0|                    15.0|                  0.0|                   0.0|                     15.0|                  4.0|                   15.0|                    0.0|                 7.0|                         26.0|\n",
      "+-----------+--------------------+-----------------+------------------+---------------------+----------------+-------------+---------------------+------------------------+----------------------------+----------------------+---------------------+------------------------+---------------------+----------------------+-------------------------+---------------------+-----------------------+-----------------------+--------------------+-----------------------------+\n",
      "only showing top 5 rows\n",
      "\n"
     ]
    }
   ],
   "source": [
    "X.show(5)"
   ]
  },
  {
   "cell_type": "code",
   "execution_count": 129,
   "metadata": {},
   "outputs": [],
   "source": [
    "assembler = VectorAssembler(inputCols=X.columns, outputCol=\"features\")\n",
    "df = assembler.transform(df)"
   ]
  },
  {
   "cell_type": "code",
   "execution_count": 141,
   "metadata": {},
   "outputs": [
    {
     "data": {
      "text/plain": [
       "372"
      ]
     },
     "execution_count": 141,
     "metadata": {},
     "output_type": "execute_result"
    }
   ],
   "source": [
    "df.count()"
   ]
  },
  {
   "cell_type": "markdown",
   "metadata": {},
   "source": [
    "- splitting Data"
   ]
  },
  {
   "cell_type": "code",
   "execution_count": 143,
   "metadata": {},
   "outputs": [],
   "source": [
    "train_data, test_data = df.randomSplit([0.6, 0.4], seed=42)"
   ]
  },
  {
   "cell_type": "code",
   "execution_count": 144,
   "metadata": {},
   "outputs": [
    {
     "name": "stdout",
     "output_type": "stream",
     "text": [
      "+-----------+--------------------+-----------------+------------------+---------------------+----------------+-------------+---------------------+------------------------+----------------------------+----------------------+---------------------+------------------------+---------------------+----------------------+-------------------------+---------------------+-----------------------+-----------------------+--------------------+-----------------------------+---------------------+--------------------+\n",
      "|business_id|business_postal_code|business_latitude|business_longitude|business_phone_number|inspection_score|Neighborhoods|SF Find Neighborhoods|Current Police Districts|Current Supervisor Districts|Analysis Neighborhoods|business_name_indexed|business_address_indexed|business_city_indexed|business_state_indexed|business_location_indexed|inspection_id_indexed|inspection_date_indexed|inspection_type_indexed|violation_id_indexed|violation_description_indexed|risk_category_indexed|            features|\n",
      "+-----------+--------------------+-----------------+------------------+---------------------+----------------+-------------+---------------------+------------------------+----------------------------+----------------------+---------------------+------------------------+---------------------+----------------------+-------------------------+---------------------+-----------------------+-----------------------+--------------------+-----------------------------+---------------------+--------------------+\n",
      "|        146|               94103|        37.764713|       -122.424709|          14155251600|              81|           37|                   37|                       3|                           5|                    20|                 17.0|                    18.0|                  0.0|                   0.0|                     18.0|                 94.0|                   79.0|                    0.0|               252.0|                         11.0|                  0.0|[146.0,94103.0,37...|\n",
      "|        146|               94103|        37.764713|       -122.424709|          14155251600|              84|           37|                   37|                       3|                           5|                    20|                 17.0|                    18.0|                  0.0|                   0.0|                     18.0|                 46.0|                   31.0|                    0.0|               249.0|                          5.0|                  1.0|[146.0,94103.0,37...|\n",
      "|        146|               94103|        37.764713|       -122.424709|          14155251600|              90|           37|                   37|                       3|                           5|                    20|                 17.0|                    18.0|                  0.0|                   0.0|                     18.0|                 95.0|                   76.0|                    0.0|               253.0|                          3.0|                  1.0|[146.0,94103.0,37...|\n",
      "|        151|               94117|        37.771487|       -122.437047|          14155629119|              81|           26|                   26|                       4|                          11|                     3|                 55.0|                    57.0|                  0.0|                   0.0|                     57.0|                 96.0|                   85.0|                    0.0|               256.0|                         15.0|                  2.0|[151.0,94117.0,37...|\n",
      "|        155|               94117|        37.769303|       -122.450724|          14155667771|              79|           25|                   25|                       7|                          11|                     3|                 21.0|                    27.0|                  0.0|                   0.0|                     27.0|                 49.0|                   37.0|                    0.0|               280.0|                          2.0|                  1.0|[155.0,94117.0,37...|\n",
      "+-----------+--------------------+-----------------+------------------+---------------------+----------------+-------------+---------------------+------------------------+----------------------------+----------------------+---------------------+------------------------+---------------------+----------------------+-------------------------+---------------------+-----------------------+-----------------------+--------------------+-----------------------------+---------------------+--------------------+\n",
      "only showing top 5 rows\n",
      "\n"
     ]
    }
   ],
   "source": [
    "train_data.show(5)"
   ]
  },
  {
   "cell_type": "code",
   "execution_count": 145,
   "metadata": {},
   "outputs": [
    {
     "data": {
      "text/plain": [
       "232"
      ]
     },
     "execution_count": 145,
     "metadata": {},
     "output_type": "execute_result"
    }
   ],
   "source": [
    "train_data.count()"
   ]
  },
  {
   "cell_type": "code",
   "execution_count": 146,
   "metadata": {},
   "outputs": [
    {
     "name": "stdout",
     "output_type": "stream",
     "text": [
      "+-------+---------------------+\n",
      "|summary|risk_category_indexed|\n",
      "+-------+---------------------+\n",
      "|  count|                  232|\n",
      "|   mean|   0.7413793103448276|\n",
      "| stddev|   0.7457897949632883|\n",
      "|    min|                  0.0|\n",
      "|    max|                  2.0|\n",
      "+-------+---------------------+\n",
      "\n"
     ]
    }
   ],
   "source": [
    "train_data.select('risk_category_indexed').describe().show()"
   ]
  },
  {
   "cell_type": "code",
   "execution_count": 152,
   "metadata": {},
   "outputs": [],
   "source": [
    "linear_regression = LinearRegression( featuresCol=\"features\", labelCol=\"risk_category_indexed\")\n",
    "model = linear_regression.fit(train_data)"
   ]
  },
  {
   "cell_type": "code",
   "execution_count": 161,
   "metadata": {},
   "outputs": [],
   "source": [
    "trainingSummary = model.summary"
   ]
  },
  {
   "cell_type": "code",
   "execution_count": 162,
   "metadata": {},
   "outputs": [
    {
     "name": "stdout",
     "output_type": "stream",
     "text": [
      "numIterations: 53\n",
      "objectiveHistory: [0.5, 0.47103108546474026, 0.45026587348723546, 0.43484623865304706, 0.4322868474320628, 0.430680663275946, 0.42921206171257176, 0.42874974015608835, 0.4283586125626996, 0.4281467034115237, 0.4279816322786544, 0.4275150883635731, 0.4270466630715034, 0.4259063594794795, 0.4255723004258086, 0.4252867966330839, 0.42510570034499573, 0.42508024931515387, 0.4250627143374529, 0.4250378434675738, 0.4250327849187513, 0.4250208201245257, 0.42501937758157304, 0.4250183592426381, 0.42501666937851745, 0.4250146396480502, 0.42501041528981454, 0.4250059511282941, 0.4250000921717244, 0.4249959402628135, 0.42499123003875205, 0.4249870028153807, 0.4249855845275149, 0.42498512064747296, 0.4249843832178001, 0.424984281689997, 0.4249841676871099, 0.4249840567094295, 0.42498403913833294, 0.42498402350014, 0.4249840172906786, 0.42498401364246796, 0.4249840105312003, 0.4249840083078268, 0.42498400504478717, 0.4249840020851777, 0.42498400060452035, 0.42498399869662784, 0.4249839978839943, 0.42498399452307034, 0.42498399419735755, 0.4249839930756095, 0.42498399246818075, 0.4249839921171158]\n",
      "+-------------------+\n",
      "|          residuals|\n",
      "+-------------------+\n",
      "|-0.8438662886981092|\n",
      "| 0.3588334032074272|\n",
      "| 0.4606221697399633|\n",
      "| 0.9470110257343549|\n",
      "| 0.3061690213082784|\n",
      "+-------------------+\n",
      "only showing top 5 rows\n",
      "\n",
      "RMSE: 0.686088\n",
      "r2: 0.150032\n"
     ]
    }
   ],
   "source": [
    "print(\"numIterations: %d\" % trainingSummary.totalIterations)\n",
    "print(\"objectiveHistory: %s\" % str(trainingSummary.objectiveHistory))\n",
    "trainingSummary.residuals.show(5)\n",
    "print(\"RMSE: %f\" % trainingSummary.rootMeanSquaredError)\n",
    "print(\"r2: %f\" % trainingSummary.r2)"
   ]
  },
  {
   "cell_type": "code",
   "execution_count": 155,
   "metadata": {},
   "outputs": [],
   "source": [
    "predictions = model.transform(test_data)"
   ]
  },
  {
   "cell_type": "code",
   "execution_count": 166,
   "metadata": {},
   "outputs": [
    {
     "name": "stdout",
     "output_type": "stream",
     "text": [
      "+---------------------+--------------------+\n",
      "|risk_category_indexed|            features|\n",
      "+---------------------+--------------------+\n",
      "|                  1.0|[146.0,94103.0,37...|\n",
      "|                  1.0|[146.0,94103.0,37...|\n",
      "|                  0.0|[146.0,94103.0,37...|\n",
      "|                  0.0|[146.0,94103.0,37...|\n",
      "|                  0.0|[151.0,94117.0,37...|\n",
      "+---------------------+--------------------+\n",
      "only showing top 5 rows\n",
      "\n"
     ]
    }
   ],
   "source": [
    "predictions.select(\"risk_category_indexed\",\"features\").show(5)"
   ]
  },
  {
   "cell_type": "code",
   "execution_count": 168,
   "metadata": {},
   "outputs": [
    {
     "name": "stdout",
     "output_type": "stream",
     "text": [
      "Root Mean Squared Error (RMSE) on test data: 0.797\n",
      "R-squared (R2) on test data: -0.125\n"
     ]
    }
   ],
   "source": [
    "evaluator = RegressionEvaluator( predictionCol = 'prediction', labelCol='risk_category_indexed', metricName=\"rmse\")\n",
    "rmse = evaluator.evaluate(predictions)\n",
    "print(\"Root Mean Squared Error (RMSE) on test data: {:.3f}\".format(rmse))\n",
    "\n",
    "evaluator_r2 = RegressionEvaluator(predictionCol = 'prediction', labelCol='risk_category_indexed', metricName=\"r2\")\n",
    "r2 = evaluator_r2.evaluate(predictions)\n",
    "print(\"R-squared (R2) on test data: {:.3f}\".format(r2))"
   ]
  }
 ],
 "metadata": {
  "kernelspec": {
   "display_name": "DEV",
   "language": "python",
   "name": "python3"
  },
  "language_info": {
   "codemirror_mode": {
    "name": "ipython",
    "version": 3
   },
   "file_extension": ".py",
   "mimetype": "text/x-python",
   "name": "python",
   "nbconvert_exporter": "python",
   "pygments_lexer": "ipython3",
   "version": "3.11.5"
  }
 },
 "nbformat": 4,
 "nbformat_minor": 2
}

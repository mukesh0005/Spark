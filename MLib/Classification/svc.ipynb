{
 "cells": [
  {
   "cell_type": "code",
   "execution_count": null,
   "metadata": {},
   "outputs": [],
   "source": [
    "from pyspark.sql import SparkSession\n",
    "from pyspark.ml.feature import VectorAssembler\n",
    "from pyspark.ml.classification import LinearSVC\n",
    "\n",
    "# Initialize Spark session\n",
    "spark = SparkSession.builder.appName(\"SVMExample\").getOrCreate()\n",
    "\n",
    "# Sample data\n",
    "data = [(0, 2.0, 1.0, 1.0), (1, 3.0, 2.0, 0.0), (0, 4.0, 3.0, 0.0), (1, 5.0, 4.0, 1.0)]\n",
    "columns = [\"label\", \"feature1\", \"feature2\", \"feature3\"]\n",
    "df = spark.createDataFrame(data, columns)\n",
    "\n",
    "# Assemble features into a single vector column\n",
    "assembler = VectorAssembler(inputCols=[\"feature1\", \"feature2\", \"feature3\"], outputCol=\"features\")\n",
    "df = assembler.transform(df)\n",
    "\n",
    "# Train Linear SVM classifier\n",
    "svm = LinearSVC(featuresCol='features', labelCol='label')\n",
    "svm_model = svm.fit(df)\n",
    "\n",
    "# Make predictions\n",
    "predictions = svm_model.transform(df)\n",
    "predictions.select(\"features\", \"label\", \"rawPrediction\", \"prediction\").show()\n",
    "\n",
    "# Stop Spark session\n",
    "spark.stop()\n"
   ]
  }
 ],
 "metadata": {
  "language_info": {
   "name": "python"
  }
 },
 "nbformat": 4,
 "nbformat_minor": 2
}

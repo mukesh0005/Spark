{
 "cells": [
  {
   "cell_type": "markdown",
   "metadata": {},
   "source": [
    "- session intialization"
   ]
  },
  {
   "cell_type": "code",
   "execution_count": 1,
   "metadata": {},
   "outputs": [],
   "source": [
    "from pyspark.sql import SparkSession;\n",
    "from pyspark.context import SparkContext\n",
    "spark = SparkSession \\\n",
    "    .builder \\\n",
    "    .appName(\"Dtree_classification\") \\\n",
    "    .getOrCreate()\n",
    "\n",
    "sc = spark.sparkContext"
   ]
  },
  {
   "cell_type": "code",
   "execution_count": 2,
   "metadata": {},
   "outputs": [
    {
     "data": {
      "text/html": [
       "\n",
       "            <div>\n",
       "                <p><b>SparkSession - in-memory</b></p>\n",
       "                \n",
       "        <div>\n",
       "            <p><b>SparkContext</b></p>\n",
       "\n",
       "            <p><a href=\"http://muki.lan:4040\">Spark UI</a></p>\n",
       "\n",
       "            <dl>\n",
       "              <dt>Version</dt>\n",
       "                <dd><code>v3.5.0</code></dd>\n",
       "              <dt>Master</dt>\n",
       "                <dd><code>local[*]</code></dd>\n",
       "              <dt>AppName</dt>\n",
       "                <dd><code>Dtree_classification</code></dd>\n",
       "            </dl>\n",
       "        </div>\n",
       "        \n",
       "            </div>\n",
       "        "
      ],
      "text/plain": [
       "<pyspark.sql.session.SparkSession at 0x29b7e8f5810>"
      ]
     },
     "execution_count": 2,
     "metadata": {},
     "output_type": "execute_result"
    }
   ],
   "source": [
    "spark"
   ]
  },
  {
   "cell_type": "code",
   "execution_count": 3,
   "metadata": {},
   "outputs": [],
   "source": [
    "from pyspark.ml.classification import DecisionTreeClassifier\n",
    "from pyspark.ml.evaluation import MulticlassClassificationEvaluator\n",
    "from pyspark.ml.tuning import CrossValidator, ParamGridBuilder\n",
    "from pyspark.ml.feature import VectorAssembler\n",
    "from pyspark.ml.feature import OneHotEncoder, StringIndexer"
   ]
  },
  {
   "cell_type": "code",
   "execution_count": 18,
   "metadata": {},
   "outputs": [
    {
     "name": "stdout",
     "output_type": "stream",
     "text": [
      "+-----------------+----------------------+----------------------+-----------+------------+-------------+---------------+------------+---------+--------+----+--------+-------------------+---------------+----------------------+--------------+-----------------+---------------------------------+--------------------+-------------------+-----+-------------+--------------+\n",
      "|host_is_superhost|host_identity_verified|neighbourhood_cleansed|   latitude|   longitude|property_type|      room_type|accommodates|bathrooms|bedrooms|beds|bed_type|Number of amenities|guests_included|price_per_extra_person|minimum_nights|number_of_reviews|number_days_btw_first_last_review|review_scores_rating|cancellation_policy|price|price_gte_150|price_category|\n",
      "+-----------------+----------------------+----------------------+-----------+------------+-------------+---------------+------------+---------+--------+----+--------+-------------------+---------------+----------------------+--------------+-----------------+---------------------------------+--------------------+-------------------+-----+-------------+--------------+\n",
      "|                0|                     0|            Roslindale| 42.2826188|-71.13306793|        House|Entire home/apt|           4|      1.5|       2|   3|Real Bed|                 14|              1|                     0|             2|                0|                                0|                NULL|           moderate|  250|            1|       gte_226|\n",
      "|                0|                     1|            Roslindale|42.28624082|-71.13437396|    Apartment|   Private room|           2|      1.0|       1|   1|Real Bed|                 20|              0|                     0|             2|               36|                              804|                  94|           moderate|   65|            0|       lte_$75|\n",
      "|                1|                     1|            Roslindale|42.29243789|-71.13576525|    Apartment|   Private room|           2|      1.0|       1|   1|Real Bed|                 17|              1|                    20|             3|               41|                             2574|                  98|           moderate|   65|            0|       lte_$75|\n",
      "|                0|                     0|            Roslindale|42.28110619|-71.12102117|        House|   Private room|           4|      1.0|       1|   2|Real Bed|                 22|              2|                    25|             1|                1|                                0|                 100|           moderate|   75|            0|       lte_$75|\n",
      "|                1|                     1|            Roslindale|42.28451221|-71.13625805|        House|   Private room|           2|      1.5|       1|   2|Real Bed|                 13|              1|                     0|             2|               29|                              380|                  99|           flexible|   79|            0|  btw_$75-$150|\n",
      "+-----------------+----------------------+----------------------+-----------+------------+-------------+---------------+------------+---------+--------+----+--------+-------------------+---------------+----------------------+--------------+-----------------+---------------------------------+--------------------+-------------------+-----+-------------+--------------+\n",
      "only showing top 5 rows\n",
      "\n"
     ]
    }
   ],
   "source": [
    "df = spark.read.csv('./data/airbnb.csv',header=True, inferSchema=True)\n",
    "df.show(5)"
   ]
  },
  {
   "cell_type": "code",
   "execution_count": 19,
   "metadata": {},
   "outputs": [
    {
     "name": "stdout",
     "output_type": "stream",
     "text": [
      "+-------+-------------------+----------------------+----------------------+--------------------+-------------------+-------------+---------------+------------------+------------------+------------------+------------------+--------+-------------------+------------------+----------------------+------------------+------------------+---------------------------------+--------------------+-------------------+------------------+------------------+--------------+\n",
      "|summary|  host_is_superhost|host_identity_verified|neighbourhood_cleansed|            latitude|          longitude|property_type|      room_type|      accommodates|         bathrooms|          bedrooms|              beds|bed_type|Number of amenities|   guests_included|price_per_extra_person|    minimum_nights| number_of_reviews|number_days_btw_first_last_review|review_scores_rating|cancellation_policy|             price|     price_gte_150|price_category|\n",
      "+-------+-------------------+----------------------+----------------------+--------------------+-------------------+-------------+---------------+------------------+------------------+------------------+------------------+--------+-------------------+------------------+----------------------+------------------+------------------+---------------------------------+--------------------+-------------------+------------------+------------------+--------------+\n",
      "|  count|               3555|                  3555|                  3555|                3555|               3555|         3552|           3555|              3555|              3541|              3545|              3546|    3555|               3555|              3555|                  3555|              3555|              3555|                             3555|                2755|               3555|              3555|              3555|          3555|\n",
      "|   mean|0.11308016877637131|    0.7279887482419128|                  NULL|    42.3399728456429| -71.08487357239112|         NULL|           NULL|3.0236286919831223|1.2158994634284102|1.2465444287729197|1.5972927241962775|    NULL| 14.858790436005625|1.4270042194092827|    10.886638537271448|3.1167369901547115|19.126582278481013|               279.05260196905766|   91.89147005444646|               NULL|166.06047819971872|0.5004219409282701|          NULL|\n",
      "| stddev| 0.3167353216341822|   0.44505825292273127|                  NULL|0.024464274873615344|0.03161410351769876|         NULL|           NULL| 1.754808105870295|0.4926564852799693|0.7384399105425397| 0.995467019436028|    NULL| 4.8212596863376795|1.0502039884034435|    19.092754928281384| 8.273948956250424| 35.66617813552995|                408.6869524320438|    9.54838136115811|               NULL| 103.3784563279419| 0.500070160268479|          NULL|\n",
      "|    min|                  0|                     0|               Allston|         42.23594181|       -71.17178882|    Apartment|Entire home/apt|                 1|               0.0|                 0|                 0|  Airbed|                  0|                 0|                     0|                 1|                 0|                                0|                  20|           flexible|                10|                 0| btw_$151-$225|\n",
      "|    max|                  1|                     1|          West Roxbury|         42.38998168|       -71.00009992|        Villa|    Shared room|                16|               6.0|                 5|                16|Real Bed|                 30|                14|                   200|               300|               404|                             2680|                 100|    super_strict_30|               650|                 1|       lte_$75|\n",
      "+-------+-------------------+----------------------+----------------------+--------------------+-------------------+-------------+---------------+------------------+------------------+------------------+------------------+--------+-------------------+------------------+----------------------+------------------+------------------+---------------------------------+--------------------+-------------------+------------------+------------------+--------------+\n",
      "\n"
     ]
    }
   ],
   "source": [
    "df.describe().show()"
   ]
  },
  {
   "cell_type": "code",
   "execution_count": 20,
   "metadata": {},
   "outputs": [
    {
     "name": "stdout",
     "output_type": "stream",
     "text": [
      "+-----------------+----------------------+----------------------+--------+---------+-------------+---------+------------+---------+--------+----+--------+-------------------+---------------+----------------------+--------------+-----------------+---------------------------------+--------------------+-------------------+-----+-------------+--------------+\n",
      "|host_is_superhost|host_identity_verified|neighbourhood_cleansed|latitude|longitude|property_type|room_type|accommodates|bathrooms|bedrooms|beds|bed_type|Number of amenities|guests_included|price_per_extra_person|minimum_nights|number_of_reviews|number_days_btw_first_last_review|review_scores_rating|cancellation_policy|price|price_gte_150|price_category|\n",
      "+-----------------+----------------------+----------------------+--------+---------+-------------+---------+------------+---------+--------+----+--------+-------------------+---------------+----------------------+--------------+-----------------+---------------------------------+--------------------+-------------------+-----+-------------+--------------+\n",
      "|                0|                     0|                     0|       0|        0|            3|        0|           0|       14|      10|   9|       0|                  0|              0|                     0|             0|                0|                                0|                 800|                  0|    0|            0|             0|\n",
      "+-----------------+----------------------+----------------------+--------+---------+-------------+---------+------------+---------+--------+----+--------+-------------------+---------------+----------------------+--------------+-----------------+---------------------------------+--------------------+-------------------+-----+-------------+--------------+\n",
      "\n"
     ]
    }
   ],
   "source": [
    "from pyspark.sql.functions import col, sum as spark_sum\n",
    "\n",
    "missing_counts = df.select([spark_sum(col(c).isNull().cast(\"int\")).alias(c) for c in df.columns])\n",
    "\n",
    "# Show the result\n",
    "missing_counts.show()"
   ]
  },
  {
   "cell_type": "code",
   "execution_count": 21,
   "metadata": {},
   "outputs": [],
   "source": [
    "df = df.dropna(how='any')"
   ]
  },
  {
   "cell_type": "code",
   "execution_count": 22,
   "metadata": {},
   "outputs": [
    {
     "name": "stdout",
     "output_type": "stream",
     "text": [
      "+-----------------+----------------------+----------------------+--------+---------+-------------+---------+------------+---------+--------+----+--------+-------------------+---------------+----------------------+--------------+-----------------+---------------------------------+--------------------+-------------------+-----+-------------+--------------+\n",
      "|host_is_superhost|host_identity_verified|neighbourhood_cleansed|latitude|longitude|property_type|room_type|accommodates|bathrooms|bedrooms|beds|bed_type|Number of amenities|guests_included|price_per_extra_person|minimum_nights|number_of_reviews|number_days_btw_first_last_review|review_scores_rating|cancellation_policy|price|price_gte_150|price_category|\n",
      "+-----------------+----------------------+----------------------+--------+---------+-------------+---------+------------+---------+--------+----+--------+-------------------+---------------+----------------------+--------------+-----------------+---------------------------------+--------------------+-------------------+-----+-------------+--------------+\n",
      "|                0|                     0|                     0|       0|        0|            0|        0|           0|        0|       0|   0|       0|                  0|              0|                     0|             0|                0|                                0|                   0|                  0|    0|            0|             0|\n",
      "+-----------------+----------------------+----------------------+--------+---------+-------------+---------+------------+---------+--------+----+--------+-------------------+---------------+----------------------+--------------+-----------------+---------------------------------+--------------------+-------------------+-----+-------------+--------------+\n",
      "\n"
     ]
    }
   ],
   "source": [
    "missing_counts = df.select([spark_sum(col(c).isNull().cast(\"int\")).alias(c) for c in df.columns])\n",
    "\n",
    "# Show the result\n",
    "missing_counts.show()"
   ]
  },
  {
   "cell_type": "code",
   "execution_count": 23,
   "metadata": {},
   "outputs": [
    {
     "name": "stdout",
     "output_type": "stream",
     "text": [
      "+-----------------+----------------------+----------------------+-----------+------------+-------------+------------+------------+---------+--------+----+--------+-------------------+---------------+----------------------+--------------+-----------------+---------------------------------+--------------------+-------------------+-----+-------------+--------------+\n",
      "|host_is_superhost|host_identity_verified|neighbourhood_cleansed|   latitude|   longitude|property_type|   room_type|accommodates|bathrooms|bedrooms|beds|bed_type|Number of amenities|guests_included|price_per_extra_person|minimum_nights|number_of_reviews|number_days_btw_first_last_review|review_scores_rating|cancellation_policy|price|price_gte_150|price_category|\n",
      "+-----------------+----------------------+----------------------+-----------+------------+-------------+------------+------------+---------+--------+----+--------+-------------------+---------------+----------------------+--------------+-----------------+---------------------------------+--------------------+-------------------+-----+-------------+--------------+\n",
      "|                0|                     1|            Roslindale|42.28624082|-71.13437396|    Apartment|Private room|           2|      1.0|       1|   1|Real Bed|                 20|              0|                     0|             2|               36|                              804|                  94|           moderate|   65|            0|       lte_$75|\n",
      "+-----------------+----------------------+----------------------+-----------+------------+-------------+------------+------------+---------+--------+----+--------+-------------------+---------------+----------------------+--------------+-----------------+---------------------------------+--------------------+-------------------+-----+-------------+--------------+\n",
      "only showing top 1 row\n",
      "\n"
     ]
    }
   ],
   "source": [
    "df.show(1)"
   ]
  },
  {
   "cell_type": "code",
   "execution_count": 24,
   "metadata": {},
   "outputs": [
    {
     "name": "stdout",
     "output_type": "stream",
     "text": [
      "root\n",
      " |-- host_is_superhost: integer (nullable = true)\n",
      " |-- host_identity_verified: integer (nullable = true)\n",
      " |-- neighbourhood_cleansed: string (nullable = true)\n",
      " |-- latitude: double (nullable = true)\n",
      " |-- longitude: double (nullable = true)\n",
      " |-- property_type: string (nullable = true)\n",
      " |-- room_type: string (nullable = true)\n",
      " |-- accommodates: integer (nullable = true)\n",
      " |-- bathrooms: double (nullable = true)\n",
      " |-- bedrooms: integer (nullable = true)\n",
      " |-- beds: integer (nullable = true)\n",
      " |-- bed_type: string (nullable = true)\n",
      " |-- Number of amenities: integer (nullable = true)\n",
      " |-- guests_included: integer (nullable = true)\n",
      " |-- price_per_extra_person: integer (nullable = true)\n",
      " |-- minimum_nights: integer (nullable = true)\n",
      " |-- number_of_reviews: integer (nullable = true)\n",
      " |-- number_days_btw_first_last_review: integer (nullable = true)\n",
      " |-- review_scores_rating: integer (nullable = true)\n",
      " |-- cancellation_policy: string (nullable = true)\n",
      " |-- price: integer (nullable = true)\n",
      " |-- price_gte_150: integer (nullable = true)\n",
      " |-- price_category: string (nullable = true)\n",
      "\n"
     ]
    }
   ],
   "source": [
    "df.printSchema()"
   ]
  },
  {
   "cell_type": "code",
   "execution_count": 25,
   "metadata": {},
   "outputs": [
    {
     "data": {
      "text/plain": [
       "[('host_is_superhost', 'int'),\n",
       " ('host_identity_verified', 'int'),\n",
       " ('neighbourhood_cleansed', 'string'),\n",
       " ('latitude', 'double'),\n",
       " ('longitude', 'double'),\n",
       " ('property_type', 'string'),\n",
       " ('room_type', 'string'),\n",
       " ('accommodates', 'int'),\n",
       " ('bathrooms', 'double'),\n",
       " ('bedrooms', 'int'),\n",
       " ('beds', 'int'),\n",
       " ('bed_type', 'string'),\n",
       " ('Number of amenities', 'int'),\n",
       " ('guests_included', 'int'),\n",
       " ('price_per_extra_person', 'int'),\n",
       " ('minimum_nights', 'int'),\n",
       " ('number_of_reviews', 'int'),\n",
       " ('number_days_btw_first_last_review', 'int'),\n",
       " ('review_scores_rating', 'int'),\n",
       " ('cancellation_policy', 'string'),\n",
       " ('price', 'int'),\n",
       " ('price_gte_150', 'int'),\n",
       " ('price_category', 'string')]"
      ]
     },
     "execution_count": 25,
     "metadata": {},
     "output_type": "execute_result"
    }
   ],
   "source": [
    "df.dtypes"
   ]
  },
  {
   "cell_type": "code",
   "execution_count": 30,
   "metadata": {},
   "outputs": [],
   "source": [
    "from pyspark.sql.types import StringType\n",
    "\n",
    "def is_categorical(column):\n",
    "    return isinstance(df.schema[column].dataType, StringType)\n",
    "\n",
    "# Select only categorical columns\n",
    "categorical_columns = [column for column in df.columns if is_categorical(column)]"
   ]
  },
  {
   "cell_type": "code",
   "execution_count": 31,
   "metadata": {},
   "outputs": [
    {
     "data": {
      "text/plain": [
       "['neighbourhood_cleansed',\n",
       " 'property_type',\n",
       " 'room_type',\n",
       " 'bed_type',\n",
       " 'cancellation_policy',\n",
       " 'price_category']"
      ]
     },
     "execution_count": 31,
     "metadata": {},
     "output_type": "execute_result"
    }
   ],
   "source": [
    "categorical_columns"
   ]
  },
  {
   "cell_type": "markdown",
   "metadata": {},
   "source": [
    "- Some algorithms, like tree-based algorithms (e.g., decision trees, random forests), can naturally handle categorical features without explicit encoding. In such cases, using the combined feature vector may be more convenient."
   ]
  },
  {
   "cell_type": "markdown",
   "metadata": {},
   "source": [
    "- Before building the model, we need to assemble the input features into a single feature vector using the VectorAssembler class. Then, we will split the dataset into a training set (80%) and a testing set (20%)."
   ]
  },
  {
   "cell_type": "markdown",
   "metadata": {},
   "source": [
    "- Indexing"
   ]
  },
  {
   "cell_type": "code",
   "execution_count": 34,
   "metadata": {},
   "outputs": [
    {
     "name": "stdout",
     "output_type": "stream",
     "text": [
      "+-----------------+----------------------+-----------+------------+------------+---------+--------+----+-------------------+---------------+----------------------+--------------+-----------------+---------------------------------+--------------------+-----+-------------+------------------------------+---------------------+-----------------+----------------+---------------------------+----------------------+\n",
      "|host_is_superhost|host_identity_verified|   latitude|   longitude|accommodates|bathrooms|bedrooms|beds|Number of amenities|guests_included|price_per_extra_person|minimum_nights|number_of_reviews|number_days_btw_first_last_review|review_scores_rating|price|price_gte_150|neighbourhood_cleansed_indexed|property_type_indexed|room_type_indexed|bed_type_indexed|cancellation_policy_indexed|price_category_indexed|\n",
      "+-----------------+----------------------+-----------+------------+------------+---------+--------+----+-------------------+---------------+----------------------+--------------+-----------------+---------------------------------+--------------------+-----+-------------+------------------------------+---------------------+-----------------+----------------+---------------------------+----------------------+\n",
      "|                0|                     1|42.28624082|-71.13437396|           2|      1.0|       1|   1|                 20|              0|                     0|             2|               36|                              804|                  94|   65|            0|                          16.0|                  0.0|              1.0|             0.0|                        1.0|                   3.0|\n",
      "|                1|                     1|42.29243789|-71.13576525|           2|      1.0|       1|   1|                 17|              1|                    20|             3|               41|                             2574|                  98|   65|            0|                          16.0|                  0.0|              1.0|             0.0|                        1.0|                   3.0|\n",
      "|                0|                     0|42.28110619|-71.12102117|           4|      1.0|       1|   2|                 22|              2|                    25|             1|                1|                                0|                 100|   75|            0|                          16.0|                  1.0|              1.0|             0.0|                        1.0|                   3.0|\n",
      "|                1|                     1|42.28451221|-71.13625805|           2|      1.5|       1|   2|                 13|              1|                     0|             2|               29|                              380|                  99|   79|            0|                          16.0|                  1.0|              1.0|             0.0|                        2.0|                   0.0|\n",
      "|                1|                     1| 42.2916898|-71.13189277|           2|      1.0|       1|   1|                 12|              1|                     0|             2|                8|                              130|                 100|   75|            0|                          16.0|                  2.0|              1.0|             0.0|                        2.0|                   3.0|\n",
      "|                0|                     1|42.28138963|-71.13119042|           3|      1.0|       1|   2|                 12|              1|                    25|             1|               57|                              421|                  90|  100|            0|                          16.0|                  0.0|              0.0|             0.0|                        0.0|                   0.0|\n",
      "|                1|                     1| 42.2819461|-71.14102161|           2|      2.0|       1|   1|                 22|              1|                    15|             1|               67|                              840|                  96|   75|            0|                          16.0|                  1.0|              1.0|             0.0|                        1.0|                   3.0|\n",
      "|                1|                     1|42.28587764|-71.12490956|           2|      1.0|       1|   2|                  9|              2|                     0|             2|               65|                              355|                  96|   58|            0|                          16.0|                  2.0|              1.0|             0.0|                        1.0|                   3.0|\n",
      "|                1|                     1|42.28882028| -71.1395101|           5|      1.0|       2|   2|                 21|              4|                    25|             4|               33|                              876|                  94|  229|            1|                          16.0|                  0.0|              0.0|             0.0|                        0.0|                   2.0|\n",
      "|                0|                     0| 42.2864482|-71.13932539|           2|      1.0|       1|   1|                 15|              1|                    10|             1|                1|                                0|                  80|   60|            0|                          16.0|                  1.0|              1.0|             0.0|                        2.0|                   3.0|\n",
      "|                1|                     1|42.28194183| -71.1333719|           1|      1.0|       1|   1|                 13|              1|                     0|             1|               17|                             1032|                  94|   57|            0|                          16.0|                  1.0|              1.0|             0.0|                        2.0|                   3.0|\n",
      "|                0|                     0|42.29172341|-71.13155602|           4|      1.0|       2|   2|                 18|              1|                     0|             1|                1|                                0|                 100|   93|            0|                          16.0|                  2.0|              0.0|             0.0|                        2.0|                   0.0|\n",
      "|                0|                     1|42.28764103|-71.12988287|           5|      1.0|       2|   3|                 19|              5|                    30|             2|               12|                               68|                  97|  150|            1|                          16.0|                  0.0|              0.0|             0.0|                        1.0|                   0.0|\n",
      "|                0|                     1|42.28626474|-71.13706513|           2|      1.5|       2|   2|                 13|              2|                    35|             3|                7|                              340|                  91|  145|            0|                          16.0|                  1.0|              0.0|             0.0|                        1.0|                   0.0|\n",
      "|                0|                     0|42.28145207|-71.12925004|           1|      0.0|       1|   1|                 14|              1|                     0|             1|               70|                             1776|                  96|   60|            0|                          16.0|                  0.0|              1.0|             0.0|                        0.0|                   3.0|\n",
      "|                0|                     0|42.27440801|-71.12529404|           4|      1.0|       1|   3|                 15|              3|                    15|             3|                1|                                0|                 100|  165|            1|                          16.0|                  1.0|              1.0|             0.0|                        2.0|                   1.0|\n",
      "|                0|                     0|42.29181492|-71.13158793|           2|      1.0|       1|   1|                 16|              1|                    15|             1|                1|                                0|                 100|   75|            0|                          16.0|                  2.0|              1.0|             0.0|                        2.0|                   3.0|\n",
      "|                1|                     1|42.28280175|-71.11514509|           2|      1.0|       1|   1|                 13|              1|                    10|             5|                4|                              399|                  95|   49|            0|                          16.0|                  1.0|              1.0|             0.0|                        0.0|                   3.0|\n",
      "|                1|                     1|42.27964782|-71.13605873|           1|      2.5|       1|   1|                 13|              1|                     0|             2|               31|                              742|                  99|   40|            0|                          16.0|                  9.0|              1.0|             0.0|                        2.0|                   3.0|\n",
      "|                0|                     1|42.29403534|-71.13223725|           3|      1.0|       0|   2|                 17|              3|                     0|             2|               16|                               74|                  98|  120|            0|                          16.0|                  1.0|              0.0|             0.0|                        1.0|                   0.0|\n",
      "+-----------------+----------------------+-----------+------------+------------+---------+--------+----+-------------------+---------------+----------------------+--------------+-----------------+---------------------------------+--------------------+-----+-------------+------------------------------+---------------------+-----------------+----------------+---------------------------+----------------------+\n",
      "only showing top 20 rows\n",
      "\n"
     ]
    }
   ],
   "source": [
    "indexed_df = df\n",
    "for col in categorical_columns:\n",
    "    indexer = StringIndexer(inputCol=col, outputCol=col+'_indexed')\n",
    "    indexed_df = indexer.fit(indexed_df).transform(indexed_df)\n",
    "    indexed_df = indexed_df.drop(col)\n",
    "indexed_df.show()"
   ]
  },
  {
   "cell_type": "code",
   "execution_count": 36,
   "metadata": {},
   "outputs": [
    {
     "data": {
      "text/plain": [
       "[('host_is_superhost', 'int'),\n",
       " ('host_identity_verified', 'int'),\n",
       " ('latitude', 'double'),\n",
       " ('longitude', 'double'),\n",
       " ('accommodates', 'int'),\n",
       " ('bathrooms', 'double'),\n",
       " ('bedrooms', 'int'),\n",
       " ('beds', 'int'),\n",
       " ('Number of amenities', 'int'),\n",
       " ('guests_included', 'int'),\n",
       " ('price_per_extra_person', 'int'),\n",
       " ('minimum_nights', 'int'),\n",
       " ('number_of_reviews', 'int'),\n",
       " ('number_days_btw_first_last_review', 'int'),\n",
       " ('review_scores_rating', 'int'),\n",
       " ('price', 'int'),\n",
       " ('price_gte_150', 'int'),\n",
       " ('neighbourhood_cleansed_indexed', 'double'),\n",
       " ('property_type_indexed', 'double'),\n",
       " ('room_type_indexed', 'double'),\n",
       " ('bed_type_indexed', 'double'),\n",
       " ('cancellation_policy_indexed', 'double'),\n",
       " ('price_category_indexed', 'double')]"
      ]
     },
     "execution_count": 36,
     "metadata": {},
     "output_type": "execute_result"
    }
   ],
   "source": [
    "df = indexed_df\n",
    "df.dtypes"
   ]
  },
  {
   "cell_type": "code",
   "execution_count": 37,
   "metadata": {},
   "outputs": [],
   "source": [
    "X = df.drop('price')\n",
    "Y = df.select('price')"
   ]
  },
  {
   "cell_type": "code",
   "execution_count": 38,
   "metadata": {},
   "outputs": [
    {
     "name": "stdout",
     "output_type": "stream",
     "text": [
      "+-----+\n",
      "|price|\n",
      "+-----+\n",
      "|   65|\n",
      "|   65|\n",
      "|   75|\n",
      "|   79|\n",
      "|   75|\n",
      "+-----+\n",
      "only showing top 5 rows\n",
      "\n"
     ]
    }
   ],
   "source": [
    "Y.show(5)"
   ]
  },
  {
   "cell_type": "code",
   "execution_count": 39,
   "metadata": {},
   "outputs": [
    {
     "name": "stdout",
     "output_type": "stream",
     "text": [
      "+-----------------+----------------------+-----------+------------+------------+---------+--------+----+-------------------+---------------+----------------------+--------------+-----------------+---------------------------------+--------------------+-------------+------------------------------+---------------------+-----------------+----------------+---------------------------+----------------------+\n",
      "|host_is_superhost|host_identity_verified|   latitude|   longitude|accommodates|bathrooms|bedrooms|beds|Number of amenities|guests_included|price_per_extra_person|minimum_nights|number_of_reviews|number_days_btw_first_last_review|review_scores_rating|price_gte_150|neighbourhood_cleansed_indexed|property_type_indexed|room_type_indexed|bed_type_indexed|cancellation_policy_indexed|price_category_indexed|\n",
      "+-----------------+----------------------+-----------+------------+------------+---------+--------+----+-------------------+---------------+----------------------+--------------+-----------------+---------------------------------+--------------------+-------------+------------------------------+---------------------+-----------------+----------------+---------------------------+----------------------+\n",
      "|                0|                     1|42.28624082|-71.13437396|           2|      1.0|       1|   1|                 20|              0|                     0|             2|               36|                              804|                  94|            0|                          16.0|                  0.0|              1.0|             0.0|                        1.0|                   3.0|\n",
      "|                1|                     1|42.29243789|-71.13576525|           2|      1.0|       1|   1|                 17|              1|                    20|             3|               41|                             2574|                  98|            0|                          16.0|                  0.0|              1.0|             0.0|                        1.0|                   3.0|\n",
      "|                0|                     0|42.28110619|-71.12102117|           4|      1.0|       1|   2|                 22|              2|                    25|             1|                1|                                0|                 100|            0|                          16.0|                  1.0|              1.0|             0.0|                        1.0|                   3.0|\n",
      "|                1|                     1|42.28451221|-71.13625805|           2|      1.5|       1|   2|                 13|              1|                     0|             2|               29|                              380|                  99|            0|                          16.0|                  1.0|              1.0|             0.0|                        2.0|                   0.0|\n",
      "|                1|                     1| 42.2916898|-71.13189277|           2|      1.0|       1|   1|                 12|              1|                     0|             2|                8|                              130|                 100|            0|                          16.0|                  2.0|              1.0|             0.0|                        2.0|                   3.0|\n",
      "+-----------------+----------------------+-----------+------------+------------+---------+--------+----+-------------------+---------------+----------------------+--------------+-----------------+---------------------------------+--------------------+-------------+------------------------------+---------------------+-----------------+----------------+---------------------------+----------------------+\n",
      "only showing top 5 rows\n",
      "\n"
     ]
    }
   ],
   "source": [
    "X.show(5)"
   ]
  },
  {
   "cell_type": "code",
   "execution_count": 40,
   "metadata": {},
   "outputs": [],
   "source": [
    "assembler = VectorAssembler(inputCols=X.columns, outputCol=\"features\")\n",
    "df = assembler.transform(df)"
   ]
  },
  {
   "cell_type": "markdown",
   "metadata": {},
   "source": [
    "- splitting Data"
   ]
  },
  {
   "cell_type": "code",
   "execution_count": 41,
   "metadata": {},
   "outputs": [],
   "source": [
    "train_data, test_data = df.randomSplit([0.8, 0.2], seed=42)"
   ]
  },
  {
   "cell_type": "code",
   "execution_count": 42,
   "metadata": {},
   "outputs": [
    {
     "name": "stdout",
     "output_type": "stream",
     "text": [
      "+-----------------+----------------------+-----------+------------+------------+---------+--------+----+-------------------+---------------+----------------------+--------------+-----------------+---------------------------------+--------------------+-----+-------------+------------------------------+---------------------+-----------------+----------------+---------------------------+----------------------+--------------------+\n",
      "|host_is_superhost|host_identity_verified|   latitude|   longitude|accommodates|bathrooms|bedrooms|beds|Number of amenities|guests_included|price_per_extra_person|minimum_nights|number_of_reviews|number_days_btw_first_last_review|review_scores_rating|price|price_gte_150|neighbourhood_cleansed_indexed|property_type_indexed|room_type_indexed|bed_type_indexed|cancellation_policy_indexed|price_category_indexed|            features|\n",
      "+-----------------+----------------------+-----------+------------+------------+---------+--------+----+-------------------+---------------+----------------------+--------------+-----------------+---------------------------------+--------------------+-----+-------------+------------------------------+---------------------+-----------------+----------------+---------------------------+----------------------+--------------------+\n",
      "|                0|                     0|42.24448149|-71.11683436|           2|      1.0|       1|   1|                 17|              0|                     0|             2|               14|                               69|                 100|   95|            0|                          20.0|                  1.0|              1.0|             0.0|                        0.0|                   0.0|[0.0,0.0,42.24448...|\n",
      "|                0|                     0|42.25161821|-71.11464543|           1|      1.0|       1|   1|                 10|              1|                     0|             1|                9|                              333|                  96|   75|            0|                          20.0|                  1.0|              1.0|             0.0|                        2.0|                   3.0|[0.0,0.0,42.25161...|\n",
      "|                0|                     0|42.26519712|-71.10988075|           2|      1.0|       1|   1|                 13|              1|                    25|             1|                1|                                0|                  80|   60|            0|                          20.0|                  1.0|              1.0|             0.0|                        0.0|                   3.0|[0.0,0.0,42.26519...|\n",
      "|                0|                     0|42.26569049|-71.15989519|           1|      1.0|       1|   1|                  6|              1|                     0|             2|                7|                              131|                  66|   48|            0|                          18.0|                  0.0|              2.0|             0.0|                        0.0|                   3.0|[0.0,0.0,42.26569...|\n",
      "|                0|                     0|42.26653249|-71.10883175|           2|      1.5|       1|   1|                 19|              1|                    25|             1|                1|                                0|                 100|   65|            0|                          20.0|                  1.0|              1.0|             0.0|                        0.0|                   3.0|[0.0,0.0,42.26653...|\n",
      "+-----------------+----------------------+-----------+------------+------------+---------+--------+----+-------------------+---------------+----------------------+--------------+-----------------+---------------------------------+--------------------+-----+-------------+------------------------------+---------------------+-----------------+----------------+---------------------------+----------------------+--------------------+\n",
      "only showing top 5 rows\n",
      "\n"
     ]
    }
   ],
   "source": [
    "train_data.show(5)"
   ]
  },
  {
   "cell_type": "code",
   "execution_count": 46,
   "metadata": {},
   "outputs": [
    {
     "name": "stdout",
     "output_type": "stream",
     "text": [
      "+-------+------------------+\n",
      "|summary|             price|\n",
      "+-------+------------------+\n",
      "|  count|              2229|\n",
      "|   mean| 164.3472409152086|\n",
      "| stddev|102.33563086478506|\n",
      "|    min|                11|\n",
      "|    max|               650|\n",
      "+-------+------------------+\n",
      "\n"
     ]
    }
   ],
   "source": [
    "train_data.select('price').describe().show()"
   ]
  },
  {
   "cell_type": "code",
   "execution_count": 49,
   "metadata": {},
   "outputs": [],
   "source": [
    "from pyspark.ml.regression import DecisionTreeRegressor"
   ]
  },
  {
   "cell_type": "code",
   "execution_count": 50,
   "metadata": {},
   "outputs": [],
   "source": [
    "dt_classifier = DecisionTreeRegressor(labelCol='price', featuresCol=\"features\")\n",
    "\n",
    "model = dt_classifier.fit(train_data)"
   ]
  },
  {
   "cell_type": "code",
   "execution_count": 51,
   "metadata": {},
   "outputs": [],
   "source": [
    "predictions = model.transform(test_data)"
   ]
  },
  {
   "cell_type": "code",
   "execution_count": 53,
   "metadata": {},
   "outputs": [
    {
     "name": "stdout",
     "output_type": "stream",
     "text": [
      "Test Accuracy: 0.07\n"
     ]
    }
   ],
   "source": [
    "evaluator = MulticlassClassificationEvaluator(labelCol=\"price\", predictionCol=\"prediction\", metricName=\"accuracy\")\n",
    "accuracy = evaluator.evaluate(predictions)\n",
    "\n",
    "print(f\"Test Accuracy: {accuracy:.2f}\")"
   ]
  },
  {
   "cell_type": "code",
   "execution_count": 54,
   "metadata": {},
   "outputs": [
    {
     "name": "stdout",
     "output_type": "stream",
     "text": [
      "DecisionTreeRegressionModel: uid=DecisionTreeRegressor_ac1a701a3f46, depth=5, numNodes=57, numFeatures=22\n",
      "  If (feature 21 in {0.0,1.0,3.0})\n",
      "   If (feature 15 <= 0.5)\n",
      "    If (feature 21 in {3.0})\n",
      "     If (feature 4 <= 1.5)\n",
      "      If (feature 11 <= 7.5)\n",
      "       Predict: 54.73809523809524\n",
      "      Else (feature 11 > 7.5)\n",
      "       Predict: 40.666666666666664\n",
      "     Else (feature 4 > 1.5)\n",
      "      If (feature 13 <= 451.5)\n",
      "       Predict: 61.506726457399104\n",
      "      Else (feature 13 > 451.5)\n",
      "       Predict: 68.32183908045977\n",
      "    Else (feature 21 not in {3.0})\n",
      "     If (feature 18 in {1.0,2.0})\n",
      "      If (feature 16 in {0.0,3.0,4.0,5.0,8.0,9.0,12.0,13.0,16.0,17.0,18.0,20.0,21.0,24.0})\n",
      "       Predict: 93.60507246376811\n",
      "      Else (feature 16 not in {0.0,3.0,4.0,5.0,8.0,9.0,12.0,13.0,16.0,17.0,18.0,20.0,21.0,24.0})\n",
      "       Predict: 111.95762711864407\n",
      "     Else (feature 18 not in {1.0,2.0})\n",
      "      If (feature 16 in {0.0,3.0,4.0,5.0,8.0,9.0,12.0,13.0,16.0,18.0,20.0})\n",
      "       Predict: 117.36904761904762\n",
      "      Else (feature 16 not in {0.0,3.0,4.0,5.0,8.0,9.0,12.0,13.0,16.0,18.0,20.0})\n",
      "       Predict: 126.74137931034483\n",
      "   Else (feature 15 > 0.5)\n",
      "    If (feature 21 in {0.0})\n",
      "     Predict: 150.0\n",
      "    Else (feature 21 not in {0.0})\n",
      "     If (feature 11 <= 3.5)\n",
      "      If (feature 18 in {1.0})\n",
      "       Predict: 178.6904761904762\n",
      "      Else (feature 18 not in {1.0})\n",
      "       Predict: 190.86889460154242\n",
      "     Else (feature 11 > 3.5)\n",
      "      If (feature 16 in {1.0,2.0,4.0,5.0,6.0,10.0,11.0,13.0,16.0,20.0})\n",
      "       Predict: 173.08510638297872\n",
      "      Else (feature 16 not in {1.0,2.0,4.0,5.0,6.0,10.0,11.0,13.0,16.0,20.0})\n",
      "       Predict: 190.84615384615384\n",
      "  Else (feature 21 not in {0.0,1.0,3.0})\n",
      "   If (feature 5 <= 1.75)\n",
      "    If (feature 6 <= 1.5)\n",
      "     If (feature 16 in {1.0,2.0,5.0,9.0,10.0,13.0,14.0,19.0})\n",
      "      If (feature 4 <= 7.5)\n",
      "       Predict: 260.1818181818182\n",
      "      Else (feature 4 > 7.5)\n",
      "       Predict: 350.0\n",
      "     Else (feature 16 not in {1.0,2.0,5.0,9.0,10.0,13.0,14.0,19.0})\n",
      "      If (feature 18 in {0.0})\n",
      "       Predict: 278.22972972972974\n",
      "      Else (feature 18 not in {0.0})\n",
      "       Predict: 336.5\n",
      "    Else (feature 6 > 1.5)\n",
      "     If (feature 16 in {1.0,3.0,4.0,5.0,6.0,7.0,8.0,11.0,12.0,14.0,15.0,16.0,17.0,18.0,19.0,20.0,22.0})\n",
      "      If (feature 16 in {1.0,3.0,6.0,7.0,8.0,12.0,15.0,16.0,19.0,20.0})\n",
      "       Predict: 272.7910447761194\n",
      "      Else (feature 16 not in {1.0,3.0,6.0,7.0,8.0,12.0,15.0,16.0,19.0,20.0})\n",
      "       Predict: 301.3333333333333\n",
      "     Else (feature 16 not in {1.0,3.0,4.0,5.0,6.0,7.0,8.0,11.0,12.0,14.0,15.0,16.0,17.0,18.0,19.0,20.0,22.0})\n",
      "      If (feature 4 <= 8.5)\n",
      "       Predict: 327.51785714285717\n",
      "      Else (feature 4 > 8.5)\n",
      "       Predict: 512.5\n",
      "   Else (feature 5 > 1.75)\n",
      "    If (feature 16 in {0.0,2.0,3.0,4.0,5.0,7.0,8.0,9.0,10.0,11.0,13.0,14.0,16.0,17.0,18.0,19.0})\n",
      "     If (feature 5 <= 2.25)\n",
      "      If (feature 0 <= 0.5)\n",
      "       Predict: 320.625\n",
      "      Else (feature 0 > 0.5)\n",
      "       Predict: 391.07142857142856\n",
      "     Else (feature 5 > 2.25)\n",
      "      If (feature 16 in {3.0,8.0,9.0})\n",
      "       Predict: 299.1666666666667\n",
      "      Else (feature 16 not in {3.0,8.0,9.0})\n",
      "       Predict: 435.55555555555554\n",
      "    Else (feature 16 not in {0.0,2.0,3.0,4.0,5.0,7.0,8.0,9.0,10.0,11.0,13.0,14.0,16.0,17.0,18.0,19.0})\n",
      "     If (feature 8 <= 16.5)\n",
      "      If (feature 9 <= 2.5)\n",
      "       Predict: 312.7\n",
      "      Else (feature 9 > 2.5)\n",
      "       Predict: 400.0\n",
      "     Else (feature 8 > 16.5)\n",
      "      If (feature 10 <= 42.5)\n",
      "       Predict: 501.44827586206895\n",
      "      Else (feature 10 > 42.5)\n",
      "       Predict: 342.1666666666667\n",
      "\n"
     ]
    }
   ],
   "source": [
    "print(model.toDebugString)"
   ]
  }
 ],
 "metadata": {
  "kernelspec": {
   "display_name": "DEV",
   "language": "python",
   "name": "python3"
  },
  "language_info": {
   "codemirror_mode": {
    "name": "ipython",
    "version": 3
   },
   "file_extension": ".py",
   "mimetype": "text/x-python",
   "name": "python",
   "nbconvert_exporter": "python",
   "pygments_lexer": "ipython3",
   "version": "3.11.5"
  }
 },
 "nbformat": 4,
 "nbformat_minor": 2
}

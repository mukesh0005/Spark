{
 "cells": [
  {
   "cell_type": "markdown",
   "metadata": {},
   "source": [
    "## Data Lake House\n",
    "- A Data Lakehouse is a hybrid data architecture that combines the flexibility and scalability of a data lake with the performance and governance features of a data warehouse. \n",
    "- It enables organizations to run BI, machine learning (ML), and real-time analytics on a single platform."
   ]
  },
  {
   "cell_type": "markdown",
   "metadata": {},
   "source": [
    "### features\n",
    "- structured, semi-structured, and unstructured data\n",
    "- ACID \n",
    "- Schema enforcement\n",
    "- Time Travel & Data Versioning\n",
    "- Batch & stream workloads\n",
    "* The underlying storage layer is cloud object storage only"
   ]
  },
  {
   "cell_type": "markdown",
   "metadata": {},
   "source": [
    "### Databricks uses Delta live tables\n",
    "#### Snowflake uses ApacheIceberg or Aws athena\n",
    "- with help of apache iceberg snowflake directly queries from data lake storage with out ingesting into snowflake tables\n"
   ]
  },
  {
   "cell_type": "markdown",
   "metadata": {},
   "source": [
    "## Delta Lake\n",
    "- stores data in parquet format and columnar \n",
    "- Delta Lake adds a transaction log (_delta_log) that tracks all changes to the data and ensures ACID compliance.\n",
    "- since ACID schema enforcement\n",
    "- time travel is available with transaction log various versions of data is saved. "
   ]
  },
  {
   "cell_type": "markdown",
   "metadata": {},
   "source": [
    "### Components\n",
    "- Delta table - a table that stores all of the data.\n",
    "- Delta log -  transaction log \n",
    "- Delta Cache - transaction cache which stores recent versions of data."
   ]
  },
  {
   "cell_type": "markdown",
   "metadata": {},
   "source": [
    "- Upserts are done via MERGE or INSERT INTO\n",
    "- checkpoints are used for recovery\n",
    "- snapshots for rollback \n"
   ]
  },
  {
   "cell_type": "code",
   "execution_count": null,
   "metadata": {
    "vscode": {
     "languageId": "plaintext"
    }
   },
   "outputs": [],
   "source": [
    "##full scan mode\n"
   ]
  },
  {
   "cell_type": "code",
   "execution_count": null,
   "metadata": {
    "vscode": {
     "languageId": "plaintext"
    }
   },
   "outputs": [],
   "source": [
    "## incremental mode"
   ]
  }
 ],
 "metadata": {
  "language_info": {
   "name": "python"
  }
 },
 "nbformat": 4,
 "nbformat_minor": 2
}

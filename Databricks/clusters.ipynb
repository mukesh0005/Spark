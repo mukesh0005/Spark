{
 "cells": [
  {
   "cell_type": "markdown",
   "metadata": {},
   "source": [
    "In Databricks, a cluster is a set of virtual machines (VMs) that work together to run your data processing jobs, including computations, data transformations, and machine learning models."
   ]
  },
  {
   "cell_type": "markdown",
   "metadata": {},
   "source": [
    "### Cluster components\n",
    "- Driver nodes\n",
    "- Worker Nodes\n",
    "- Cluster Manager "
   ]
  },
  {
   "cell_type": "markdown",
   "metadata": {},
   "source": [
    "### Cluster types\n",
    "- All-purpose : Dev \n",
    "- Job : outmated jobs\n",
    "- Pools: ready instances "
   ]
  },
  {
   "cell_type": "markdown",
   "metadata": {},
   "source": [
    "### Cluster Modes\n",
    "- standard : single user no interaction\n",
    "- high concurrency : fine-grade sharing \n",
    "- single node : only driver node works"
   ]
  },
  {
   "cell_type": "markdown",
   "metadata": {},
   "source": [
    "### Databricks Runtime (DBR) is a customized Spark environment that includes optimizations, libraries, and tools tailored for specific tasks."
   ]
  },
  {
   "cell_type": "markdown",
   "metadata": {},
   "source": [
    "### Delta live Tables"
   ]
  },
  {
   "cell_type": "markdown",
   "metadata": {},
   "source": [
    "- Streaming Table\n",
    "-- append-only\n",
    "-- handling each row only once\n",
    "- Materialized views\n",
    "-- precomputed \n",
    "- Views \n",
    "-- on-demand\n",
    "-- ensures data quality "
   ]
  },
  {
   "cell_type": "code",
   "execution_count": null,
   "metadata": {
    "vscode": {
     "languageId": "plaintext"
    }
   },
   "outputs": [],
   "source": []
  }
 ],
 "metadata": {
  "language_info": {
   "name": "python"
  }
 },
 "nbformat": 4,
 "nbformat_minor": 2
}

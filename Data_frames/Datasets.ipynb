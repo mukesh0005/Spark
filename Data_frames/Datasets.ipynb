{
 "cells": [
  {
   "cell_type": "code",
   "execution_count": 1,
   "metadata": {},
   "outputs": [],
   "source": [
    "from pyspark.sql import SparkSession"
   ]
  },
  {
   "cell_type": "code",
   "execution_count": 2,
   "metadata": {},
   "outputs": [],
   "source": [
    "spark = SparkSession \\\n",
    "    .builder \\\n",
    "    .appName(\"My First PySpark App\") \\\n",
    "    .getOrCreate()"
   ]
  },
  {
   "cell_type": "code",
   "execution_count": 3,
   "metadata": {},
   "outputs": [],
   "source": [
    "from pyspark import SparkContext\n",
    "sc =spark.sparkContext"
   ]
  },
  {
   "cell_type": "code",
   "execution_count": 4,
   "metadata": {},
   "outputs": [
    {
     "data": {
      "text/html": [
       "\n",
       "            <div>\n",
       "                <p><b>SparkSession - in-memory</b></p>\n",
       "                \n",
       "        <div>\n",
       "            <p><b>SparkContext</b></p>\n",
       "\n",
       "            <p><a href=\"http://muki.lan:4040\">Spark UI</a></p>\n",
       "\n",
       "            <dl>\n",
       "              <dt>Version</dt>\n",
       "                <dd><code>v3.5.0</code></dd>\n",
       "              <dt>Master</dt>\n",
       "                <dd><code>local[*]</code></dd>\n",
       "              <dt>AppName</dt>\n",
       "                <dd><code>My First PySpark App</code></dd>\n",
       "            </dl>\n",
       "        </div>\n",
       "        \n",
       "            </div>\n",
       "        "
      ],
      "text/plain": [
       "<pyspark.sql.session.SparkSession at 0x21c6acd1390>"
      ]
     },
     "execution_count": 4,
     "metadata": {},
     "output_type": "execute_result"
    }
   ],
   "source": [
    "spark"
   ]
  },
  {
   "cell_type": "code",
   "execution_count": 5,
   "metadata": {},
   "outputs": [
    {
     "data": {
      "text/html": [
       "\n",
       "        <div>\n",
       "            <p><b>SparkContext</b></p>\n",
       "\n",
       "            <p><a href=\"http://muki.lan:4040\">Spark UI</a></p>\n",
       "\n",
       "            <dl>\n",
       "              <dt>Version</dt>\n",
       "                <dd><code>v3.5.0</code></dd>\n",
       "              <dt>Master</dt>\n",
       "                <dd><code>local[*]</code></dd>\n",
       "              <dt>AppName</dt>\n",
       "                <dd><code>My First PySpark App</code></dd>\n",
       "            </dl>\n",
       "        </div>\n",
       "        "
      ],
      "text/plain": [
       "<SparkContext master=local[*] appName=My First PySpark App>"
      ]
     },
     "execution_count": 5,
     "metadata": {},
     "output_type": "execute_result"
    }
   ],
   "source": [
    "sc"
   ]
  },
  {
   "cell_type": "code",
   "execution_count": 31,
   "metadata": {},
   "outputs": [],
   "source": [
    "accounts = spark.read.option('header', 'true').csv('./accounts.csv')"
   ]
  },
  {
   "cell_type": "code",
   "execution_count": 32,
   "metadata": {},
   "outputs": [
    {
     "data": {
      "text/plain": [
       "pyspark.sql.dataframe.DataFrame"
      ]
     },
     "execution_count": 32,
     "metadata": {},
     "output_type": "execute_result"
    }
   ],
   "source": [
    "type(accounts)#.columns()"
   ]
  },
  {
   "cell_type": "code",
   "execution_count": 33,
   "metadata": {},
   "outputs": [
    {
     "data": {
      "text/plain": [
       "['account_number', 'aba', 'bic', 'opened', 'balance']"
      ]
     },
     "execution_count": 33,
     "metadata": {},
     "output_type": "execute_result"
    }
   ],
   "source": [
    "accounts.columns"
   ]
  },
  {
   "cell_type": "code",
   "execution_count": 17,
   "metadata": {},
   "outputs": [],
   "source": [
    "import pandas as pd\n",
    "import json"
   ]
  },
  {
   "cell_type": "code",
   "execution_count": 24,
   "metadata": {},
   "outputs": [],
   "source": [
    "with open('./averages-1.json', 'r') as file:\n",
    "    text2 = json.load(file)"
   ]
  },
  {
   "cell_type": "code",
   "execution_count": 35,
   "metadata": {},
   "outputs": [],
   "source": [
    "acconts = pd.read_csv('./accounts.csv')"
   ]
  },
  {
   "cell_type": "code",
   "execution_count": 37,
   "metadata": {},
   "outputs": [
    {
     "data": {
      "text/plain": [
       "pandas.core.frame.DataFrame"
      ]
     },
     "execution_count": 37,
     "metadata": {},
     "output_type": "execute_result"
    }
   ],
   "source": [
    "type(acconts)"
   ]
  },
  {
   "cell_type": "code",
   "execution_count": 39,
   "metadata": {},
   "outputs": [
    {
     "data": {
      "text/plain": [
       "Index(['account_number', 'aba', 'bic', 'opened', 'balance'], dtype='object')"
      ]
     },
     "execution_count": 39,
     "metadata": {},
     "output_type": "execute_result"
    }
   ],
   "source": [
    "acconts.columns"
   ]
  },
  {
   "cell_type": "code",
   "execution_count": 40,
   "metadata": {},
   "outputs": [
    {
     "data": {
      "text/plain": [
       "10000"
      ]
     },
     "execution_count": 40,
     "metadata": {},
     "output_type": "execute_result"
    }
   ],
   "source": [
    "accounts.count()"
   ]
  },
  {
   "cell_type": "code",
   "execution_count": 41,
   "metadata": {},
   "outputs": [
    {
     "data": {
      "text/plain": [
       "10000"
      ]
     },
     "execution_count": 41,
     "metadata": {},
     "output_type": "execute_result"
    }
   ],
   "source": [
    "len(acconts)"
   ]
  },
  {
   "cell_type": "code",
   "execution_count": 44,
   "metadata": {},
   "outputs": [
    {
     "data": {
      "text/plain": [
       "Row(account_number='CBXD44669851029839', aba='102317138', bic='RWWEGBRO0T5', opened='2009-06-04', balance='285769')"
      ]
     },
     "execution_count": 44,
     "metadata": {},
     "output_type": "execute_result"
    }
   ],
   "source": [
    "accounts.first()"
   ]
  },
  {
   "cell_type": "code",
   "execution_count": 45,
   "metadata": {},
   "outputs": [
    {
     "data": {
      "text/html": [
       "<div>\n",
       "<style scoped>\n",
       "    .dataframe tbody tr th:only-of-type {\n",
       "        vertical-align: middle;\n",
       "    }\n",
       "\n",
       "    .dataframe tbody tr th {\n",
       "        vertical-align: top;\n",
       "    }\n",
       "\n",
       "    .dataframe thead th {\n",
       "        text-align: right;\n",
       "    }\n",
       "</style>\n",
       "<table border=\"1\" class=\"dataframe\">\n",
       "  <thead>\n",
       "    <tr style=\"text-align: right;\">\n",
       "      <th></th>\n",
       "      <th>account_number</th>\n",
       "      <th>aba</th>\n",
       "      <th>bic</th>\n",
       "      <th>opened</th>\n",
       "      <th>balance</th>\n",
       "    </tr>\n",
       "  </thead>\n",
       "  <tbody>\n",
       "    <tr>\n",
       "      <th>0</th>\n",
       "      <td>CBXD44669851029839</td>\n",
       "      <td>102317138</td>\n",
       "      <td>RWWEGBRO0T5</td>\n",
       "      <td>2009-06-04</td>\n",
       "      <td>285769</td>\n",
       "    </tr>\n",
       "  </tbody>\n",
       "</table>\n",
       "</div>"
      ],
      "text/plain": [
       "       account_number        aba          bic      opened  balance\n",
       "0  CBXD44669851029839  102317138  RWWEGBRO0T5  2009-06-04   285769"
      ]
     },
     "execution_count": 45,
     "metadata": {},
     "output_type": "execute_result"
    }
   ],
   "source": [
    "acconts.head(1)"
   ]
  },
  {
   "cell_type": "code",
   "execution_count": 46,
   "metadata": {},
   "outputs": [
    {
     "name": "stdout",
     "output_type": "stream",
     "text": [
      "root\n",
      " |-- account_number: string (nullable = true)\n",
      " |-- aba: string (nullable = true)\n",
      " |-- bic: string (nullable = true)\n",
      " |-- opened: string (nullable = true)\n",
      " |-- balance: string (nullable = true)\n",
      "\n"
     ]
    }
   ],
   "source": [
    "accounts.printSchema()"
   ]
  },
  {
   "cell_type": "code",
   "execution_count": 47,
   "metadata": {},
   "outputs": [
    {
     "name": "stdout",
     "output_type": "stream",
     "text": [
      "<class 'pandas.core.frame.DataFrame'>\n",
      "RangeIndex: 10000 entries, 0 to 9999\n",
      "Data columns (total 5 columns):\n",
      " #   Column          Non-Null Count  Dtype \n",
      "---  ------          --------------  ----- \n",
      " 0   account_number  10000 non-null  object\n",
      " 1   aba             10000 non-null  int64 \n",
      " 2   bic             10000 non-null  object\n",
      " 3   opened          10000 non-null  object\n",
      " 4   balance         10000 non-null  int64 \n",
      "dtypes: int64(2), object(3)\n",
      "memory usage: 390.8+ KB\n"
     ]
    }
   ],
   "source": [
    "acconts.info()"
   ]
  },
  {
   "cell_type": "code",
   "execution_count": 64,
   "metadata": {},
   "outputs": [
    {
     "data": {
      "text/plain": [
       "87"
      ]
     },
     "execution_count": 64,
     "metadata": {},
     "output_type": "execute_result"
    }
   ],
   "source": [
    "neg_balance = accounts.filter(accounts.balance < 16000)\n",
    "neg_balance.count()"
   ]
  },
  {
   "cell_type": "code",
   "execution_count": 58,
   "metadata": {},
   "outputs": [
    {
     "data": {
      "text/plain": [
       "(87, 5)"
      ]
     },
     "execution_count": 58,
     "metadata": {},
     "output_type": "execute_result"
    }
   ],
   "source": [
    "neg_balance_1 = acconts[acconts['balance']<16000]\n",
    "neg_balance_1.shape"
   ]
  },
  {
   "cell_type": "code",
   "execution_count": 67,
   "metadata": {},
   "outputs": [
    {
     "name": "stdout",
     "output_type": "stream",
     "text": [
      "+------------------+---------+-----------+----------+-------+\n",
      "|    account_number|      aba|        bic|    opened|balance|\n",
      "+------------------+---------+-----------+----------+-------+\n",
      "|LFAZ19426323862904|122855340|CAZTGB63CUO|2011-10-17|   9659|\n",
      "+------------------+---------+-----------+----------+-------+\n",
      "only showing top 1 row\n",
      "\n"
     ]
    },
    {
     "data": {
      "text/html": [
       "<div>\n",
       "<style scoped>\n",
       "    .dataframe tbody tr th:only-of-type {\n",
       "        vertical-align: middle;\n",
       "    }\n",
       "\n",
       "    .dataframe tbody tr th {\n",
       "        vertical-align: top;\n",
       "    }\n",
       "\n",
       "    .dataframe thead th {\n",
       "        text-align: right;\n",
       "    }\n",
       "</style>\n",
       "<table border=\"1\" class=\"dataframe\">\n",
       "  <thead>\n",
       "    <tr style=\"text-align: right;\">\n",
       "      <th></th>\n",
       "      <th>account_number</th>\n",
       "      <th>aba</th>\n",
       "      <th>bic</th>\n",
       "      <th>opened</th>\n",
       "      <th>balance</th>\n",
       "    </tr>\n",
       "  </thead>\n",
       "  <tbody>\n",
       "    <tr>\n",
       "      <th>154</th>\n",
       "      <td>LFAZ19426323862904</td>\n",
       "      <td>122855340</td>\n",
       "      <td>CAZTGB63CUO</td>\n",
       "      <td>2011-10-17</td>\n",
       "      <td>9659</td>\n",
       "    </tr>\n",
       "  </tbody>\n",
       "</table>\n",
       "</div>"
      ],
      "text/plain": [
       "         account_number        aba          bic      opened  balance\n",
       "154  LFAZ19426323862904  122855340  CAZTGB63CUO  2011-10-17     9659"
      ]
     },
     "execution_count": 67,
     "metadata": {},
     "output_type": "execute_result"
    }
   ],
   "source": [
    "accounts.filter(accounts.balance < 16000).show(1)\n",
    "acconts[acconts['balance']<16000].head(1)"
   ]
  },
  {
   "cell_type": "code",
   "execution_count": 70,
   "metadata": {},
   "outputs": [
    {
     "name": "stdout",
     "output_type": "stream",
     "text": [
      "+------------------+---------+-----------+----------+-------+\n",
      "|    account_number|      aba|        bic|    opened|balance|\n",
      "+------------------+---------+-----------+----------+-------+\n",
      "|LFAZ19426323862904|122855340|CAZTGB63CUO|2011-10-17|   9659|\n",
      "+------------------+---------+-----------+----------+-------+\n",
      "\n",
      "+------------------+---------+-----------+----------+-------+\n",
      "|    account_number|      aba|        bic|    opened|balance|\n",
      "+------------------+---------+-----------+----------+-------+\n",
      "|LFAZ19426323862904|122855340|CAZTGB63CUO|2011-10-17|   9659|\n",
      "|FWMO74805672975655|124724893|OFINGBZV1NR|2014-06-29|   3178|\n",
      "|QSSL20810906098479|110534482|   RGDUGB5S|2021-07-17|  12330|\n",
      "+------------------+---------+-----------+----------+-------+\n",
      "only showing top 3 rows\n",
      "\n"
     ]
    }
   ],
   "source": [
    "accounts.filter((accounts.balance < 16000) &  (accounts.aba == 122855340)).show()\n",
    "accounts.filter((accounts.balance < 16000) |  (accounts.aba == 122855340)).show(3)"
   ]
  },
  {
   "cell_type": "code",
   "execution_count": 73,
   "metadata": {},
   "outputs": [
    {
     "data": {
      "text/html": [
       "<div>\n",
       "<style scoped>\n",
       "    .dataframe tbody tr th:only-of-type {\n",
       "        vertical-align: middle;\n",
       "    }\n",
       "\n",
       "    .dataframe tbody tr th {\n",
       "        vertical-align: top;\n",
       "    }\n",
       "\n",
       "    .dataframe thead th {\n",
       "        text-align: right;\n",
       "    }\n",
       "</style>\n",
       "<table border=\"1\" class=\"dataframe\">\n",
       "  <thead>\n",
       "    <tr style=\"text-align: right;\">\n",
       "      <th></th>\n",
       "      <th>account_number</th>\n",
       "      <th>aba</th>\n",
       "      <th>bic</th>\n",
       "      <th>opened</th>\n",
       "      <th>balance</th>\n",
       "    </tr>\n",
       "  </thead>\n",
       "  <tbody>\n",
       "    <tr>\n",
       "      <th>154</th>\n",
       "      <td>LFAZ19426323862904</td>\n",
       "      <td>122855340</td>\n",
       "      <td>CAZTGB63CUO</td>\n",
       "      <td>2011-10-17</td>\n",
       "      <td>9659</td>\n",
       "    </tr>\n",
       "    <tr>\n",
       "      <th>177</th>\n",
       "      <td>FWMO74805672975655</td>\n",
       "      <td>124724893</td>\n",
       "      <td>OFINGBZV1NR</td>\n",
       "      <td>2014-06-29</td>\n",
       "      <td>3178</td>\n",
       "    </tr>\n",
       "    <tr>\n",
       "      <th>473</th>\n",
       "      <td>QSSL20810906098479</td>\n",
       "      <td>110534482</td>\n",
       "      <td>RGDUGB5S</td>\n",
       "      <td>2021-07-17</td>\n",
       "      <td>12330</td>\n",
       "    </tr>\n",
       "  </tbody>\n",
       "</table>\n",
       "</div>"
      ],
      "text/plain": [
       "         account_number        aba          bic      opened  balance\n",
       "154  LFAZ19426323862904  122855340  CAZTGB63CUO  2011-10-17     9659\n",
       "177  FWMO74805672975655  124724893  OFINGBZV1NR  2014-06-29     3178\n",
       "473  QSSL20810906098479  110534482     RGDUGB5S  2021-07-17    12330"
      ]
     },
     "execution_count": 73,
     "metadata": {},
     "output_type": "execute_result"
    }
   ],
   "source": [
    "acconts[(acconts['balance']<16000) &(acconts.aba == 122855340)  ].head()\n",
    "acconts[(acconts['balance']<16000)  | (acconts.aba == 122855340)  ].head(3)"
   ]
  },
  {
   "cell_type": "code",
   "execution_count": 81,
   "metadata": {},
   "outputs": [
    {
     "name": "stdout",
     "output_type": "stream",
     "text": [
      "+-----------+\n",
      "|        bic|\n",
      "+-----------+\n",
      "|RWWEGBRO0T5|\n",
      "|   TIDCGB2I|\n",
      "|HGMJGB9AIFY|\n",
      "|VQEAGBT2HP7|\n",
      "|BQCSGBADD0Z|\n",
      "+-----------+\n",
      "only showing top 5 rows\n",
      "\n"
     ]
    },
    {
     "data": {
      "text/plain": [
       "0    RWWEGBRO0T5\n",
       "1       TIDCGB2I\n",
       "2    HGMJGB9AIFY\n",
       "3    VQEAGBT2HP7\n",
       "4    BQCSGBADD0Z\n",
       "Name: bic, dtype: object"
      ]
     },
     "execution_count": 81,
     "metadata": {},
     "output_type": "execute_result"
    }
   ],
   "source": [
    "accounts.select('bic').show(5)\n",
    "acconts['bic'].head(5)"
   ]
  },
  {
   "cell_type": "code",
   "execution_count": 95,
   "metadata": {},
   "outputs": [
    {
     "name": "stdout",
     "output_type": "stream",
     "text": [
      "+------------------+---------+-----------+----------+-------+\n",
      "|    account_number|      aba|        bic|    opened|balance|\n",
      "+------------------+---------+-----------+----------+-------+\n",
      "|CBXD44669851029839|102317138|RWWEGBRO0T5|2009-06-04| 285769|\n",
      "|JBFJ55650700031898|017962623|HLRWGB966R0|2013-05-27|1285934|\n",
      "|CLYU93158050783944|033940344|   ARWUGB2N|2020-07-09|1614037|\n",
      "|UOSY02528749924373|017778587|   QMRWGBBO|2022-01-17|1091508|\n",
      "|AJCN60845342910450|032760127|   OXRWGBML|2014-03-06|1301445|\n",
      "+------------------+---------+-----------+----------+-------+\n",
      "only showing top 5 rows\n",
      "\n"
     ]
    },
    {
     "data": {
      "text/html": [
       "<div>\n",
       "<style scoped>\n",
       "    .dataframe tbody tr th:only-of-type {\n",
       "        vertical-align: middle;\n",
       "    }\n",
       "\n",
       "    .dataframe tbody tr th {\n",
       "        vertical-align: top;\n",
       "    }\n",
       "\n",
       "    .dataframe thead th {\n",
       "        text-align: right;\n",
       "    }\n",
       "</style>\n",
       "<table border=\"1\" class=\"dataframe\">\n",
       "  <thead>\n",
       "    <tr style=\"text-align: right;\">\n",
       "      <th></th>\n",
       "      <th>account_number</th>\n",
       "      <th>aba</th>\n",
       "      <th>bic</th>\n",
       "      <th>opened</th>\n",
       "      <th>balance</th>\n",
       "    </tr>\n",
       "  </thead>\n",
       "  <tbody>\n",
       "    <tr>\n",
       "      <th>0</th>\n",
       "      <td>CBXD44669851029839</td>\n",
       "      <td>102317138</td>\n",
       "      <td>RWWEGBRO0T5</td>\n",
       "      <td>2009-06-04</td>\n",
       "      <td>285769</td>\n",
       "    </tr>\n",
       "    <tr>\n",
       "      <th>14</th>\n",
       "      <td>JBFJ55650700031898</td>\n",
       "      <td>17962623</td>\n",
       "      <td>HLRWGB966R0</td>\n",
       "      <td>2013-05-27</td>\n",
       "      <td>1285934</td>\n",
       "    </tr>\n",
       "    <tr>\n",
       "      <th>65</th>\n",
       "      <td>CLYU93158050783944</td>\n",
       "      <td>33940344</td>\n",
       "      <td>ARWUGB2N</td>\n",
       "      <td>2020-07-09</td>\n",
       "      <td>1614037</td>\n",
       "    </tr>\n",
       "    <tr>\n",
       "      <th>92</th>\n",
       "      <td>UOSY02528749924373</td>\n",
       "      <td>17778587</td>\n",
       "      <td>QMRWGBBO</td>\n",
       "      <td>2022-01-17</td>\n",
       "      <td>1091508</td>\n",
       "    </tr>\n",
       "    <tr>\n",
       "      <th>356</th>\n",
       "      <td>AJCN60845342910450</td>\n",
       "      <td>32760127</td>\n",
       "      <td>OXRWGBML</td>\n",
       "      <td>2014-03-06</td>\n",
       "      <td>1301445</td>\n",
       "    </tr>\n",
       "  </tbody>\n",
       "</table>\n",
       "</div>"
      ],
      "text/plain": [
       "         account_number        aba          bic      opened  balance\n",
       "0    CBXD44669851029839  102317138  RWWEGBRO0T5  2009-06-04   285769\n",
       "14   JBFJ55650700031898   17962623  HLRWGB966R0  2013-05-27  1285934\n",
       "65   CLYU93158050783944   33940344     ARWUGB2N  2020-07-09  1614037\n",
       "92   UOSY02528749924373   17778587     QMRWGBBO  2022-01-17  1091508\n",
       "356  AJCN60845342910450   32760127     OXRWGBML  2014-03-06  1301445"
      ]
     },
     "execution_count": 95,
     "metadata": {},
     "output_type": "execute_result"
    }
   ],
   "source": [
    "accounts.filter(accounts.bic.contains('RW')).show(5)\n",
    "acconts[acconts['bic'].str.contains('RW')].head(5)"
   ]
  },
  {
   "cell_type": "code",
   "execution_count": 96,
   "metadata": {},
   "outputs": [
    {
     "name": "stdout",
     "output_type": "stream",
     "text": [
      "+------------------+---------+-----------+----------+-------+\n",
      "|    account_number|      aba|        bic|    opened|balance|\n",
      "+------------------+---------+-----------+----------+-------+\n",
      "|CBXD44669851029839|102317138|RWWEGBRO0T5|2009-06-04| 285769|\n",
      "|JBFJ55650700031898|017962623|HLRWGB966R0|2013-05-27|1285934|\n",
      "|CLYU93158050783944|033940344|   ARWUGB2N|2020-07-09|1614037|\n",
      "|UOSY02528749924373|017778587|   QMRWGBBO|2022-01-17|1091508|\n",
      "|AJCN60845342910450|032760127|   OXRWGBML|2014-03-06|1301445|\n",
      "+------------------+---------+-----------+----------+-------+\n",
      "only showing top 5 rows\n",
      "\n"
     ]
    }
   ],
   "source": [
    "from pyspark.sql.functions import col\n",
    "accounts.filter(col('bic').contains('RW')).show(5)"
   ]
  }
 ],
 "metadata": {
  "kernelspec": {
   "display_name": "DEV",
   "language": "python",
   "name": "python3"
  },
  "language_info": {
   "codemirror_mode": {
    "name": "ipython",
    "version": 3
   },
   "file_extension": ".py",
   "mimetype": "text/x-python",
   "name": "python",
   "nbconvert_exporter": "python",
   "pygments_lexer": "ipython3",
   "version": "3.11.5"
  }
 },
 "nbformat": 4,
 "nbformat_minor": 2
}

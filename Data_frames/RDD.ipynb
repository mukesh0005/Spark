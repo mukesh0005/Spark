{
 "cells": [
  {
   "cell_type": "code",
   "execution_count": 1,
   "metadata": {},
   "outputs": [],
   "source": [
    "from pyspark.sql import SparkSession;\n",
    "from pyspark.context import SparkContext;\n",
    "spark = SparkSession \\\n",
    "    .builder \\\n",
    "    .appName(\"RDD_prac\") \\\n",
    "    .getOrCreate()\n",
    "\n",
    "sc = spark.sparkContext"
   ]
  },
  {
   "cell_type": "code",
   "execution_count": 2,
   "metadata": {},
   "outputs": [
    {
     "name": "stdout",
     "output_type": "stream",
     "text": [
      "+---+----+\n",
      "| id|text|\n",
      "+---+----+\n",
      "|  1|   a|\n",
      "|  2|  aa|\n",
      "|  3| aaa|\n",
      "+---+----+\n",
      "\n"
     ]
    }
   ],
   "source": [
    "rdd = sc.parallelize(range(1, 4)).map(lambda x: (x, \"a\" * x))\n",
    "# rdd.show() -- rdd's dont have a show so we have convert it into data frame and show\n",
    "columns = ['id','text']\n",
    "df = rdd.toDF(columns)\n",
    "df.show(5)"
   ]
  },
  {
   "cell_type": "code",
   "execution_count": 3,
   "metadata": {},
   "outputs": [
    {
     "name": "stdout",
     "output_type": "stream",
     "text": [
      "<class 'pyspark.rdd.RDD'> ----- 21\n"
     ]
    }
   ],
   "source": [
    "lines = sc.textFile(\"./data/text.txt\")\n",
    "print(type(lines),'-----',lines.count())"
   ]
  },
  {
   "cell_type": "code",
   "execution_count": 4,
   "metadata": {},
   "outputs": [
    {
     "name": "stdout",
     "output_type": "stream",
     "text": [
      "<class 'list'> ----- 21\n"
     ]
    }
   ],
   "source": [
    "import pandas as pd\n",
    "lines1 = []\n",
    "with open('./data/text.txt','r') as f:\n",
    "    lines1= [line.strip() for line in f.readlines()]\n",
    "print(type(lines1),'-----',len(lines1))"
   ]
  },
  {
   "cell_type": "code",
   "execution_count": 5,
   "metadata": {},
   "outputs": [
    {
     "data": {
      "text/plain": [
       "pyspark.rdd.PipelinedRDD"
      ]
     },
     "execution_count": 5,
     "metadata": {},
     "output_type": "execute_result"
    }
   ],
   "source": [
    "line_len = lines.map(lambda s : len(s))\n",
    "type(line_len)"
   ]
  },
  {
   "cell_type": "code",
   "execution_count": 6,
   "metadata": {},
   "outputs": [
    {
     "name": "stdout",
     "output_type": "stream",
     "text": [
      "<class 'int'> ----- 3521\n"
     ]
    }
   ],
   "source": [
    "totalLength = line_len.reduce(lambda a, b: a + b)\n",
    "print(type(totalLength),'-----',totalLength)"
   ]
  },
  {
   "cell_type": "code",
   "execution_count": 7,
   "metadata": {},
   "outputs": [
    {
     "name": "stdout",
     "output_type": "stream",
     "text": [
      "<class 'int'> ----- 3522\n"
     ]
    }
   ],
   "source": [
    "totalLength1 = 1\n",
    "for line in lines1:\n",
    "    totalLength1 += len(line) \n",
    "print(type(totalLength1),'-----',totalLength1)"
   ]
  },
  {
   "cell_type": "code",
   "execution_count": 8,
   "metadata": {},
   "outputs": [
    {
     "name": "stdout",
     "output_type": "stream",
     "text": [
      "+--------------------+----+\n",
      "|                  id|text|\n",
      "+--------------------+----+\n",
      "|Quod equidem non ...|  28|\n",
      "|Lorem ipsum dolor...| 600|\n",
      "|                    |   0|\n",
      "|Iam id ipsum absu...| 408|\n",
      "|                    |   0|\n",
      "+--------------------+----+\n",
      "only showing top 5 rows\n",
      "\n"
     ]
    }
   ],
   "source": [
    "line_len_df = lines.map(lambda x: (x,len(x) )).toDF(columns)  # Replace \"column_name\" with your desired column name\n",
    "line_len_df.show(5)"
   ]
  },
  {
   "cell_type": "code",
   "execution_count": 9,
   "metadata": {},
   "outputs": [
    {
     "data": {
      "text/html": [
       "<div>\n",
       "<style scoped>\n",
       "    .dataframe tbody tr th:only-of-type {\n",
       "        vertical-align: middle;\n",
       "    }\n",
       "\n",
       "    .dataframe tbody tr th {\n",
       "        vertical-align: top;\n",
       "    }\n",
       "\n",
       "    .dataframe thead th {\n",
       "        text-align: right;\n",
       "    }\n",
       "</style>\n",
       "<table border=\"1\" class=\"dataframe\">\n",
       "  <thead>\n",
       "    <tr style=\"text-align: right;\">\n",
       "      <th></th>\n",
       "      <th>Length</th>\n",
       "      <th>Line</th>\n",
       "    </tr>\n",
       "  </thead>\n",
       "  <tbody>\n",
       "    <tr>\n",
       "      <th>0</th>\n",
       "      <td>28</td>\n",
       "      <td>Quod equidem non reprehendo;</td>\n",
       "    </tr>\n",
       "    <tr>\n",
       "      <th>1</th>\n",
       "      <td>600</td>\n",
       "      <td>Lorem ipsum dolor sit amet, consectetur adipis...</td>\n",
       "    </tr>\n",
       "    <tr>\n",
       "      <th>2</th>\n",
       "      <td>0</td>\n",
       "      <td></td>\n",
       "    </tr>\n",
       "    <tr>\n",
       "      <th>3</th>\n",
       "      <td>408</td>\n",
       "      <td>Iam id ipsum absurdum, maximum malum neglegi. ...</td>\n",
       "    </tr>\n",
       "    <tr>\n",
       "      <th>4</th>\n",
       "      <td>0</td>\n",
       "      <td></td>\n",
       "    </tr>\n",
       "  </tbody>\n",
       "</table>\n",
       "</div>"
      ],
      "text/plain": [
       "   Length                                               Line\n",
       "0      28                       Quod equidem non reprehendo;\n",
       "1     600  Lorem ipsum dolor sit amet, consectetur adipis...\n",
       "2       0                                                   \n",
       "3     408  Iam id ipsum absurdum, maximum malum neglegi. ...\n",
       "4       0                                                   "
      ]
     },
     "execution_count": 9,
     "metadata": {},
     "output_type": "execute_result"
    }
   ],
   "source": [
    "line_len1 = [len(line) for line in lines1]\n",
    "Line_len_df_1 = pd.DataFrame({'Length': line_len1, 'Line': lines1})\n",
    "Line_len_df_1.head(5)"
   ]
  },
  {
   "cell_type": "markdown",
   "metadata": {},
   "source": [
    "## Functions"
   ]
  },
  {
   "cell_type": "code",
   "execution_count": 10,
   "metadata": {},
   "outputs": [],
   "source": [
    "def len_f(s):\n",
    "    words = s.split(' ')\n",
    "    return len(words)"
   ]
  },
  {
   "cell_type": "code",
   "execution_count": 34,
   "metadata": {},
   "outputs": [
    {
     "name": "stdout",
     "output_type": "stream",
     "text": [
      "4\n",
      "91\n",
      "1\n",
      "63\n",
      "1\n",
      "4\n",
      "38\n",
      "1\n",
      "12\n",
      "125\n",
      "1\n",
      "13\n",
      "12\n",
      "8\n",
      "8\n",
      "11\n",
      "11\n",
      "87\n",
      "1\n",
      "3\n",
      "56\n"
     ]
    }
   ],
   "source": [
    "for line in lines1:\n",
    "    print(len_f(line))"
   ]
  },
  {
   "cell_type": "code",
   "execution_count": 35,
   "metadata": {},
   "outputs": [],
   "source": [
    "lines = sc.textFile('./data/text.txt')"
   ]
  },
  {
   "cell_type": "code",
   "execution_count": 36,
   "metadata": {},
   "outputs": [],
   "source": [
    "line_len_df = lines.map(lambda x: (x,len_f(x) )).toDF(columns)"
   ]
  },
  {
   "cell_type": "code",
   "execution_count": 38,
   "metadata": {},
   "outputs": [
    {
     "name": "stdout",
     "output_type": "stream",
     "text": [
      "+--------------------+---+\n",
      "|          word_count| _2|\n",
      "+--------------------+---+\n",
      "|Quod equidem non ...|  4|\n",
      "|Lorem ipsum dolor...| 91|\n",
      "|                    |  1|\n",
      "|Iam id ipsum absu...| 63|\n",
      "|                    |  1|\n",
      "+--------------------+---+\n",
      "only showing top 5 rows\n",
      "\n"
     ]
    }
   ],
   "source": [
    "line_len_df.show(5)"
   ]
  }
 ],
 "metadata": {
  "kernelspec": {
   "display_name": "DEV",
   "language": "python",
   "name": "python3"
  },
  "language_info": {
   "codemirror_mode": {
    "name": "ipython",
    "version": 3
   },
   "file_extension": ".py",
   "mimetype": "text/x-python",
   "name": "python",
   "nbconvert_exporter": "python",
   "pygments_lexer": "ipython3",
   "version": "3.11.5"
  }
 },
 "nbformat": 4,
 "nbformat_minor": 2
}

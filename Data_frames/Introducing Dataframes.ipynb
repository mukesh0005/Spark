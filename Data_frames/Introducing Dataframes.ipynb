{
 "cells": [
  {
   "cell_type": "markdown",
   "metadata": {},
   "source": [
    "# PySpark Dataframes\n",
    "For each instruction, type the appropriate code into the cell below the instruction. Then, run the code by pressing the `Run` button above.\n",
    "\n",
    "1. Import the SparkSession class:\n",
    "\n",
    "```\n",
    "from pyspark.sql import SparkSession\n",
    "```"
   ]
  },
  {
   "cell_type": "code",
   "execution_count": 2,
   "metadata": {},
   "outputs": [
    {
     "name": "stdout",
     "output_type": "stream",
     "text": [
      "Collecting pysparkNote: you may need to restart the kernel to use updated packages.\n",
      "\n",
      "  Downloading pyspark-3.5.0.tar.gz (316.9 MB)\n",
      "     ---------------------------------------- 0.0/316.9 MB ? eta -:--:--\n",
      "     ---------------------------------------- 0.0/316.9 MB ? eta -:--:--\n",
      "     -------------------------------------- 0.1/316.9 MB 550.5 kB/s eta 0:09:36\n",
      "     ---------------------------------------- 0.2/316.9 MB 1.3 MB/s eta 0:04:01\n",
      "     ---------------------------------------- 0.5/316.9 MB 2.4 MB/s eta 0:02:12\n",
      "     ---------------------------------------- 1.1/316.9 MB 4.5 MB/s eta 0:01:11\n",
      "     ---------------------------------------- 2.1/316.9 MB 7.2 MB/s eta 0:00:44\n",
      "      -------------------------------------- 4.4/316.9 MB 12.9 MB/s eta 0:00:25\n",
      "      -------------------------------------- 5.9/316.9 MB 15.0 MB/s eta 0:00:21\n",
      "     - ------------------------------------- 9.6/316.9 MB 22.8 MB/s eta 0:00:14\n",
      "     - ------------------------------------ 13.1/316.9 MB 65.6 MB/s eta 0:00:05\n",
      "     - ------------------------------------ 15.0/316.9 MB 65.2 MB/s eta 0:00:05\n",
      "     - ------------------------------------ 16.2/316.9 MB 54.4 MB/s eta 0:00:06\n",
      "     -- ----------------------------------- 23.4/316.9 MB 72.6 MB/s eta 0:00:05\n",
      "     --- ---------------------------------- 26.4/316.9 MB 93.9 MB/s eta 0:00:04\n",
      "     --- ---------------------------------- 29.3/316.9 MB 72.6 MB/s eta 0:00:04\n",
      "     --- ---------------------------------- 32.2/316.9 MB 65.6 MB/s eta 0:00:05\n",
      "     --- ---------------------------------- 32.9/316.9 MB 54.7 MB/s eta 0:00:06\n",
      "     ---- --------------------------------- 35.5/316.9 MB 50.4 MB/s eta 0:00:06\n",
      "     ---- --------------------------------- 38.6/316.9 MB 50.4 MB/s eta 0:00:06\n",
      "     ---- --------------------------------- 41.6/316.9 MB 50.4 MB/s eta 0:00:06\n",
      "     ----- -------------------------------- 43.9/316.9 MB 59.5 MB/s eta 0:00:05\n",
      "     ----- -------------------------------- 46.5/316.9 MB 59.8 MB/s eta 0:00:05\n",
      "     ----- -------------------------------- 49.3/316.9 MB 59.5 MB/s eta 0:00:05\n",
      "     ------ ------------------------------- 51.4/316.9 MB 54.7 MB/s eta 0:00:05\n",
      "     ------ ------------------------------- 53.3/316.9 MB 50.4 MB/s eta 0:00:06\n",
      "     ------ ------------------------------- 56.3/316.9 MB 50.4 MB/s eta 0:00:06\n",
      "     ------- ------------------------------ 58.7/316.9 MB 54.7 MB/s eta 0:00:05\n",
      "     ------- ------------------------------ 61.9/316.9 MB 54.4 MB/s eta 0:00:05\n",
      "     ------- ------------------------------ 64.1/316.9 MB 54.4 MB/s eta 0:00:05\n",
      "     -------- ----------------------------- 67.4/316.9 MB 54.7 MB/s eta 0:00:05\n",
      "     -------- ----------------------------- 67.8/316.9 MB 50.4 MB/s eta 0:00:05\n",
      "     -------- ----------------------------- 68.8/316.9 MB 40.9 MB/s eta 0:00:07\n",
      "     -------- ----------------------------- 71.2/316.9 MB 43.7 MB/s eta 0:00:06\n",
      "     -------- ----------------------------- 72.5/316.9 MB 40.9 MB/s eta 0:00:06\n",
      "     -------- ----------------------------- 75.0/316.9 MB 40.9 MB/s eta 0:00:06\n",
      "     --------- ---------------------------- 76.6/316.9 MB 36.4 MB/s eta 0:00:07\n",
      "     --------- ---------------------------- 79.2/316.9 MB 46.7 MB/s eta 0:00:06\n",
      "     --------- ---------------------------- 81.2/316.9 MB 43.5 MB/s eta 0:00:06\n",
      "     ---------- --------------------------- 83.7/316.9 MB 46.7 MB/s eta 0:00:05\n",
      "     ---------- --------------------------- 86.4/316.9 MB 50.1 MB/s eta 0:00:05\n",
      "     ---------- --------------------------- 89.1/316.9 MB 50.4 MB/s eta 0:00:05\n",
      "     ---------- --------------------------- 91.2/316.9 MB 50.4 MB/s eta 0:00:05\n",
      "     ----------- -------------------------- 93.8/316.9 MB 46.7 MB/s eta 0:00:05\n",
      "     ----------- -------------------------- 95.4/316.9 MB 46.7 MB/s eta 0:00:05\n",
      "     ----------- -------------------------- 97.8/316.9 MB 46.7 MB/s eta 0:00:05\n",
      "     ----------- ------------------------- 100.4/316.9 MB 46.9 MB/s eta 0:00:05\n",
      "     ----------- ------------------------- 102.6/316.9 MB 46.9 MB/s eta 0:00:05\n",
      "     ------------ ------------------------ 104.9/316.9 MB 50.4 MB/s eta 0:00:05\n",
      "     ------------ ------------------------ 107.3/316.9 MB 50.4 MB/s eta 0:00:05\n",
      "     ------------ ------------------------ 109.5/316.9 MB 50.4 MB/s eta 0:00:05\n",
      "     ------------- ----------------------- 112.4/316.9 MB 50.4 MB/s eta 0:00:05\n",
      "     ------------- ----------------------- 115.2/316.9 MB 54.4 MB/s eta 0:00:04\n",
      "     ------------- ----------------------- 117.3/316.9 MB 54.4 MB/s eta 0:00:04\n",
      "     -------------- ---------------------- 120.0/316.9 MB 54.7 MB/s eta 0:00:04\n",
      "     -------------- ---------------------- 122.8/316.9 MB 54.4 MB/s eta 0:00:04\n",
      "     -------------- ---------------------- 125.0/316.9 MB 50.4 MB/s eta 0:00:04\n",
      "     -------------- ---------------------- 127.4/316.9 MB 54.7 MB/s eta 0:00:04\n",
      "     --------------- --------------------- 128.7/316.9 MB 46.7 MB/s eta 0:00:05\n",
      "     --------------- --------------------- 130.9/316.9 MB 46.9 MB/s eta 0:00:04\n",
      "     --------------- --------------------- 133.4/316.9 MB 46.9 MB/s eta 0:00:04\n",
      "     --------------- --------------------- 136.1/316.9 MB 46.7 MB/s eta 0:00:04\n",
      "     ---------------- -------------------- 138.8/316.9 MB 50.4 MB/s eta 0:00:04\n",
      "     ---------------- -------------------- 141.2/316.9 MB 54.4 MB/s eta 0:00:04\n",
      "     ---------------- -------------------- 142.6/316.9 MB 54.7 MB/s eta 0:00:04\n",
      "     ---------------- -------------------- 145.2/316.9 MB 50.4 MB/s eta 0:00:04\n",
      "     ----------------- ------------------- 147.4/316.9 MB 50.1 MB/s eta 0:00:04\n",
      "     ----------------- ------------------- 150.1/316.9 MB 50.4 MB/s eta 0:00:04\n",
      "     ----------------- ------------------- 153.0/316.9 MB 50.4 MB/s eta 0:00:04\n",
      "     ------------------ ------------------ 155.8/316.9 MB 54.4 MB/s eta 0:00:03\n",
      "     ------------------ ------------------ 158.5/316.9 MB 54.4 MB/s eta 0:00:03\n",
      "     ------------------ ------------------ 161.4/316.9 MB 54.4 MB/s eta 0:00:03\n",
      "     ------------------- ----------------- 164.1/316.9 MB 59.8 MB/s eta 0:00:03\n",
      "     ------------------- ----------------- 166.9/316.9 MB 54.7 MB/s eta 0:00:03\n",
      "     ------------------- ----------------- 169.0/316.9 MB 59.5 MB/s eta 0:00:03\n",
      "     -------------------- ---------------- 171.5/316.9 MB 54.7 MB/s eta 0:00:03\n",
      "     -------------------- ---------------- 174.2/316.9 MB 54.4 MB/s eta 0:00:03\n",
      "     -------------------- ---------------- 177.0/316.9 MB 54.4 MB/s eta 0:00:03\n",
      "     -------------------- ---------------- 179.8/316.9 MB 54.4 MB/s eta 0:00:03\n",
      "     --------------------- --------------- 182.6/316.9 MB 59.5 MB/s eta 0:00:03\n",
      "     --------------------- --------------- 185.3/316.9 MB 54.7 MB/s eta 0:00:03\n",
      "     --------------------- --------------- 188.2/316.9 MB 59.5 MB/s eta 0:00:03\n",
      "     ---------------------- -------------- 190.9/316.9 MB 54.4 MB/s eta 0:00:03\n",
      "     ---------------------- -------------- 192.9/316.9 MB 54.4 MB/s eta 0:00:03\n",
      "     ---------------------- -------------- 195.6/316.9 MB 54.4 MB/s eta 0:00:03\n",
      "     ----------------------- ------------- 198.0/316.9 MB 54.7 MB/s eta 0:00:03\n",
      "     ----------------------- ------------- 201.1/316.9 MB 59.5 MB/s eta 0:00:02\n",
      "     ----------------------- ------------- 203.9/316.9 MB 54.7 MB/s eta 0:00:03\n",
      "     ------------------------ ------------ 207.0/316.9 MB 59.5 MB/s eta 0:00:02\n",
      "     ------------------------ ------------ 209.6/316.9 MB 54.4 MB/s eta 0:00:02\n",
      "     ------------------------ ------------ 212.1/316.9 MB 54.7 MB/s eta 0:00:02\n",
      "     ------------------------- ----------- 214.9/316.9 MB 54.7 MB/s eta 0:00:02\n",
      "     ------------------------- ----------- 216.9/316.9 MB 50.4 MB/s eta 0:00:02\n",
      "     ------------------------- ----------- 219.9/316.9 MB 54.7 MB/s eta 0:00:02\n",
      "     -------------------------- ---------- 222.7/316.9 MB 54.4 MB/s eta 0:00:02\n",
      "     -------------------------- ---------- 225.5/316.9 MB 54.7 MB/s eta 0:00:02\n",
      "     -------------------------- ---------- 228.1/316.9 MB 54.7 MB/s eta 0:00:02\n",
      "     -------------------------- ---------- 231.0/316.9 MB 59.5 MB/s eta 0:00:02\n",
      "     --------------------------- --------- 234.0/316.9 MB 54.4 MB/s eta 0:00:02\n",
      "     --------------------------- --------- 236.5/316.9 MB 54.4 MB/s eta 0:00:02\n",
      "     --------------------------- --------- 239.3/316.9 MB 54.7 MB/s eta 0:00:02\n",
      "     ---------------------------- -------- 241.9/316.9 MB 54.7 MB/s eta 0:00:02\n",
      "     ---------------------------- -------- 244.5/316.9 MB 54.7 MB/s eta 0:00:02\n",
      "     ---------------------------- -------- 246.6/316.9 MB 50.4 MB/s eta 0:00:02\n",
      "     ----------------------------- ------- 249.8/316.9 MB 50.1 MB/s eta 0:00:02\n",
      "     ----------------------------- ------- 252.4/316.9 MB 54.7 MB/s eta 0:00:02\n",
      "     ----------------------------- ------- 255.6/316.9 MB 54.7 MB/s eta 0:00:02\n",
      "     ------------------------------ ------ 257.9/316.9 MB 59.5 MB/s eta 0:00:01\n",
      "     ------------------------------ ------ 260.2/316.9 MB 59.8 MB/s eta 0:00:01\n",
      "     ------------------------------ ------ 263.7/316.9 MB 65.6 MB/s eta 0:00:01\n",
      "     ------------------------------- ----- 266.3/316.9 MB 65.6 MB/s eta 0:00:01\n",
      "     ------------------------------- ----- 269.7/316.9 MB 59.5 MB/s eta 0:00:01\n",
      "     ------------------------------- ----- 272.7/316.9 MB 59.5 MB/s eta 0:00:01\n",
      "     -------------------------------- ---- 275.0/316.9 MB 59.8 MB/s eta 0:00:01\n",
      "     -------------------------------- ---- 278.0/316.9 MB 59.5 MB/s eta 0:00:01\n",
      "     -------------------------------- ---- 280.8/316.9 MB 65.2 MB/s eta 0:00:01\n",
      "     --------------------------------- --- 283.9/316.9 MB 59.5 MB/s eta 0:00:01\n",
      "     --------------------------------- --- 287.0/316.9 MB 59.5 MB/s eta 0:00:01\n",
      "     --------------------------------- --- 289.1/316.9 MB 59.5 MB/s eta 0:00:01\n",
      "     ---------------------------------- -- 292.1/316.9 MB 65.6 MB/s eta 0:00:01\n",
      "     ---------------------------------- -- 294.8/316.9 MB 59.5 MB/s eta 0:00:01\n",
      "     ---------------------------------- -- 297.7/316.9 MB 59.8 MB/s eta 0:00:01\n",
      "     ----------------------------------- - 300.5/316.9 MB 59.5 MB/s eta 0:00:01\n",
      "     ----------------------------------- - 302.6/316.9 MB 54.7 MB/s eta 0:00:01\n",
      "     ----------------------------------- - 304.7/316.9 MB 54.7 MB/s eta 0:00:01\n",
      "     ----------------------------------- - 307.1/316.9 MB 50.4 MB/s eta 0:00:01\n",
      "     ------------------------------------  310.1/316.9 MB 50.4 MB/s eta 0:00:01\n",
      "     ------------------------------------  312.9/316.9 MB 54.4 MB/s eta 0:00:01\n",
      "     ------------------------------------  315.9/316.9 MB 59.5 MB/s eta 0:00:01\n",
      "     ------------------------------------  316.9/316.9 MB 54.4 MB/s eta 0:00:01\n",
      "     ------------------------------------  316.9/316.9 MB 54.4 MB/s eta 0:00:01\n",
      "     ------------------------------------  316.9/316.9 MB 54.4 MB/s eta 0:00:01\n",
      "     ------------------------------------  316.9/316.9 MB 54.4 MB/s eta 0:00:01\n",
      "     ------------------------------------  316.9/316.9 MB 54.4 MB/s eta 0:00:01\n",
      "     ------------------------------------  316.9/316.9 MB 54.4 MB/s eta 0:00:01\n",
      "     ------------------------------------  316.9/316.9 MB 54.4 MB/s eta 0:00:01\n",
      "     ------------------------------------  316.9/316.9 MB 54.4 MB/s eta 0:00:01\n",
      "     ------------------------------------  316.9/316.9 MB 54.4 MB/s eta 0:00:01\n",
      "     ------------------------------------  316.9/316.9 MB 54.4 MB/s eta 0:00:01\n",
      "     ------------------------------------  316.9/316.9 MB 54.4 MB/s eta 0:00:01\n",
      "     ------------------------------------  316.9/316.9 MB 54.4 MB/s eta 0:00:01\n",
      "     ------------------------------------  316.9/316.9 MB 54.4 MB/s eta 0:00:01\n",
      "     ------------------------------------  316.9/316.9 MB 54.4 MB/s eta 0:00:01\n",
      "     -------------------------------------- 316.9/316.9 MB 9.1 MB/s eta 0:00:00\n",
      "  Preparing metadata (setup.py): started\n",
      "  Preparing metadata (setup.py): finished with status 'done'\n",
      "Collecting py4j==0.10.9.7 (from pyspark)\n",
      "  Downloading py4j-0.10.9.7-py2.py3-none-any.whl (200 kB)\n",
      "     ---------------------------------------- 0.0/200.5 kB ? eta -:--:--\n",
      "     ---------------------------------------- 200.5/200.5 kB ? eta 0:00:00\n",
      "Building wheels for collected packages: pyspark\n",
      "  Building wheel for pyspark (setup.py): started\n",
      "  Building wheel for pyspark (setup.py): finished with status 'done'\n",
      "  Created wheel for pyspark: filename=pyspark-3.5.0-py2.py3-none-any.whl size=317425384 sha256=015bee32b1a89693b4918b10417e6ac9f58622297e2e82cc0f8e16e90e6b4e21\n",
      "  Stored in directory: c:\\users\\veera\\appdata\\local\\pip\\cache\\wheels\\38\\df\\61\\8c121f50c3cffd77f8178180dd232d90b3b99d1bd61fb6d6be\n",
      "Successfully built pyspark\n",
      "Installing collected packages: py4j, pyspark\n",
      "Successfully installed py4j-0.10.9.7 pyspark-3.5.0\n"
     ]
    }
   ],
   "source": [
    "pip install pyspark"
   ]
  },
  {
   "cell_type": "code",
   "execution_count": 3,
   "metadata": {},
   "outputs": [],
   "source": [
    "from pyspark.sql import SparkSession"
   ]
  },
  {
   "cell_type": "markdown",
   "metadata": {},
   "source": [
    "2. Use this class to instiate a Spark session:\n",
    "\n",
    "```\n",
    "spark = SparkSession \\\n",
    "    .builder \\\n",
    "    .appName(\"My First PySpark App\") \\\n",
    "    .getOrCreate()\n",
    "```"
   ]
  },
  {
   "cell_type": "code",
   "execution_count": 4,
   "metadata": {},
   "outputs": [],
   "source": [
    "spark = SparkSession \\\n",
    "    .builder \\\n",
    "    .appName(\"My First PySpark App\") \\\n",
    "    .getOrCreate()"
   ]
  },
  {
   "cell_type": "markdown",
   "metadata": {},
   "source": [
    "3. Take a look at the session object:\n",
    "\n",
    "```\n",
    "spark\n",
    "```"
   ]
  },
  {
   "cell_type": "code",
   "execution_count": 5,
   "metadata": {},
   "outputs": [
    {
     "data": {
      "text/html": [
       "\n",
       "            <div>\n",
       "                <p><b>SparkSession - in-memory</b></p>\n",
       "                \n",
       "        <div>\n",
       "            <p><b>SparkContext</b></p>\n",
       "\n",
       "            <p><a href=\"http://muki.lan:4041\">Spark UI</a></p>\n",
       "\n",
       "            <dl>\n",
       "              <dt>Version</dt>\n",
       "                <dd><code>v3.5.0</code></dd>\n",
       "              <dt>Master</dt>\n",
       "                <dd><code>local[*]</code></dd>\n",
       "              <dt>AppName</dt>\n",
       "                <dd><code>My First PySpark App</code></dd>\n",
       "            </dl>\n",
       "        </div>\n",
       "        \n",
       "            </div>\n",
       "        "
      ],
      "text/plain": [
       "<pyspark.sql.session.SparkSession at 0x157e6758210>"
      ]
     },
     "execution_count": 5,
     "metadata": {},
     "output_type": "execute_result"
    }
   ],
   "source": [
    "spark"
   ]
  },
  {
   "cell_type": "code",
   "execution_count": 10,
   "metadata": {},
   "outputs": [],
   "source": [
    "from pyspark import SparkContext\n",
    "sc =spark.sparkContext"
   ]
  },
  {
   "cell_type": "markdown",
   "metadata": {},
   "source": [
    "4. Read the contents of a csv file into a Dataframe named 'accounts':\n",
    "\n",
    "```\n",
    "accounts = spark.read.option('header', 'true').csv('./data/accounts.csv')\n",
    "```"
   ]
  },
  {
   "cell_type": "code",
   "execution_count": 6,
   "metadata": {},
   "outputs": [],
   "source": [
    "accounts = spark.read.option('header', 'true').csv('./accounts.csv')"
   ]
  },
  {
   "cell_type": "markdown",
   "metadata": {},
   "source": [
    "5. Take a look at the Dataframe's schema:\n",
    "\n",
    "```\n",
    "accounts.printSchema()\n",
    "```"
   ]
  },
  {
   "cell_type": "code",
   "execution_count": 13,
   "metadata": {},
   "outputs": [
    {
     "name": "stdout",
     "output_type": "stream",
     "text": [
      "root\n",
      " |-- account_number: string (nullable = true)\n",
      " |-- aba: string (nullable = true)\n",
      " |-- bic: string (nullable = true)\n",
      " |-- opened: string (nullable = true)\n",
      " |-- balance: string (nullable = true)\n",
      "\n"
     ]
    }
   ],
   "source": [
    "accounts.printSchema()"
   ]
  },
  {
   "cell_type": "code",
   "execution_count": 12,
   "metadata": {},
   "outputs": [],
   "source": [
    "numbers = sc.parallelize(list(range(15)))"
   ]
  },
  {
   "cell_type": "markdown",
   "metadata": {},
   "source": [
    "6. Read the contents of a parquet file into a variable:\n",
    "```\n",
    "transactions = spark.read.option('header', True).parquet('./data/transactions.parquet')\n",
    "```"
   ]
  },
  {
   "cell_type": "code",
   "execution_count": 14,
   "metadata": {},
   "outputs": [],
   "source": [
    "transactions = spark.read.option('header',True).parquet('./transactions.parquet')"
   ]
  },
  {
   "cell_type": "markdown",
   "metadata": {},
   "source": [
    "7. See how many rows are in the new Dataframe:\n",
    "```\n",
    "transactions.count()\n",
    "```"
   ]
  },
  {
   "cell_type": "markdown",
   "metadata": {},
   "source": [
    "8. Make a new Dataframe by grouping the transactions by account number and summing the groups. This will combine the transactions per account:\n",
    "\n",
    "```\n",
    "account_transactions = transactions.groupby('account_number').sum()\n",
    "```"
   ]
  },
  {
   "cell_type": "code",
   "execution_count": 15,
   "metadata": {},
   "outputs": [
    {
     "data": {
      "text/plain": [
       "1000000"
      ]
     },
     "execution_count": 15,
     "metadata": {},
     "output_type": "execute_result"
    }
   ],
   "source": [
    "transactions.count()"
   ]
  },
  {
   "cell_type": "markdown",
   "metadata": {},
   "source": [
    "9. Combine the accounts with the summed transaction values:\n",
    "\n",
    "```\n",
    "with_sum = accounts.join(account_transactions, 'account_number', 'inner')\n",
    "```"
   ]
  },
  {
   "cell_type": "code",
   "execution_count": 17,
   "metadata": {},
   "outputs": [],
   "source": [
    "with_sum = accounts.join(transactions, 'account_number', 'inner')"
   ]
  },
  {
   "cell_type": "code",
   "execution_count": 21,
   "metadata": {},
   "outputs": [
    {
     "data": {
      "text/plain": [
       "['account_number', 'aba', 'bic', 'opened', 'balance', 'amount', 'datetime']"
      ]
     },
     "execution_count": 21,
     "metadata": {},
     "output_type": "execute_result"
    }
   ],
   "source": [
    "with_sum.columns"
   ]
  },
  {
   "cell_type": "markdown",
   "metadata": {},
   "source": [
    "10. Get the current balance per account by summing the transaction sums with the initial account balance:\n",
    "\n",
    "```\n",
    "accounts = with_sum.withColumn('new_balance', sum([with_sum.balance, with_sum['sum(amount)']]))\n",
    "```"
   ]
  },
  {
   "cell_type": "code",
   "execution_count": 23,
   "metadata": {},
   "outputs": [],
   "source": [
    "accounts = with_sum.withColumn('new_balance', sum([with_sum.balance, with_sum.amount]))"
   ]
  },
  {
   "cell_type": "markdown",
   "metadata": {},
   "source": [
    "11. Get accounts with negative current balances:\n",
    "\n",
    "```\n",
    "neg_balance = accounts.filter(accounts.new_balance < 0)\n",
    "```"
   ]
  },
  {
   "cell_type": "code",
   "execution_count": 24,
   "metadata": {},
   "outputs": [],
   "source": [
    "neg_balance = accounts.filter(accounts.new_balance < 0)"
   ]
  },
  {
   "cell_type": "markdown",
   "metadata": {},
   "source": [
    "12. Read client data from a json file:\n",
    "\n",
    "```\n",
    "clients = spark.read.json('./data/clients.json')\n",
    "```"
   ]
  },
  {
   "cell_type": "code",
   "execution_count": 25,
   "metadata": {},
   "outputs": [],
   "source": [
    "clients = spark.read.json('./clients.json')"
   ]
  },
  {
   "cell_type": "markdown",
   "metadata": {},
   "source": [
    "13. Get the clients with a negative balance:\n",
    "\n",
    "```\n",
    "clients = clients.join(neg_balance, 'account_number', 'inner')\n",
    "```"
   ]
  },
  {
   "cell_type": "code",
   "execution_count": 27,
   "metadata": {},
   "outputs": [],
   "source": [
    "clients = clients.join(neg_balance,'account_number','inner')"
   ]
  },
  {
   "cell_type": "markdown",
   "metadata": {},
   "source": [
    "14. Look at the top five clients with negative balances:\n",
    "\n",
    "```\n",
    "clients.select(['first_name', 'last_name', 'account_number', 'new_balance']).show(5)\n",
    "```"
   ]
  },
  {
   "cell_type": "code",
   "execution_count": 28,
   "metadata": {},
   "outputs": [
    {
     "name": "stdout",
     "output_type": "stream",
     "text": [
      "+----------+---------+------------------+-----------+\n",
      "|first_name|last_name|    account_number|new_balance|\n",
      "+----------+---------+------------------+-----------+\n",
      "|    Jeremy|     Lane|KIJB69632401909582|    -1945.0|\n",
      "|     Donna|    Johns|SSPR63654758238509|     -493.0|\n",
      "|     Riley|    Green|VWRD72378313231126|    -3097.0|\n",
      "|    Andres|     Leon|BNBJ15185037618068|     -403.0|\n",
      "|   Jeffery|   Weaver|OIFO27569232151018|    -4699.0|\n",
      "+----------+---------+------------------+-----------+\n",
      "only showing top 5 rows\n",
      "\n"
     ]
    }
   ],
   "source": [
    "clients.select(['first_name', 'last_name', 'account_number', 'new_balance']).show(5)"
   ]
  }
 ],
 "metadata": {
  "kernelspec": {
   "display_name": "Python 3",
   "language": "python",
   "name": "python3"
  },
  "language_info": {
   "codemirror_mode": {
    "name": "ipython",
    "version": 3
   },
   "file_extension": ".py",
   "mimetype": "text/x-python",
   "name": "python",
   "nbconvert_exporter": "python",
   "pygments_lexer": "ipython3",
   "version": "3.11.5"
  }
 },
 "nbformat": 4,
 "nbformat_minor": 4
}
